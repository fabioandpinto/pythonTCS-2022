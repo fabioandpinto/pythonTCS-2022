{
 "cells": [
  {
   "cell_type": "markdown",
   "metadata": {},
   "source": [
    "## Pandas \n",
    "- Es un libreria especializada en manejo y analisis de estructuras de datos \n",
    "- Crea dos nuevas estructuras de datos: Series y los Dataframes \n",
    "- Permite la lectura de archivos estructurados (CSV, excel, sql, html, xml, json) \n",
    "- Permite indexar y manipular los conjuntos de datos. \n",
    "\n",
    "\n"
   ]
  },
  {
   "cell_type": "markdown",
   "metadata": {},
   "source": [
    "Estructuras de pandas\n",
    "- Serie: de una dimensión \n",
    "- Dataframe: dos dimensiones (tablas) \n",
    "- Panel: estructura de tres dimensiones (cubo) \n"
   ]
  },
  {
   "cell_type": "markdown",
   "metadata": {},
   "source": [
    "### Series en Pandas\n",
    "- Estructuras como los arrays, solo que tendrán un índice diferente a ubicación \n",
    "\n",
    "- ARRAY: 0              1           2            3   \n",
    "- notas: 5              3           4            5   \n",
    "- SERIE: Matematicas    fisica      Quimica      Arte"
   ]
  },
  {
   "cell_type": "code",
   "execution_count": 25,
   "metadata": {
    "scrolled": true
   },
   "outputs": [
    {
     "name": "stdout",
     "output_type": "stream",
     "text": [
      "0            Arte\n",
      "1    Programación\n",
      "2     Matemáticas\n",
      "3          Física\n",
      "4         Química\n",
      "dtype: object\n"
     ]
    }
   ],
   "source": [
    "## lista de materias \n",
    "import pandas as pd # alias mas comun \n",
    "\n",
    "## pd.Series(data = lista, index = indices, dtype = tipo) \n",
    "\n",
    "materias = ['Arte', 'Programación', 'Matemáticas', 'Física', 'Química']\n",
    "notas = [2, 2, 2.8, 3.2, 3.6]\n",
    "\n",
    "serieMaterias = pd.Series(materias)\n",
    "print(serieMaterias)"
   ]
  },
  {
   "cell_type": "code",
   "execution_count": 26,
   "metadata": {},
   "outputs": [
    {
     "name": "stdout",
     "output_type": "stream",
     "text": [
      "Arte            2.0\n",
      "Programación    2.0\n",
      "Matemáticas     2.8\n",
      "Física          3.2\n",
      "Química         3.6\n",
      "dtype: float64\n"
     ]
    }
   ],
   "source": [
    "serieNotas=pd.Series(data = notas, index = materias)\n",
    "print(serieNotas)"
   ]
  },
  {
   "cell_type": "code",
   "execution_count": 4,
   "metadata": {},
   "outputs": [
    {
     "data": {
      "text/plain": [
       "5"
      ]
     },
     "execution_count": 4,
     "metadata": {},
     "output_type": "execute_result"
    }
   ],
   "source": [
    "## Atributos de una serie \n",
    "\n",
    "# número de elementos\n",
    "serieNotas.size"
   ]
  },
  {
   "cell_type": "code",
   "execution_count": 10,
   "metadata": {},
   "outputs": [
    {
     "name": "stdout",
     "output_type": "stream",
     "text": [
      "Index(['Arte', 'Programación', 'Matemáticas', 'Física', 'Química'], dtype='object')\n"
     ]
    }
   ],
   "source": [
    "# indices de la serie\n",
    "mates = serieNotas.index\n",
    "print(mates)"
   ]
  },
  {
   "cell_type": "code",
   "execution_count": 11,
   "metadata": {},
   "outputs": [
    {
     "name": "stdout",
     "output_type": "stream",
     "text": [
      "Física\n"
     ]
    }
   ],
   "source": [
    "print(mates[3])"
   ]
  },
  {
   "cell_type": "code",
   "execution_count": 12,
   "metadata": {},
   "outputs": [
    {
     "name": "stdout",
     "output_type": "stream",
     "text": [
      "0\n",
      "1\n",
      "2\n",
      "3\n",
      "4\n"
     ]
    }
   ],
   "source": [
    "sm = serieMaterias.index #indice en rango \n",
    "\n",
    "for i in sm:\n",
    "    print(i)"
   ]
  },
  {
   "cell_type": "code",
   "execution_count": 13,
   "metadata": {},
   "outputs": [
    {
     "data": {
      "text/plain": [
       "dtype('float64')"
      ]
     },
     "execution_count": 13,
     "metadata": {},
     "output_type": "execute_result"
    }
   ],
   "source": [
    "serieNotas.dtype"
   ]
  },
  {
   "cell_type": "code",
   "execution_count": 15,
   "metadata": {},
   "outputs": [
    {
     "data": {
      "text/plain": [
       "dtype('O')"
      ]
     },
     "execution_count": 15,
     "metadata": {},
     "output_type": "execute_result"
    }
   ],
   "source": [
    "serieMaterias.dtype"
   ]
  },
  {
   "cell_type": "markdown",
   "metadata": {},
   "source": [
    "### Acceder a los elementos de una Serie"
   ]
  },
  {
   "cell_type": "code",
   "execution_count": 18,
   "metadata": {},
   "outputs": [
    {
     "data": {
      "text/plain": [
       "'Matemáticas'"
      ]
     },
     "execution_count": 18,
     "metadata": {},
     "output_type": "execute_result"
    }
   ],
   "source": [
    "## Acceder por el indice o por la posicion \n",
    "serieNotas[2] #indexacion por la posicion \n",
    "serieMaterias[2] #indexacion por la posicion "
   ]
  },
  {
   "cell_type": "code",
   "execution_count": 19,
   "metadata": {},
   "outputs": [
    {
     "data": {
      "text/plain": [
       "2.8"
      ]
     },
     "execution_count": 19,
     "metadata": {},
     "output_type": "execute_result"
    }
   ],
   "source": [
    "serieNotas['Matemáticas']"
   ]
  },
  {
   "cell_type": "code",
   "execution_count": 20,
   "metadata": {},
   "outputs": [
    {
     "data": {
      "text/plain": [
       "Matemáticas    2.8\n",
       "Arte           3.5\n",
       "dtype: float64"
      ]
     },
     "execution_count": 20,
     "metadata": {},
     "output_type": "execute_result"
    }
   ],
   "source": [
    "serieNotas[['Matemáticas', 'Arte']]"
   ]
  },
  {
   "cell_type": "markdown",
   "metadata": {},
   "source": [
    "### Atributos de la serie "
   ]
  },
  {
   "cell_type": "code",
   "execution_count": 22,
   "metadata": {},
   "outputs": [
    {
     "data": {
      "text/plain": [
       "5"
      ]
     },
     "execution_count": 22,
     "metadata": {},
     "output_type": "execute_result"
    }
   ],
   "source": [
    "# contar el numero de elementos \n",
    "serieNotas.count()"
   ]
  },
  {
   "cell_type": "code",
   "execution_count": 23,
   "metadata": {},
   "outputs": [
    {
     "data": {
      "text/plain": [
       "17.1"
      ]
     },
     "execution_count": 23,
     "metadata": {},
     "output_type": "execute_result"
    }
   ],
   "source": [
    "serieNotas.sum()"
   ]
  },
  {
   "cell_type": "code",
   "execution_count": 27,
   "metadata": {},
   "outputs": [
    {
     "data": {
      "text/plain": [
       "2.0    2\n",
       "3.2    1\n",
       "2.8    1\n",
       "3.6    1\n",
       "dtype: int64"
      ]
     },
     "execution_count": 27,
     "metadata": {},
     "output_type": "execute_result"
    }
   ],
   "source": [
    "serieNotas.value_counts() #obtener la frecuencia de cada elemento de la serie "
   ]
  },
  {
   "cell_type": "code",
   "execution_count": 28,
   "metadata": {},
   "outputs": [
    {
     "data": {
      "text/plain": [
       "2.0"
      ]
     },
     "execution_count": 28,
     "metadata": {},
     "output_type": "execute_result"
    }
   ],
   "source": [
    "serieNotas.min()"
   ]
  },
  {
   "cell_type": "code",
   "execution_count": 29,
   "metadata": {},
   "outputs": [
    {
     "data": {
      "text/plain": [
       "3.6"
      ]
     },
     "execution_count": 29,
     "metadata": {},
     "output_type": "execute_result"
    }
   ],
   "source": [
    "serieNotas.max()"
   ]
  },
  {
   "cell_type": "code",
   "execution_count": 31,
   "metadata": {},
   "outputs": [
    {
     "data": {
      "text/plain": [
       "count    5.000000\n",
       "mean     2.720000\n",
       "std      0.715542\n",
       "min      2.000000\n",
       "25%      2.000000\n",
       "50%      2.800000\n",
       "75%      3.200000\n",
       "max      3.600000\n",
       "dtype: float64"
      ]
     },
     "execution_count": 31,
     "metadata": {},
     "output_type": "execute_result"
    }
   ],
   "source": [
    "serieNotas.describe() #estadísticas descriptivas "
   ]
  },
  {
   "cell_type": "code",
   "execution_count": 33,
   "metadata": {},
   "outputs": [
    {
     "data": {
      "text/plain": [
       "Arte             4.00\n",
       "Programación     4.00\n",
       "Matemáticas      7.84\n",
       "Física          10.24\n",
       "Química         12.96\n",
       "dtype: float64"
      ]
     },
     "execution_count": 33,
     "metadata": {},
     "output_type": "execute_result"
    }
   ],
   "source": [
    "serieNotas**2"
   ]
  },
  {
   "cell_type": "markdown",
   "metadata": {},
   "source": [
    "###### Aplicando funciones a las series"
   ]
  },
  {
   "cell_type": "code",
   "execution_count": 35,
   "metadata": {},
   "outputs": [
    {
     "data": {
      "text/plain": [
       "Arte            1.414214\n",
       "Programación    1.414214\n",
       "Matemáticas     1.673320\n",
       "Física          1.788854\n",
       "Química         1.897367\n",
       "dtype: float64"
      ]
     },
     "execution_count": 35,
     "metadata": {},
     "output_type": "execute_result"
    }
   ],
   "source": [
    "## apply - aplicar un procedimiento a cada elemento de la serie \n",
    "import math\n",
    "## Quiero hallar la raiz cuadrada de mis notas \n",
    "serieNotas.apply(math.sqrt)\n"
   ]
  },
  {
   "cell_type": "code",
   "execution_count": 40,
   "metadata": {},
   "outputs": [
    {
     "data": {
      "text/plain": [
       "0            ARTE\n",
       "1    PROGRAMACIÓN\n",
       "2     MATEMÁTICAS\n",
       "3          FÍSICA\n",
       "4         QUÍMICA\n",
       "dtype: object"
      ]
     },
     "execution_count": 40,
     "metadata": {},
     "output_type": "execute_result"
    }
   ],
   "source": [
    "serieMaterias.apply(str.upper)"
   ]
  },
  {
   "cell_type": "code",
   "execution_count": 42,
   "metadata": {},
   "outputs": [
    {
     "data": {
      "text/plain": [
       "Física     3.2\n",
       "Química    3.6\n",
       "dtype: float64"
      ]
     },
     "execution_count": 42,
     "metadata": {},
     "output_type": "execute_result"
    }
   ],
   "source": [
    "serieNotas[serieNotas>3] # filtrando la serie"
   ]
  },
  {
   "cell_type": "code",
   "execution_count": 48,
   "metadata": {},
   "outputs": [
    {
     "data": {
      "text/plain": [
       "0            Arte\n",
       "3          Física\n",
       "2     Matemáticas\n",
       "1    Programación\n",
       "4         Química\n",
       "dtype: object"
      ]
     },
     "execution_count": 48,
     "metadata": {},
     "output_type": "execute_result"
    }
   ],
   "source": [
    "serieMaterias = serieMaterias.sort_values()\n",
    "serieMaterias"
   ]
  },
  {
   "cell_type": "markdown",
   "metadata": {},
   "source": [
    "### Dataframes"
   ]
  },
  {
   "cell_type": "markdown",
   "metadata": {},
   "source": [
    "- Son estructuras de datos de dos dimensiones, con doble indice \n",
    "- Filas - Columnas \n"
   ]
  },
  {
   "cell_type": "code",
   "execution_count": 78,
   "metadata": {},
   "outputs": [],
   "source": [
    "# Creación de un dataframe \n",
    "    # de un diccionario \n",
    "    # de una lista de listas \n",
    "    # Array \n",
    "    # Cargando un archivo externo "
   ]
  },
  {
   "cell_type": "code",
   "execution_count": 79,
   "metadata": {},
   "outputs": [
    {
     "data": {
      "text/plain": [
       "[[2, 2], [3, 2], [6, 8], [5, 0]]"
      ]
     },
     "execution_count": 79,
     "metadata": {},
     "output_type": "execute_result"
    }
   ],
   "source": []
  },
  {
   "cell_type": "code",
   "execution_count": 92,
   "metadata": {},
   "outputs": [
    {
     "data": {
      "text/html": [
       "<div>\n",
       "<style scoped>\n",
       "    .dataframe tbody tr th:only-of-type {\n",
       "        vertical-align: middle;\n",
       "    }\n",
       "\n",
       "    .dataframe tbody tr th {\n",
       "        vertical-align: top;\n",
       "    }\n",
       "\n",
       "    .dataframe thead th {\n",
       "        text-align: right;\n",
       "    }\n",
       "</style>\n",
       "<table border=\"1\" class=\"dataframe\">\n",
       "  <thead>\n",
       "    <tr style=\"text-align: right;\">\n",
       "      <th></th>\n",
       "      <th>Casos</th>\n",
       "      <th>Edades</th>\n",
       "      <th>Col3</th>\n",
       "      <th>Co04</th>\n",
       "    </tr>\n",
       "  </thead>\n",
       "  <tbody>\n",
       "    <tr>\n",
       "      <th>25</th>\n",
       "      <td>2</td>\n",
       "      <td>2</td>\n",
       "      <td>2</td>\n",
       "      <td>3</td>\n",
       "    </tr>\n",
       "    <tr>\n",
       "      <th>36</th>\n",
       "      <td>3</td>\n",
       "      <td>2</td>\n",
       "      <td>6</td>\n",
       "      <td>9</td>\n",
       "    </tr>\n",
       "    <tr>\n",
       "      <th>65</th>\n",
       "      <td>6</td>\n",
       "      <td>8</td>\n",
       "      <td>8</td>\n",
       "      <td>5</td>\n",
       "    </tr>\n",
       "    <tr>\n",
       "      <th>68</th>\n",
       "      <td>5</td>\n",
       "      <td>0</td>\n",
       "      <td>5</td>\n",
       "      <td>9</td>\n",
       "    </tr>\n",
       "  </tbody>\n",
       "</table>\n",
       "</div>"
      ],
      "text/plain": [
       "    Casos  Edades  Col3  Co04\n",
       "25      2       2     2     3\n",
       "36      3       2     6     9\n",
       "65      6       8     8     5\n",
       "68      5       0     5     9"
      ]
     },
     "execution_count": 92,
     "metadata": {},
     "output_type": "execute_result"
    }
   ],
   "source": [
    "dataframe0 = pd.DataFrame([[2,2,2,3], [3,2,6,9] , [6,8,8,5] , [5,0,5,9]],index = [25, 36, 65 , 68], columns = ['Casos', 'Edades', 'Col3', 'Co04'])\n",
    "dataframe0"
   ]
  },
  {
   "cell_type": "code",
   "execution_count": 52,
   "metadata": {},
   "outputs": [
    {
     "name": "stdout",
     "output_type": "stream",
     "text": [
      "{'Nombre': ['Valentina', 'Verónica', 'Iván', 'Andrés'], 'Edad': [19, 23, 22, 28], 'Semestre': [1, 3, 2, 9]}\n"
     ]
    }
   ],
   "source": [
    "## Creando desde un diccionario \n",
    "import pandas as pd \n",
    "\n",
    "datos = {\n",
    "    'Nombre': ['Valentina', 'Verónica', 'Iván', 'Andrés']  , \n",
    "    'Edad': [19, 23, 22, 28],\n",
    "    'Semestre': [1 , 3, 2, 9]    \n",
    "}\n",
    "\n",
    "print(datos)"
   ]
  },
  {
   "cell_type": "code",
   "execution_count": 54,
   "metadata": {},
   "outputs": [
    {
     "data": {
      "text/html": [
       "<div>\n",
       "<style scoped>\n",
       "    .dataframe tbody tr th:only-of-type {\n",
       "        vertical-align: middle;\n",
       "    }\n",
       "\n",
       "    .dataframe tbody tr th {\n",
       "        vertical-align: top;\n",
       "    }\n",
       "\n",
       "    .dataframe thead th {\n",
       "        text-align: right;\n",
       "    }\n",
       "</style>\n",
       "<table border=\"1\" class=\"dataframe\">\n",
       "  <thead>\n",
       "    <tr style=\"text-align: right;\">\n",
       "      <th></th>\n",
       "      <th>Nombre</th>\n",
       "      <th>Edad</th>\n",
       "      <th>Semestre</th>\n",
       "    </tr>\n",
       "  </thead>\n",
       "  <tbody>\n",
       "    <tr>\n",
       "      <th>0</th>\n",
       "      <td>Valentina</td>\n",
       "      <td>19</td>\n",
       "      <td>1</td>\n",
       "    </tr>\n",
       "    <tr>\n",
       "      <th>1</th>\n",
       "      <td>Verónica</td>\n",
       "      <td>23</td>\n",
       "      <td>3</td>\n",
       "    </tr>\n",
       "    <tr>\n",
       "      <th>2</th>\n",
       "      <td>Iván</td>\n",
       "      <td>22</td>\n",
       "      <td>2</td>\n",
       "    </tr>\n",
       "    <tr>\n",
       "      <th>3</th>\n",
       "      <td>Andrés</td>\n",
       "      <td>28</td>\n",
       "      <td>9</td>\n",
       "    </tr>\n",
       "  </tbody>\n",
       "</table>\n",
       "</div>"
      ],
      "text/plain": [
       "      Nombre  Edad  Semestre\n",
       "0  Valentina    19         1\n",
       "1   Verónica    23         3\n",
       "2       Iván    22         2\n",
       "3     Andrés    28         9"
      ]
     },
     "execution_count": 54,
     "metadata": {},
     "output_type": "execute_result"
    }
   ],
   "source": [
    "dataframe1 = pd.DataFrame(datos)\n",
    "dataframe1"
   ]
  },
  {
   "cell_type": "code",
   "execution_count": 97,
   "metadata": {},
   "outputs": [
    {
     "data": {
      "text/html": [
       "<div>\n",
       "<style scoped>\n",
       "    .dataframe tbody tr th:only-of-type {\n",
       "        vertical-align: middle;\n",
       "    }\n",
       "\n",
       "    .dataframe tbody tr th {\n",
       "        vertical-align: top;\n",
       "    }\n",
       "\n",
       "    .dataframe thead th {\n",
       "        text-align: right;\n",
       "    }\n",
       "</style>\n",
       "<table border=\"1\" class=\"dataframe\">\n",
       "  <thead>\n",
       "    <tr style=\"text-align: right;\">\n",
       "      <th></th>\n",
       "      <th>c1</th>\n",
       "      <th>c2</th>\n",
       "      <th>c3</th>\n",
       "    </tr>\n",
       "  </thead>\n",
       "  <tbody>\n",
       "    <tr>\n",
       "      <th>0</th>\n",
       "      <td>0.411355</td>\n",
       "      <td>0.459070</td>\n",
       "      <td>0.291822</td>\n",
       "    </tr>\n",
       "    <tr>\n",
       "      <th>1</th>\n",
       "      <td>0.173640</td>\n",
       "      <td>0.184873</td>\n",
       "      <td>0.357972</td>\n",
       "    </tr>\n",
       "    <tr>\n",
       "      <th>2</th>\n",
       "      <td>0.583035</td>\n",
       "      <td>0.449552</td>\n",
       "      <td>0.705104</td>\n",
       "    </tr>\n",
       "    <tr>\n",
       "      <th>3</th>\n",
       "      <td>0.504786</td>\n",
       "      <td>0.741154</td>\n",
       "      <td>0.498679</td>\n",
       "    </tr>\n",
       "  </tbody>\n",
       "</table>\n",
       "</div>"
      ],
      "text/plain": [
       "         c1        c2        c3\n",
       "0  0.411355  0.459070  0.291822\n",
       "1  0.173640  0.184873  0.357972\n",
       "2  0.583035  0.449552  0.705104\n",
       "3  0.504786  0.741154  0.498679"
      ]
     },
     "execution_count": 97,
     "metadata": {},
     "output_type": "execute_result"
    }
   ],
   "source": [
    "import numpy as np\n",
    "vv = np.random.random([4,3])\n",
    "\n",
    "dataframe2 = pd.DataFrame(vv, columns=['c1', 'c2', 'c3'])\n",
    "dataframe2"
   ]
  },
  {
   "cell_type": "markdown",
   "metadata": {},
   "source": [
    "##### Importar dataframes desde archivos CSV y Excel \n"
   ]
  },
  {
   "cell_type": "code",
   "execution_count": 100,
   "metadata": {},
   "outputs": [
    {
     "data": {
      "text/html": [
       "<div>\n",
       "<style scoped>\n",
       "    .dataframe tbody tr th:only-of-type {\n",
       "        vertical-align: middle;\n",
       "    }\n",
       "\n",
       "    .dataframe tbody tr th {\n",
       "        vertical-align: top;\n",
       "    }\n",
       "\n",
       "    .dataframe thead th {\n",
       "        text-align: right;\n",
       "    }\n",
       "</style>\n",
       "<table border=\"1\" class=\"dataframe\">\n",
       "  <thead>\n",
       "    <tr style=\"text-align: right;\">\n",
       "      <th></th>\n",
       "      <th>Month</th>\n",
       "      <th>Day_of_month</th>\n",
       "      <th>Day_of_week</th>\n",
       "      <th>ozone_reading</th>\n",
       "      <th>pressure_height</th>\n",
       "      <th>Wind_speed</th>\n",
       "      <th>Humidity</th>\n",
       "      <th>Temperature_Sandburg</th>\n",
       "      <th>Temperature_ElMonte</th>\n",
       "      <th>Inversion_base_height</th>\n",
       "      <th>Pressure_gradient</th>\n",
       "      <th>Inversion_temperature</th>\n",
       "      <th>Visibility</th>\n",
       "    </tr>\n",
       "  </thead>\n",
       "  <tbody>\n",
       "    <tr>\n",
       "      <th>0</th>\n",
       "      <td>1</td>\n",
       "      <td>1</td>\n",
       "      <td>4</td>\n",
       "      <td>3.01</td>\n",
       "      <td>5480.0</td>\n",
       "      <td>8</td>\n",
       "      <td>20.0</td>\n",
       "      <td>NaN</td>\n",
       "      <td>NaN</td>\n",
       "      <td>5000.0</td>\n",
       "      <td>-15.0</td>\n",
       "      <td>30.56</td>\n",
       "      <td>200</td>\n",
       "    </tr>\n",
       "    <tr>\n",
       "      <th>1</th>\n",
       "      <td>1</td>\n",
       "      <td>2</td>\n",
       "      <td>5</td>\n",
       "      <td>3.20</td>\n",
       "      <td>5660.0</td>\n",
       "      <td>6</td>\n",
       "      <td>NaN</td>\n",
       "      <td>38.0</td>\n",
       "      <td>NaN</td>\n",
       "      <td>NaN</td>\n",
       "      <td>-14.0</td>\n",
       "      <td>NaN</td>\n",
       "      <td>300</td>\n",
       "    </tr>\n",
       "    <tr>\n",
       "      <th>2</th>\n",
       "      <td>1</td>\n",
       "      <td>3</td>\n",
       "      <td>6</td>\n",
       "      <td>2.70</td>\n",
       "      <td>5710.0</td>\n",
       "      <td>4</td>\n",
       "      <td>28.0</td>\n",
       "      <td>40.0</td>\n",
       "      <td>NaN</td>\n",
       "      <td>2693.0</td>\n",
       "      <td>-25.0</td>\n",
       "      <td>47.66</td>\n",
       "      <td>250</td>\n",
       "    </tr>\n",
       "    <tr>\n",
       "      <th>3</th>\n",
       "      <td>1</td>\n",
       "      <td>4</td>\n",
       "      <td>7</td>\n",
       "      <td>5.18</td>\n",
       "      <td>5700.0</td>\n",
       "      <td>3</td>\n",
       "      <td>37.0</td>\n",
       "      <td>45.0</td>\n",
       "      <td>NaN</td>\n",
       "      <td>590.0</td>\n",
       "      <td>-24.0</td>\n",
       "      <td>55.04</td>\n",
       "      <td>100</td>\n",
       "    </tr>\n",
       "    <tr>\n",
       "      <th>4</th>\n",
       "      <td>1</td>\n",
       "      <td>5</td>\n",
       "      <td>1</td>\n",
       "      <td>5.34</td>\n",
       "      <td>5760.0</td>\n",
       "      <td>3</td>\n",
       "      <td>51.0</td>\n",
       "      <td>54.0</td>\n",
       "      <td>45.32</td>\n",
       "      <td>1450.0</td>\n",
       "      <td>25.0</td>\n",
       "      <td>57.02</td>\n",
       "      <td>60</td>\n",
       "    </tr>\n",
       "    <tr>\n",
       "      <th>...</th>\n",
       "      <td>...</td>\n",
       "      <td>...</td>\n",
       "      <td>...</td>\n",
       "      <td>...</td>\n",
       "      <td>...</td>\n",
       "      <td>...</td>\n",
       "      <td>...</td>\n",
       "      <td>...</td>\n",
       "      <td>...</td>\n",
       "      <td>...</td>\n",
       "      <td>...</td>\n",
       "      <td>...</td>\n",
       "      <td>...</td>\n",
       "    </tr>\n",
       "    <tr>\n",
       "      <th>361</th>\n",
       "      <td>12</td>\n",
       "      <td>27</td>\n",
       "      <td>1</td>\n",
       "      <td>1.74</td>\n",
       "      <td>5730.0</td>\n",
       "      <td>3</td>\n",
       "      <td>53.0</td>\n",
       "      <td>51.0</td>\n",
       "      <td>49.28</td>\n",
       "      <td>111.0</td>\n",
       "      <td>-14.0</td>\n",
       "      <td>72.50</td>\n",
       "      <td>200</td>\n",
       "    </tr>\n",
       "    <tr>\n",
       "      <th>362</th>\n",
       "      <td>12</td>\n",
       "      <td>28</td>\n",
       "      <td>2</td>\n",
       "      <td>2.69</td>\n",
       "      <td>5690.0</td>\n",
       "      <td>3</td>\n",
       "      <td>23.0</td>\n",
       "      <td>51.0</td>\n",
       "      <td>49.28</td>\n",
       "      <td>5000.0</td>\n",
       "      <td>-36.0</td>\n",
       "      <td>51.26</td>\n",
       "      <td>70</td>\n",
       "    </tr>\n",
       "    <tr>\n",
       "      <th>363</th>\n",
       "      <td>12</td>\n",
       "      <td>29</td>\n",
       "      <td>3</td>\n",
       "      <td>5.05</td>\n",
       "      <td>5650.0</td>\n",
       "      <td>3</td>\n",
       "      <td>61.0</td>\n",
       "      <td>50.0</td>\n",
       "      <td>46.58</td>\n",
       "      <td>3704.0</td>\n",
       "      <td>18.0</td>\n",
       "      <td>46.94</td>\n",
       "      <td>40</td>\n",
       "    </tr>\n",
       "    <tr>\n",
       "      <th>364</th>\n",
       "      <td>12</td>\n",
       "      <td>30</td>\n",
       "      <td>4</td>\n",
       "      <td>0.72</td>\n",
       "      <td>5550.0</td>\n",
       "      <td>4</td>\n",
       "      <td>85.0</td>\n",
       "      <td>39.0</td>\n",
       "      <td>41.00</td>\n",
       "      <td>5000.0</td>\n",
       "      <td>8.0</td>\n",
       "      <td>39.92</td>\n",
       "      <td>100</td>\n",
       "    </tr>\n",
       "    <tr>\n",
       "      <th>365</th>\n",
       "      <td>12</td>\n",
       "      <td>31</td>\n",
       "      <td>5</td>\n",
       "      <td>1.67</td>\n",
       "      <td>NaN</td>\n",
       "      <td>4</td>\n",
       "      <td>68.0</td>\n",
       "      <td>37.0</td>\n",
       "      <td>NaN</td>\n",
       "      <td>5000.0</td>\n",
       "      <td>-3.0</td>\n",
       "      <td>37.22</td>\n",
       "      <td>70</td>\n",
       "    </tr>\n",
       "  </tbody>\n",
       "</table>\n",
       "<p>366 rows × 13 columns</p>\n",
       "</div>"
      ],
      "text/plain": [
       "     Month  Day_of_month  Day_of_week  ozone_reading  pressure_height  \\\n",
       "0        1             1            4           3.01           5480.0   \n",
       "1        1             2            5           3.20           5660.0   \n",
       "2        1             3            6           2.70           5710.0   \n",
       "3        1             4            7           5.18           5700.0   \n",
       "4        1             5            1           5.34           5760.0   \n",
       "..     ...           ...          ...            ...              ...   \n",
       "361     12            27            1           1.74           5730.0   \n",
       "362     12            28            2           2.69           5690.0   \n",
       "363     12            29            3           5.05           5650.0   \n",
       "364     12            30            4           0.72           5550.0   \n",
       "365     12            31            5           1.67              NaN   \n",
       "\n",
       "     Wind_speed  Humidity  Temperature_Sandburg  Temperature_ElMonte  \\\n",
       "0             8      20.0                   NaN                  NaN   \n",
       "1             6       NaN                  38.0                  NaN   \n",
       "2             4      28.0                  40.0                  NaN   \n",
       "3             3      37.0                  45.0                  NaN   \n",
       "4             3      51.0                  54.0                45.32   \n",
       "..          ...       ...                   ...                  ...   \n",
       "361           3      53.0                  51.0                49.28   \n",
       "362           3      23.0                  51.0                49.28   \n",
       "363           3      61.0                  50.0                46.58   \n",
       "364           4      85.0                  39.0                41.00   \n",
       "365           4      68.0                  37.0                  NaN   \n",
       "\n",
       "     Inversion_base_height  Pressure_gradient  Inversion_temperature  \\\n",
       "0                   5000.0              -15.0                  30.56   \n",
       "1                      NaN              -14.0                    NaN   \n",
       "2                   2693.0              -25.0                  47.66   \n",
       "3                    590.0              -24.0                  55.04   \n",
       "4                   1450.0               25.0                  57.02   \n",
       "..                     ...                ...                    ...   \n",
       "361                  111.0              -14.0                  72.50   \n",
       "362                 5000.0              -36.0                  51.26   \n",
       "363                 3704.0               18.0                  46.94   \n",
       "364                 5000.0                8.0                  39.92   \n",
       "365                 5000.0               -3.0                  37.22   \n",
       "\n",
       "     Visibility  \n",
       "0           200  \n",
       "1           300  \n",
       "2           250  \n",
       "3           100  \n",
       "4            60  \n",
       "..          ...  \n",
       "361         200  \n",
       "362          70  \n",
       "363          40  \n",
       "364         100  \n",
       "365          70  \n",
       "\n",
       "[366 rows x 13 columns]"
      ]
     },
     "execution_count": 100,
     "metadata": {},
     "output_type": "execute_result"
    }
   ],
   "source": [
    "## CSV archivo separado por comas ------- \n",
    "import pandas as pd \n",
    "\n",
    "ozono = pd.read_csv('ozone.csv')\n",
    "ozono"
   ]
  },
  {
   "cell_type": "code",
   "execution_count": 101,
   "metadata": {},
   "outputs": [
    {
     "data": {
      "text/html": [
       "<div>\n",
       "<style scoped>\n",
       "    .dataframe tbody tr th:only-of-type {\n",
       "        vertical-align: middle;\n",
       "    }\n",
       "\n",
       "    .dataframe tbody tr th {\n",
       "        vertical-align: top;\n",
       "    }\n",
       "\n",
       "    .dataframe thead th {\n",
       "        text-align: right;\n",
       "    }\n",
       "</style>\n",
       "<table border=\"1\" class=\"dataframe\">\n",
       "  <thead>\n",
       "    <tr style=\"text-align: right;\">\n",
       "      <th></th>\n",
       "      <th>Nombre</th>\n",
       "      <th>Plataforma</th>\n",
       "      <th>Año</th>\n",
       "      <th>Genero</th>\n",
       "      <th>Editorial</th>\n",
       "      <th>Ventas NA</th>\n",
       "      <th>Ventas EU</th>\n",
       "      <th>Ventas JP</th>\n",
       "      <th>Ventas Otros</th>\n",
       "      <th>Ventas Global</th>\n",
       "    </tr>\n",
       "  </thead>\n",
       "  <tbody>\n",
       "    <tr>\n",
       "      <th>0</th>\n",
       "      <td>Wii Sports</td>\n",
       "      <td>Wii</td>\n",
       "      <td>2006</td>\n",
       "      <td>Sports</td>\n",
       "      <td>Nintendo</td>\n",
       "      <td>41.49</td>\n",
       "      <td>29.02</td>\n",
       "      <td>3.77</td>\n",
       "      <td>8.46</td>\n",
       "      <td>82.74</td>\n",
       "    </tr>\n",
       "    <tr>\n",
       "      <th>1</th>\n",
       "      <td>Super Mario Bros.</td>\n",
       "      <td>NES</td>\n",
       "      <td>1985</td>\n",
       "      <td>Platform</td>\n",
       "      <td>Nintendo</td>\n",
       "      <td>29.08</td>\n",
       "      <td>3.58</td>\n",
       "      <td>6.81</td>\n",
       "      <td>0.77</td>\n",
       "      <td>40.24</td>\n",
       "    </tr>\n",
       "    <tr>\n",
       "      <th>2</th>\n",
       "      <td>Mario Kart Wii</td>\n",
       "      <td>Wii</td>\n",
       "      <td>2008</td>\n",
       "      <td>Racing</td>\n",
       "      <td>Nintendo</td>\n",
       "      <td>15.85</td>\n",
       "      <td>12.88</td>\n",
       "      <td>3.79</td>\n",
       "      <td>3.31</td>\n",
       "      <td>35.82</td>\n",
       "    </tr>\n",
       "    <tr>\n",
       "      <th>3</th>\n",
       "      <td>Wii Sports Resort</td>\n",
       "      <td>Wii</td>\n",
       "      <td>2009</td>\n",
       "      <td>Sports</td>\n",
       "      <td>Nintendo</td>\n",
       "      <td>15.75</td>\n",
       "      <td>11.01</td>\n",
       "      <td>3.28</td>\n",
       "      <td>2.96</td>\n",
       "      <td>33.00</td>\n",
       "    </tr>\n",
       "    <tr>\n",
       "      <th>4</th>\n",
       "      <td>Pokemon Red/Pokemon Blue</td>\n",
       "      <td>GB</td>\n",
       "      <td>1996</td>\n",
       "      <td>Role-Playing</td>\n",
       "      <td>Nintendo</td>\n",
       "      <td>11.27</td>\n",
       "      <td>8.89</td>\n",
       "      <td>10.22</td>\n",
       "      <td>1.00</td>\n",
       "      <td>31.37</td>\n",
       "    </tr>\n",
       "    <tr>\n",
       "      <th>...</th>\n",
       "      <td>...</td>\n",
       "      <td>...</td>\n",
       "      <td>...</td>\n",
       "      <td>...</td>\n",
       "      <td>...</td>\n",
       "      <td>...</td>\n",
       "      <td>...</td>\n",
       "      <td>...</td>\n",
       "      <td>...</td>\n",
       "      <td>...</td>\n",
       "    </tr>\n",
       "    <tr>\n",
       "      <th>16321</th>\n",
       "      <td>Farming 2017 - The Simulation</td>\n",
       "      <td>PS4</td>\n",
       "      <td>2016</td>\n",
       "      <td>Simulation</td>\n",
       "      <td>UIG Entertainment</td>\n",
       "      <td>0.00</td>\n",
       "      <td>0.01</td>\n",
       "      <td>0.00</td>\n",
       "      <td>0.00</td>\n",
       "      <td>0.01</td>\n",
       "    </tr>\n",
       "    <tr>\n",
       "      <th>16322</th>\n",
       "      <td>Rugby Challenge 3</td>\n",
       "      <td>XOne</td>\n",
       "      <td>2016</td>\n",
       "      <td>Sports</td>\n",
       "      <td>Alternative Software</td>\n",
       "      <td>0.00</td>\n",
       "      <td>0.01</td>\n",
       "      <td>0.00</td>\n",
       "      <td>0.00</td>\n",
       "      <td>0.01</td>\n",
       "    </tr>\n",
       "    <tr>\n",
       "      <th>16323</th>\n",
       "      <td>Chou Ezaru wa Akai Hana: Koi wa Tsuki ni Shiru...</td>\n",
       "      <td>PSV</td>\n",
       "      <td>2016</td>\n",
       "      <td>Action</td>\n",
       "      <td>dramatic create</td>\n",
       "      <td>0.00</td>\n",
       "      <td>0.00</td>\n",
       "      <td>0.01</td>\n",
       "      <td>0.00</td>\n",
       "      <td>0.01</td>\n",
       "    </tr>\n",
       "    <tr>\n",
       "      <th>16324</th>\n",
       "      <td>Phantasy Star Online 2 Episode 4: Deluxe Package</td>\n",
       "      <td>PSV</td>\n",
       "      <td>2017</td>\n",
       "      <td>Role-Playing</td>\n",
       "      <td>Sega</td>\n",
       "      <td>0.00</td>\n",
       "      <td>0.00</td>\n",
       "      <td>0.01</td>\n",
       "      <td>0.00</td>\n",
       "      <td>0.01</td>\n",
       "    </tr>\n",
       "    <tr>\n",
       "      <th>16325</th>\n",
       "      <td>Brothers Conflict: Precious Baby</td>\n",
       "      <td>PSV</td>\n",
       "      <td>2017</td>\n",
       "      <td>Action</td>\n",
       "      <td>Idea Factory</td>\n",
       "      <td>0.00</td>\n",
       "      <td>0.00</td>\n",
       "      <td>0.01</td>\n",
       "      <td>0.00</td>\n",
       "      <td>0.01</td>\n",
       "    </tr>\n",
       "  </tbody>\n",
       "</table>\n",
       "<p>16326 rows × 10 columns</p>\n",
       "</div>"
      ],
      "text/plain": [
       "                                                  Nombre Plataforma   Año  \\\n",
       "0                                             Wii Sports        Wii  2006   \n",
       "1                                      Super Mario Bros.        NES  1985   \n",
       "2                                         Mario Kart Wii        Wii  2008   \n",
       "3                                      Wii Sports Resort        Wii  2009   \n",
       "4                               Pokemon Red/Pokemon Blue         GB  1996   \n",
       "...                                                  ...        ...   ...   \n",
       "16321                      Farming 2017 - The Simulation        PS4  2016   \n",
       "16322                                  Rugby Challenge 3       XOne  2016   \n",
       "16323  Chou Ezaru wa Akai Hana: Koi wa Tsuki ni Shiru...        PSV  2016   \n",
       "16324   Phantasy Star Online 2 Episode 4: Deluxe Package        PSV  2017   \n",
       "16325                   Brothers Conflict: Precious Baby        PSV  2017   \n",
       "\n",
       "             Genero             Editorial  Ventas NA  Ventas EU  Ventas JP  \\\n",
       "0            Sports              Nintendo      41.49      29.02       3.77   \n",
       "1          Platform              Nintendo      29.08       3.58       6.81   \n",
       "2            Racing              Nintendo      15.85      12.88       3.79   \n",
       "3            Sports              Nintendo      15.75      11.01       3.28   \n",
       "4      Role-Playing              Nintendo      11.27       8.89      10.22   \n",
       "...             ...                   ...        ...        ...        ...   \n",
       "16321    Simulation     UIG Entertainment       0.00       0.01       0.00   \n",
       "16322        Sports  Alternative Software       0.00       0.01       0.00   \n",
       "16323        Action       dramatic create       0.00       0.00       0.01   \n",
       "16324  Role-Playing                  Sega       0.00       0.00       0.01   \n",
       "16325        Action          Idea Factory       0.00       0.00       0.01   \n",
       "\n",
       "       Ventas Otros  Ventas Global  \n",
       "0              8.46          82.74  \n",
       "1              0.77          40.24  \n",
       "2              3.31          35.82  \n",
       "3              2.96          33.00  \n",
       "4              1.00          31.37  \n",
       "...             ...            ...  \n",
       "16321          0.00           0.01  \n",
       "16322          0.00           0.01  \n",
       "16323          0.00           0.01  \n",
       "16324          0.00           0.01  \n",
       "16325          0.00           0.01  \n",
       "\n",
       "[16326 rows x 10 columns]"
      ]
     },
     "execution_count": 101,
     "metadata": {},
     "output_type": "execute_result"
    }
   ],
   "source": [
    "videojuegos = pd.read_excel('videojuegos.xlsx')\n",
    "videojuegos"
   ]
  },
  {
   "cell_type": "code",
   "execution_count": 103,
   "metadata": {},
   "outputs": [
    {
     "data": {
      "text/html": [
       "<div>\n",
       "<style scoped>\n",
       "    .dataframe tbody tr th:only-of-type {\n",
       "        vertical-align: middle;\n",
       "    }\n",
       "\n",
       "    .dataframe tbody tr th {\n",
       "        vertical-align: top;\n",
       "    }\n",
       "\n",
       "    .dataframe thead th {\n",
       "        text-align: right;\n",
       "    }\n",
       "</style>\n",
       "<table border=\"1\" class=\"dataframe\">\n",
       "  <thead>\n",
       "    <tr style=\"text-align: right;\">\n",
       "      <th></th>\n",
       "      <th>Nombre</th>\n",
       "      <th>Plataforma</th>\n",
       "      <th>Año</th>\n",
       "      <th>Genero</th>\n",
       "      <th>Editorial</th>\n",
       "      <th>Ventas Global</th>\n",
       "    </tr>\n",
       "  </thead>\n",
       "  <tbody>\n",
       "    <tr>\n",
       "      <th>0</th>\n",
       "      <td>Wii Sports</td>\n",
       "      <td>Wii</td>\n",
       "      <td>2006</td>\n",
       "      <td>Sports</td>\n",
       "      <td>Nintendo</td>\n",
       "      <td>82.74</td>\n",
       "    </tr>\n",
       "    <tr>\n",
       "      <th>1</th>\n",
       "      <td>Super Mario Bros.</td>\n",
       "      <td>NES</td>\n",
       "      <td>1985</td>\n",
       "      <td>Platform</td>\n",
       "      <td>Nintendo</td>\n",
       "      <td>40.24</td>\n",
       "    </tr>\n",
       "    <tr>\n",
       "      <th>2</th>\n",
       "      <td>Mario Kart Wii</td>\n",
       "      <td>Wii</td>\n",
       "      <td>2008</td>\n",
       "      <td>Racing</td>\n",
       "      <td>Nintendo</td>\n",
       "      <td>35.82</td>\n",
       "    </tr>\n",
       "    <tr>\n",
       "      <th>3</th>\n",
       "      <td>Wii Sports Resort</td>\n",
       "      <td>Wii</td>\n",
       "      <td>2009</td>\n",
       "      <td>Sports</td>\n",
       "      <td>Nintendo</td>\n",
       "      <td>33.00</td>\n",
       "    </tr>\n",
       "    <tr>\n",
       "      <th>4</th>\n",
       "      <td>Pokemon Red/Pokemon Blue</td>\n",
       "      <td>GB</td>\n",
       "      <td>1996</td>\n",
       "      <td>Role-Playing</td>\n",
       "      <td>Nintendo</td>\n",
       "      <td>31.37</td>\n",
       "    </tr>\n",
       "    <tr>\n",
       "      <th>...</th>\n",
       "      <td>...</td>\n",
       "      <td>...</td>\n",
       "      <td>...</td>\n",
       "      <td>...</td>\n",
       "      <td>...</td>\n",
       "      <td>...</td>\n",
       "    </tr>\n",
       "    <tr>\n",
       "      <th>16321</th>\n",
       "      <td>Farming 2017 - The Simulation</td>\n",
       "      <td>PS4</td>\n",
       "      <td>2016</td>\n",
       "      <td>Simulation</td>\n",
       "      <td>UIG Entertainment</td>\n",
       "      <td>0.01</td>\n",
       "    </tr>\n",
       "    <tr>\n",
       "      <th>16322</th>\n",
       "      <td>Rugby Challenge 3</td>\n",
       "      <td>XOne</td>\n",
       "      <td>2016</td>\n",
       "      <td>Sports</td>\n",
       "      <td>Alternative Software</td>\n",
       "      <td>0.01</td>\n",
       "    </tr>\n",
       "    <tr>\n",
       "      <th>16323</th>\n",
       "      <td>Chou Ezaru wa Akai Hana: Koi wa Tsuki ni Shiru...</td>\n",
       "      <td>PSV</td>\n",
       "      <td>2016</td>\n",
       "      <td>Action</td>\n",
       "      <td>dramatic create</td>\n",
       "      <td>0.01</td>\n",
       "    </tr>\n",
       "    <tr>\n",
       "      <th>16324</th>\n",
       "      <td>Phantasy Star Online 2 Episode 4: Deluxe Package</td>\n",
       "      <td>PSV</td>\n",
       "      <td>2017</td>\n",
       "      <td>Role-Playing</td>\n",
       "      <td>Sega</td>\n",
       "      <td>0.01</td>\n",
       "    </tr>\n",
       "    <tr>\n",
       "      <th>16325</th>\n",
       "      <td>Brothers Conflict: Precious Baby</td>\n",
       "      <td>PSV</td>\n",
       "      <td>2017</td>\n",
       "      <td>Action</td>\n",
       "      <td>Idea Factory</td>\n",
       "      <td>0.01</td>\n",
       "    </tr>\n",
       "  </tbody>\n",
       "</table>\n",
       "<p>16326 rows × 6 columns</p>\n",
       "</div>"
      ],
      "text/plain": [
       "                                                  Nombre Plataforma   Año  \\\n",
       "0                                             Wii Sports        Wii  2006   \n",
       "1                                      Super Mario Bros.        NES  1985   \n",
       "2                                         Mario Kart Wii        Wii  2008   \n",
       "3                                      Wii Sports Resort        Wii  2009   \n",
       "4                               Pokemon Red/Pokemon Blue         GB  1996   \n",
       "...                                                  ...        ...   ...   \n",
       "16321                      Farming 2017 - The Simulation        PS4  2016   \n",
       "16322                                  Rugby Challenge 3       XOne  2016   \n",
       "16323  Chou Ezaru wa Akai Hana: Koi wa Tsuki ni Shiru...        PSV  2016   \n",
       "16324   Phantasy Star Online 2 Episode 4: Deluxe Package        PSV  2017   \n",
       "16325                   Brothers Conflict: Precious Baby        PSV  2017   \n",
       "\n",
       "             Genero             Editorial  Ventas Global  \n",
       "0            Sports              Nintendo          82.74  \n",
       "1          Platform              Nintendo          40.24  \n",
       "2            Racing              Nintendo          35.82  \n",
       "3            Sports              Nintendo          33.00  \n",
       "4      Role-Playing              Nintendo          31.37  \n",
       "...             ...                   ...            ...  \n",
       "16321    Simulation     UIG Entertainment           0.01  \n",
       "16322        Sports  Alternative Software           0.01  \n",
       "16323        Action       dramatic create           0.01  \n",
       "16324  Role-Playing                  Sega           0.01  \n",
       "16325        Action          Idea Factory           0.01  \n",
       "\n",
       "[16326 rows x 6 columns]"
      ]
     },
     "execution_count": 103,
     "metadata": {},
     "output_type": "execute_result"
    }
   ],
   "source": [
    "videojuegos = pd.read_excel('videojuegos.xlsx', sheet_name='total')\n",
    "videojuegos\n",
    "\n",
    "## pd.to_csv \n",
    "## pd.to_excel "
   ]
  },
  {
   "cell_type": "code",
   "execution_count": 104,
   "metadata": {},
   "outputs": [
    {
     "name": "stdout",
     "output_type": "stream",
     "text": [
      "<class 'pandas.core.frame.DataFrame'>\n",
      "RangeIndex: 16326 entries, 0 to 16325\n",
      "Data columns (total 6 columns):\n",
      " #   Column         Non-Null Count  Dtype  \n",
      "---  ------         --------------  -----  \n",
      " 0   Nombre         16326 non-null  object \n",
      " 1   Plataforma     16326 non-null  object \n",
      " 2   Año            16326 non-null  int64  \n",
      " 3   Genero         16326 non-null  object \n",
      " 4   Editorial      16290 non-null  object \n",
      " 5   Ventas Global  16326 non-null  float64\n",
      "dtypes: float64(1), int64(1), object(4)\n",
      "memory usage: 765.4+ KB\n"
     ]
    }
   ],
   "source": [
    "# Atributos de un Dataframe \n",
    "# Información general del dataframe \n",
    "videojuegos.info()"
   ]
  },
  {
   "cell_type": "code",
   "execution_count": 105,
   "metadata": {},
   "outputs": [
    {
     "data": {
      "text/plain": [
       "(16326, 6)"
      ]
     },
     "execution_count": 105,
     "metadata": {},
     "output_type": "execute_result"
    }
   ],
   "source": [
    "videojuegos.shape"
   ]
  },
  {
   "cell_type": "code",
   "execution_count": 106,
   "metadata": {},
   "outputs": [
    {
     "data": {
      "text/plain": [
       "97956"
      ]
     },
     "execution_count": 106,
     "metadata": {},
     "output_type": "execute_result"
    }
   ],
   "source": [
    "videojuegos.size"
   ]
  },
  {
   "cell_type": "code",
   "execution_count": 108,
   "metadata": {},
   "outputs": [
    {
     "data": {
      "text/plain": [
       "Index(['Nombre', 'Plataforma', 'Año', 'Genero', 'Editorial', 'Ventas Global'], dtype='object')"
      ]
     },
     "execution_count": 108,
     "metadata": {},
     "output_type": "execute_result"
    }
   ],
   "source": [
    "videojuegos.columns"
   ]
  },
  {
   "cell_type": "code",
   "execution_count": 109,
   "metadata": {},
   "outputs": [
    {
     "data": {
      "text/plain": [
       "RangeIndex(start=0, stop=16326, step=1)"
      ]
     },
     "execution_count": 109,
     "metadata": {},
     "output_type": "execute_result"
    }
   ],
   "source": [
    "videojuegos.index"
   ]
  },
  {
   "cell_type": "code",
   "execution_count": 115,
   "metadata": {},
   "outputs": [
    {
     "data": {
      "text/html": [
       "<div>\n",
       "<style scoped>\n",
       "    .dataframe tbody tr th:only-of-type {\n",
       "        vertical-align: middle;\n",
       "    }\n",
       "\n",
       "    .dataframe tbody tr th {\n",
       "        vertical-align: top;\n",
       "    }\n",
       "\n",
       "    .dataframe thead th {\n",
       "        text-align: right;\n",
       "    }\n",
       "</style>\n",
       "<table border=\"1\" class=\"dataframe\">\n",
       "  <thead>\n",
       "    <tr style=\"text-align: right;\">\n",
       "      <th></th>\n",
       "      <th>Nombre</th>\n",
       "      <th>Plataforma</th>\n",
       "      <th>Año</th>\n",
       "      <th>Genero</th>\n",
       "      <th>Editorial</th>\n",
       "      <th>Ventas Global</th>\n",
       "    </tr>\n",
       "  </thead>\n",
       "  <tbody>\n",
       "    <tr>\n",
       "      <th>0</th>\n",
       "      <td>Wii Sports</td>\n",
       "      <td>Wii</td>\n",
       "      <td>2006</td>\n",
       "      <td>Sports</td>\n",
       "      <td>Nintendo</td>\n",
       "      <td>82.74</td>\n",
       "    </tr>\n",
       "    <tr>\n",
       "      <th>1</th>\n",
       "      <td>Super Mario Bros.</td>\n",
       "      <td>NES</td>\n",
       "      <td>1985</td>\n",
       "      <td>Platform</td>\n",
       "      <td>Nintendo</td>\n",
       "      <td>40.24</td>\n",
       "    </tr>\n",
       "    <tr>\n",
       "      <th>2</th>\n",
       "      <td>Mario Kart Wii</td>\n",
       "      <td>Wii</td>\n",
       "      <td>2008</td>\n",
       "      <td>Racing</td>\n",
       "      <td>Nintendo</td>\n",
       "      <td>35.82</td>\n",
       "    </tr>\n",
       "  </tbody>\n",
       "</table>\n",
       "</div>"
      ],
      "text/plain": [
       "              Nombre Plataforma   Año    Genero Editorial  Ventas Global\n",
       "0         Wii Sports        Wii  2006    Sports  Nintendo          82.74\n",
       "1  Super Mario Bros.        NES  1985  Platform  Nintendo          40.24\n",
       "2     Mario Kart Wii        Wii  2008    Racing  Nintendo          35.82"
      ]
     },
     "execution_count": 115,
     "metadata": {},
     "output_type": "execute_result"
    }
   ],
   "source": [
    "### \n",
    "videojuegos.head(3)"
   ]
  },
  {
   "cell_type": "code",
   "execution_count": 116,
   "metadata": {},
   "outputs": [
    {
     "data": {
      "text/html": [
       "<div>\n",
       "<style scoped>\n",
       "    .dataframe tbody tr th:only-of-type {\n",
       "        vertical-align: middle;\n",
       "    }\n",
       "\n",
       "    .dataframe tbody tr th {\n",
       "        vertical-align: top;\n",
       "    }\n",
       "\n",
       "    .dataframe thead th {\n",
       "        text-align: right;\n",
       "    }\n",
       "</style>\n",
       "<table border=\"1\" class=\"dataframe\">\n",
       "  <thead>\n",
       "    <tr style=\"text-align: right;\">\n",
       "      <th></th>\n",
       "      <th>Nombre</th>\n",
       "      <th>Plataforma</th>\n",
       "      <th>Año</th>\n",
       "      <th>Genero</th>\n",
       "      <th>Editorial</th>\n",
       "      <th>Ventas Global</th>\n",
       "    </tr>\n",
       "  </thead>\n",
       "  <tbody>\n",
       "    <tr>\n",
       "      <th>16323</th>\n",
       "      <td>Chou Ezaru wa Akai Hana: Koi wa Tsuki ni Shiru...</td>\n",
       "      <td>PSV</td>\n",
       "      <td>2016</td>\n",
       "      <td>Action</td>\n",
       "      <td>dramatic create</td>\n",
       "      <td>0.01</td>\n",
       "    </tr>\n",
       "    <tr>\n",
       "      <th>16324</th>\n",
       "      <td>Phantasy Star Online 2 Episode 4: Deluxe Package</td>\n",
       "      <td>PSV</td>\n",
       "      <td>2017</td>\n",
       "      <td>Role-Playing</td>\n",
       "      <td>Sega</td>\n",
       "      <td>0.01</td>\n",
       "    </tr>\n",
       "    <tr>\n",
       "      <th>16325</th>\n",
       "      <td>Brothers Conflict: Precious Baby</td>\n",
       "      <td>PSV</td>\n",
       "      <td>2017</td>\n",
       "      <td>Action</td>\n",
       "      <td>Idea Factory</td>\n",
       "      <td>0.01</td>\n",
       "    </tr>\n",
       "  </tbody>\n",
       "</table>\n",
       "</div>"
      ],
      "text/plain": [
       "                                                  Nombre Plataforma   Año  \\\n",
       "16323  Chou Ezaru wa Akai Hana: Koi wa Tsuki ni Shiru...        PSV  2016   \n",
       "16324   Phantasy Star Online 2 Episode 4: Deluxe Package        PSV  2017   \n",
       "16325                   Brothers Conflict: Precious Baby        PSV  2017   \n",
       "\n",
       "             Genero        Editorial  Ventas Global  \n",
       "16323        Action  dramatic create           0.01  \n",
       "16324  Role-Playing             Sega           0.01  \n",
       "16325        Action     Idea Factory           0.01  "
      ]
     },
     "execution_count": 116,
     "metadata": {},
     "output_type": "execute_result"
    }
   ],
   "source": [
    "videojuegos.tail(3)"
   ]
  },
  {
   "cell_type": "markdown",
   "metadata": {},
   "source": [
    "### Acceder a los elementos de un dataframe "
   ]
  },
  {
   "cell_type": "code",
   "execution_count": 119,
   "metadata": {},
   "outputs": [
    {
     "data": {
      "text/plain": [
       "'Platform'"
      ]
     },
     "execution_count": 119,
     "metadata": {},
     "output_type": "execute_result"
    }
   ],
   "source": [
    "# Mediante posiciones y mediante nombres \n",
    "\n",
    "## iloc[i , j]\n",
    "videojuegos.iloc[1,3]"
   ]
  },
  {
   "cell_type": "code",
   "execution_count": 121,
   "metadata": {},
   "outputs": [
    {
     "data": {
      "text/plain": [
       "Nombre           Super Mario Bros.\n",
       "Plataforma                     NES\n",
       "Año                           1985\n",
       "Genero                    Platform\n",
       "Editorial                 Nintendo\n",
       "Ventas Global                40.24\n",
       "Name: 1, dtype: object"
      ]
     },
     "execution_count": 121,
     "metadata": {},
     "output_type": "execute_result"
    }
   ],
   "source": [
    "## toda la fila\n",
    "videojuegos.iloc[1]"
   ]
  },
  {
   "cell_type": "code",
   "execution_count": 123,
   "metadata": {},
   "outputs": [
    {
     "data": {
      "text/plain": [
       "0              Sports\n",
       "1            Platform\n",
       "2              Racing\n",
       "3              Sports\n",
       "4        Role-Playing\n",
       "             ...     \n",
       "16321      Simulation\n",
       "16322          Sports\n",
       "16323          Action\n",
       "16324    Role-Playing\n",
       "16325          Action\n",
       "Name: Genero, Length: 16326, dtype: object"
      ]
     },
     "execution_count": 123,
     "metadata": {},
     "output_type": "execute_result"
    }
   ],
   "source": [
    "## toda la columna\n",
    "videojuegos.iloc[:,3]"
   ]
  },
  {
   "cell_type": "code",
   "execution_count": 132,
   "metadata": {},
   "outputs": [
    {
     "data": {
      "text/html": [
       "<div>\n",
       "<style scoped>\n",
       "    .dataframe tbody tr th:only-of-type {\n",
       "        vertical-align: middle;\n",
       "    }\n",
       "\n",
       "    .dataframe tbody tr th {\n",
       "        vertical-align: top;\n",
       "    }\n",
       "\n",
       "    .dataframe thead th {\n",
       "        text-align: right;\n",
       "    }\n",
       "</style>\n",
       "<table border=\"1\" class=\"dataframe\">\n",
       "  <thead>\n",
       "    <tr style=\"text-align: right;\">\n",
       "      <th></th>\n",
       "      <th>Nombre</th>\n",
       "      <th>Plataforma</th>\n",
       "      <th>Año</th>\n",
       "    </tr>\n",
       "  </thead>\n",
       "  <tbody>\n",
       "    <tr>\n",
       "      <th>20</th>\n",
       "      <td>Pokemon Diamond/Pokemon Pearl</td>\n",
       "      <td>DS</td>\n",
       "      <td>2006</td>\n",
       "    </tr>\n",
       "    <tr>\n",
       "      <th>21</th>\n",
       "      <td>Super Mario Land</td>\n",
       "      <td>GB</td>\n",
       "      <td>1989</td>\n",
       "    </tr>\n",
       "    <tr>\n",
       "      <th>22</th>\n",
       "      <td>Super Mario Bros. 3</td>\n",
       "      <td>NES</td>\n",
       "      <td>1988</td>\n",
       "    </tr>\n",
       "    <tr>\n",
       "      <th>23</th>\n",
       "      <td>Grand Theft Auto V</td>\n",
       "      <td>X360</td>\n",
       "      <td>2013</td>\n",
       "    </tr>\n",
       "    <tr>\n",
       "      <th>24</th>\n",
       "      <td>Grand Theft Auto: Vice City</td>\n",
       "      <td>PS2</td>\n",
       "      <td>2002</td>\n",
       "    </tr>\n",
       "    <tr>\n",
       "      <th>25</th>\n",
       "      <td>Pokemon Ruby/Pokemon Sapphire</td>\n",
       "      <td>GBA</td>\n",
       "      <td>2002</td>\n",
       "    </tr>\n",
       "    <tr>\n",
       "      <th>26</th>\n",
       "      <td>Pokemon Black/Pokemon White</td>\n",
       "      <td>DS</td>\n",
       "      <td>2010</td>\n",
       "    </tr>\n",
       "    <tr>\n",
       "      <th>27</th>\n",
       "      <td>Brain Age 2: More Training in Minutes a Day</td>\n",
       "      <td>DS</td>\n",
       "      <td>2005</td>\n",
       "    </tr>\n",
       "    <tr>\n",
       "      <th>28</th>\n",
       "      <td>Gran Turismo 3: A-Spec</td>\n",
       "      <td>PS2</td>\n",
       "      <td>2001</td>\n",
       "    </tr>\n",
       "    <tr>\n",
       "      <th>29</th>\n",
       "      <td>Call of Duty: Modern Warfare 3</td>\n",
       "      <td>X360</td>\n",
       "      <td>2011</td>\n",
       "    </tr>\n",
       "  </tbody>\n",
       "</table>\n",
       "</div>"
      ],
      "text/plain": [
       "                                         Nombre Plataforma   Año\n",
       "20                Pokemon Diamond/Pokemon Pearl         DS  2006\n",
       "21                             Super Mario Land         GB  1989\n",
       "22                          Super Mario Bros. 3        NES  1988\n",
       "23                           Grand Theft Auto V       X360  2013\n",
       "24                  Grand Theft Auto: Vice City        PS2  2002\n",
       "25                Pokemon Ruby/Pokemon Sapphire        GBA  2002\n",
       "26                  Pokemon Black/Pokemon White         DS  2010\n",
       "27  Brain Age 2: More Training in Minutes a Day         DS  2005\n",
       "28                       Gran Turismo 3: A-Spec        PS2  2001\n",
       "29               Call of Duty: Modern Warfare 3       X360  2011"
      ]
     },
     "execution_count": 132,
     "metadata": {},
     "output_type": "execute_result"
    }
   ],
   "source": [
    "# slice de indices y columnas \n",
    "videojuegos.iloc[20:30,0:3]"
   ]
  },
  {
   "cell_type": "code",
   "execution_count": 139,
   "metadata": {},
   "outputs": [
    {
     "data": {
      "text/html": [
       "<div>\n",
       "<style scoped>\n",
       "    .dataframe tbody tr th:only-of-type {\n",
       "        vertical-align: middle;\n",
       "    }\n",
       "\n",
       "    .dataframe tbody tr th {\n",
       "        vertical-align: top;\n",
       "    }\n",
       "\n",
       "    .dataframe thead th {\n",
       "        text-align: right;\n",
       "    }\n",
       "</style>\n",
       "<table border=\"1\" class=\"dataframe\">\n",
       "  <thead>\n",
       "    <tr style=\"text-align: right;\">\n",
       "      <th></th>\n",
       "      <th>Plataforma</th>\n",
       "      <th>Nombre</th>\n",
       "    </tr>\n",
       "  </thead>\n",
       "  <tbody>\n",
       "    <tr>\n",
       "      <th>20</th>\n",
       "      <td>DS</td>\n",
       "      <td>Pokemon Diamond/Pokemon Pearl</td>\n",
       "    </tr>\n",
       "    <tr>\n",
       "      <th>21</th>\n",
       "      <td>GB</td>\n",
       "      <td>Super Mario Land</td>\n",
       "    </tr>\n",
       "    <tr>\n",
       "      <th>22</th>\n",
       "      <td>NES</td>\n",
       "      <td>Super Mario Bros. 3</td>\n",
       "    </tr>\n",
       "    <tr>\n",
       "      <th>23</th>\n",
       "      <td>X360</td>\n",
       "      <td>Grand Theft Auto V</td>\n",
       "    </tr>\n",
       "    <tr>\n",
       "      <th>24</th>\n",
       "      <td>PS2</td>\n",
       "      <td>Grand Theft Auto: Vice City</td>\n",
       "    </tr>\n",
       "    <tr>\n",
       "      <th>25</th>\n",
       "      <td>GBA</td>\n",
       "      <td>Pokemon Ruby/Pokemon Sapphire</td>\n",
       "    </tr>\n",
       "    <tr>\n",
       "      <th>26</th>\n",
       "      <td>DS</td>\n",
       "      <td>Pokemon Black/Pokemon White</td>\n",
       "    </tr>\n",
       "    <tr>\n",
       "      <th>27</th>\n",
       "      <td>DS</td>\n",
       "      <td>Brain Age 2: More Training in Minutes a Day</td>\n",
       "    </tr>\n",
       "    <tr>\n",
       "      <th>28</th>\n",
       "      <td>PS2</td>\n",
       "      <td>Gran Turismo 3: A-Spec</td>\n",
       "    </tr>\n",
       "    <tr>\n",
       "      <th>29</th>\n",
       "      <td>X360</td>\n",
       "      <td>Call of Duty: Modern Warfare 3</td>\n",
       "    </tr>\n",
       "    <tr>\n",
       "      <th>30</th>\n",
       "      <td>GB</td>\n",
       "      <td>PokÃ©mon Yellow: Special Pikachu Edition</td>\n",
       "    </tr>\n",
       "  </tbody>\n",
       "</table>\n",
       "</div>"
      ],
      "text/plain": [
       "   Plataforma                                       Nombre\n",
       "20         DS                Pokemon Diamond/Pokemon Pearl\n",
       "21         GB                             Super Mario Land\n",
       "22        NES                          Super Mario Bros. 3\n",
       "23       X360                           Grand Theft Auto V\n",
       "24        PS2                  Grand Theft Auto: Vice City\n",
       "25        GBA                Pokemon Ruby/Pokemon Sapphire\n",
       "26         DS                  Pokemon Black/Pokemon White\n",
       "27         DS  Brain Age 2: More Training in Minutes a Day\n",
       "28        PS2                       Gran Turismo 3: A-Spec\n",
       "29       X360               Call of Duty: Modern Warfare 3\n",
       "30         GB     PokÃ©mon Yellow: Special Pikachu Edition"
      ]
     },
     "execution_count": 139,
     "metadata": {},
     "output_type": "execute_result"
    }
   ],
   "source": [
    "# indexar por el nombre de la columna \n",
    "videojuegos.loc[20:30,['Plataforma', 'Nombre' ]]"
   ]
  },
  {
   "cell_type": "code",
   "execution_count": 140,
   "metadata": {},
   "outputs": [
    {
     "data": {
      "text/plain": [
       "0         Wii\n",
       "1         NES\n",
       "2         Wii\n",
       "3         Wii\n",
       "4          GB\n",
       "         ... \n",
       "16321     PS4\n",
       "16322    XOne\n",
       "16323     PSV\n",
       "16324     PSV\n",
       "16325     PSV\n",
       "Name: Plataforma, Length: 16326, dtype: object"
      ]
     },
     "execution_count": 140,
     "metadata": {},
     "output_type": "execute_result"
    }
   ],
   "source": [
    "videojuegos.Plataforma"
   ]
  },
  {
   "cell_type": "code",
   "execution_count": 151,
   "metadata": {},
   "outputs": [
    {
     "data": {
      "text/html": [
       "<div>\n",
       "<style scoped>\n",
       "    .dataframe tbody tr th:only-of-type {\n",
       "        vertical-align: middle;\n",
       "    }\n",
       "\n",
       "    .dataframe tbody tr th {\n",
       "        vertical-align: top;\n",
       "    }\n",
       "\n",
       "    .dataframe thead th {\n",
       "        text-align: right;\n",
       "    }\n",
       "</style>\n",
       "<table border=\"1\" class=\"dataframe\">\n",
       "  <thead>\n",
       "    <tr style=\"text-align: right;\">\n",
       "      <th></th>\n",
       "      <th>Nombre</th>\n",
       "      <th>Plataforma</th>\n",
       "      <th>Año</th>\n",
       "      <th>Genero</th>\n",
       "      <th>Editorial</th>\n",
       "      <th>Ventas Global</th>\n",
       "    </tr>\n",
       "  </thead>\n",
       "  <tbody>\n",
       "    <tr>\n",
       "      <th>0</th>\n",
       "      <td>Wii Sports</td>\n",
       "      <td>Wii</td>\n",
       "      <td>2006</td>\n",
       "      <td>Sports</td>\n",
       "      <td>Nintendo</td>\n",
       "      <td>82.74</td>\n",
       "    </tr>\n",
       "    <tr>\n",
       "      <th>1</th>\n",
       "      <td>Super Mario Bros.</td>\n",
       "      <td>NES</td>\n",
       "      <td>1985</td>\n",
       "      <td>Platform</td>\n",
       "      <td>Nintendo</td>\n",
       "      <td>40.24</td>\n",
       "    </tr>\n",
       "    <tr>\n",
       "      <th>2</th>\n",
       "      <td>Mario Kart Wii</td>\n",
       "      <td>Wii</td>\n",
       "      <td>2008</td>\n",
       "      <td>Racing</td>\n",
       "      <td>Nintendo</td>\n",
       "      <td>35.82</td>\n",
       "    </tr>\n",
       "  </tbody>\n",
       "</table>\n",
       "</div>"
      ],
      "text/plain": [
       "              Nombre Plataforma   Año    Genero Editorial  Ventas Global\n",
       "0         Wii Sports        Wii  2006    Sports  Nintendo          82.74\n",
       "1  Super Mario Bros.        NES  1985  Platform  Nintendo          40.24\n",
       "2     Mario Kart Wii        Wii  2008    Racing  Nintendo          35.82"
      ]
     },
     "execution_count": 151,
     "metadata": {},
     "output_type": "execute_result"
    }
   ],
   "source": [
    "vid = videojuegos.head(3)\n",
    "vid"
   ]
  },
  {
   "cell_type": "code",
   "execution_count": 155,
   "metadata": {},
   "outputs": [
    {
     "name": "stdout",
     "output_type": "stream",
     "text": [
      "Nombre           New Super Mario Bros.\n",
      "Plataforma                          DS\n",
      "Año                               2006\n",
      "Genero                        Platform\n",
      "Editorial                     Nintendo\n",
      "Ventas Global                    30.01\n",
      "Name: 6, dtype: object\n"
     ]
    }
   ],
   "source": [
    "superm = videojuegos.iloc[6]\n",
    "print(superm)"
   ]
  },
  {
   "cell_type": "code",
   "execution_count": 168,
   "metadata": {},
   "outputs": [],
   "source": [
    "notas = [2]\n",
    "serieNotas=pd.Series(data = notas, index = [20])\n",
    "\n",
    "vid.append(serieNotas, ignore_index=True)\n",
    "vid = vid.append(superm)\n",
    "# NaN - Not a number - data inválido "
   ]
  },
  {
   "cell_type": "code",
   "execution_count": 169,
   "metadata": {},
   "outputs": [
    {
     "data": {
      "text/html": [
       "<div>\n",
       "<style scoped>\n",
       "    .dataframe tbody tr th:only-of-type {\n",
       "        vertical-align: middle;\n",
       "    }\n",
       "\n",
       "    .dataframe tbody tr th {\n",
       "        vertical-align: top;\n",
       "    }\n",
       "\n",
       "    .dataframe thead th {\n",
       "        text-align: right;\n",
       "    }\n",
       "</style>\n",
       "<table border=\"1\" class=\"dataframe\">\n",
       "  <thead>\n",
       "    <tr style=\"text-align: right;\">\n",
       "      <th></th>\n",
       "      <th>Nombre</th>\n",
       "      <th>Plataforma</th>\n",
       "      <th>Año</th>\n",
       "      <th>Genero</th>\n",
       "      <th>Editorial</th>\n",
       "      <th>Ventas Global</th>\n",
       "    </tr>\n",
       "  </thead>\n",
       "  <tbody>\n",
       "    <tr>\n",
       "      <th>0</th>\n",
       "      <td>Wii Sports</td>\n",
       "      <td>Wii</td>\n",
       "      <td>2006</td>\n",
       "      <td>Sports</td>\n",
       "      <td>Nintendo</td>\n",
       "      <td>82.74</td>\n",
       "    </tr>\n",
       "    <tr>\n",
       "      <th>1</th>\n",
       "      <td>Super Mario Bros.</td>\n",
       "      <td>NES</td>\n",
       "      <td>1985</td>\n",
       "      <td>Platform</td>\n",
       "      <td>Nintendo</td>\n",
       "      <td>40.24</td>\n",
       "    </tr>\n",
       "    <tr>\n",
       "      <th>6</th>\n",
       "      <td>New Super Mario Bros.</td>\n",
       "      <td>DS</td>\n",
       "      <td>2006</td>\n",
       "      <td>Platform</td>\n",
       "      <td>Nintendo</td>\n",
       "      <td>30.01</td>\n",
       "    </tr>\n",
       "  </tbody>\n",
       "</table>\n",
       "</div>"
      ],
      "text/plain": [
       "                  Nombre Plataforma   Año    Genero Editorial  Ventas Global\n",
       "0             Wii Sports        Wii  2006    Sports  Nintendo          82.74\n",
       "1      Super Mario Bros.        NES  1985  Platform  Nintendo          40.24\n",
       "6  New Super Mario Bros.         DS  2006  Platform  Nintendo          30.01"
      ]
     },
     "execution_count": 169,
     "metadata": {},
     "output_type": "execute_result"
    }
   ],
   "source": [
    "vid.drop(2)"
   ]
  },
  {
   "cell_type": "code",
   "execution_count": 172,
   "metadata": {},
   "outputs": [
    {
     "data": {
      "text/html": [
       "<div>\n",
       "<style scoped>\n",
       "    .dataframe tbody tr th:only-of-type {\n",
       "        vertical-align: middle;\n",
       "    }\n",
       "\n",
       "    .dataframe tbody tr th {\n",
       "        vertical-align: top;\n",
       "    }\n",
       "\n",
       "    .dataframe thead th {\n",
       "        text-align: right;\n",
       "    }\n",
       "</style>\n",
       "<table border=\"1\" class=\"dataframe\">\n",
       "  <thead>\n",
       "    <tr style=\"text-align: right;\">\n",
       "      <th></th>\n",
       "      <th>Nombre</th>\n",
       "      <th>Plataforma</th>\n",
       "      <th>Año</th>\n",
       "      <th>Genero</th>\n",
       "      <th>Editorial</th>\n",
       "      <th>Ventas Global</th>\n",
       "    </tr>\n",
       "  </thead>\n",
       "  <tbody>\n",
       "    <tr>\n",
       "      <th>0</th>\n",
       "      <td>Wii Sports</td>\n",
       "      <td>Wii</td>\n",
       "      <td>2006</td>\n",
       "      <td>Sports</td>\n",
       "      <td>Nintendo</td>\n",
       "      <td>82.74</td>\n",
       "    </tr>\n",
       "    <tr>\n",
       "      <th>1</th>\n",
       "      <td>Super Mario Bros.</td>\n",
       "      <td>NES</td>\n",
       "      <td>1985</td>\n",
       "      <td>Platform</td>\n",
       "      <td>Nintendo</td>\n",
       "      <td>40.24</td>\n",
       "    </tr>\n",
       "    <tr>\n",
       "      <th>2</th>\n",
       "      <td>Mario Kart Wii</td>\n",
       "      <td>Wii</td>\n",
       "      <td>2008</td>\n",
       "      <td>Racing</td>\n",
       "      <td>Nintendo</td>\n",
       "      <td>35.82</td>\n",
       "    </tr>\n",
       "    <tr>\n",
       "      <th>3</th>\n",
       "      <td>Wii Sports Resort</td>\n",
       "      <td>Wii</td>\n",
       "      <td>2009</td>\n",
       "      <td>Sports</td>\n",
       "      <td>Nintendo</td>\n",
       "      <td>33.00</td>\n",
       "    </tr>\n",
       "    <tr>\n",
       "      <th>4</th>\n",
       "      <td>Pokemon Red/Pokemon Blue</td>\n",
       "      <td>GB</td>\n",
       "      <td>1996</td>\n",
       "      <td>Role-Playing</td>\n",
       "      <td>Nintendo</td>\n",
       "      <td>31.37</td>\n",
       "    </tr>\n",
       "  </tbody>\n",
       "</table>\n",
       "</div>"
      ],
      "text/plain": [
       "                     Nombre Plataforma   Año        Genero Editorial  \\\n",
       "0                Wii Sports        Wii  2006        Sports  Nintendo   \n",
       "1         Super Mario Bros.        NES  1985      Platform  Nintendo   \n",
       "2            Mario Kart Wii        Wii  2008        Racing  Nintendo   \n",
       "3         Wii Sports Resort        Wii  2009        Sports  Nintendo   \n",
       "4  Pokemon Red/Pokemon Blue         GB  1996  Role-Playing  Nintendo   \n",
       "\n",
       "   Ventas Global  \n",
       "0          82.74  \n",
       "1          40.24  \n",
       "2          35.82  \n",
       "3          33.00  \n",
       "4          31.37  "
      ]
     },
     "execution_count": 172,
     "metadata": {},
     "output_type": "execute_result"
    }
   ],
   "source": [
    "videojuegos.head()"
   ]
  },
  {
   "cell_type": "code",
   "execution_count": 173,
   "metadata": {},
   "outputs": [
    {
     "data": {
      "text/html": [
       "<div>\n",
       "<style scoped>\n",
       "    .dataframe tbody tr th:only-of-type {\n",
       "        vertical-align: middle;\n",
       "    }\n",
       "\n",
       "    .dataframe tbody tr th {\n",
       "        vertical-align: top;\n",
       "    }\n",
       "\n",
       "    .dataframe thead th {\n",
       "        text-align: right;\n",
       "    }\n",
       "</style>\n",
       "<table border=\"1\" class=\"dataframe\">\n",
       "  <thead>\n",
       "    <tr style=\"text-align: right;\">\n",
       "      <th></th>\n",
       "      <th>Nombre</th>\n",
       "      <th>Plataforma</th>\n",
       "      <th>Año</th>\n",
       "      <th>Genero</th>\n",
       "      <th>Editorial</th>\n",
       "      <th>Ventas Global</th>\n",
       "    </tr>\n",
       "  </thead>\n",
       "  <tbody>\n",
       "    <tr>\n",
       "      <th>0</th>\n",
       "      <td>Wii Sports</td>\n",
       "      <td>Wii</td>\n",
       "      <td>2006</td>\n",
       "      <td>Sports</td>\n",
       "      <td>Nintendo</td>\n",
       "      <td>82.74</td>\n",
       "    </tr>\n",
       "    <tr>\n",
       "      <th>2</th>\n",
       "      <td>Mario Kart Wii</td>\n",
       "      <td>Wii</td>\n",
       "      <td>2008</td>\n",
       "      <td>Racing</td>\n",
       "      <td>Nintendo</td>\n",
       "      <td>35.82</td>\n",
       "    </tr>\n",
       "    <tr>\n",
       "      <th>3</th>\n",
       "      <td>Wii Sports Resort</td>\n",
       "      <td>Wii</td>\n",
       "      <td>2009</td>\n",
       "      <td>Sports</td>\n",
       "      <td>Nintendo</td>\n",
       "      <td>33.00</td>\n",
       "    </tr>\n",
       "    <tr>\n",
       "      <th>7</th>\n",
       "      <td>Wii Play</td>\n",
       "      <td>Wii</td>\n",
       "      <td>2006</td>\n",
       "      <td>Misc</td>\n",
       "      <td>Nintendo</td>\n",
       "      <td>29.02</td>\n",
       "    </tr>\n",
       "    <tr>\n",
       "      <th>8</th>\n",
       "      <td>New Super Mario Bros. Wii</td>\n",
       "      <td>Wii</td>\n",
       "      <td>2009</td>\n",
       "      <td>Platform</td>\n",
       "      <td>Nintendo</td>\n",
       "      <td>28.62</td>\n",
       "    </tr>\n",
       "    <tr>\n",
       "      <th>...</th>\n",
       "      <td>...</td>\n",
       "      <td>...</td>\n",
       "      <td>...</td>\n",
       "      <td>...</td>\n",
       "      <td>...</td>\n",
       "      <td>...</td>\n",
       "    </tr>\n",
       "    <tr>\n",
       "      <th>16129</th>\n",
       "      <td>Aladdin Magic Racer</td>\n",
       "      <td>Wii</td>\n",
       "      <td>2011</td>\n",
       "      <td>Racing</td>\n",
       "      <td>Big Ben Interactive</td>\n",
       "      <td>0.01</td>\n",
       "    </tr>\n",
       "    <tr>\n",
       "      <th>16143</th>\n",
       "      <td>Fit &amp; Fun</td>\n",
       "      <td>Wii</td>\n",
       "      <td>2011</td>\n",
       "      <td>Sports</td>\n",
       "      <td>Unknown</td>\n",
       "      <td>0.01</td>\n",
       "    </tr>\n",
       "    <tr>\n",
       "      <th>16146</th>\n",
       "      <td>Captain Morgane and the Golden Turtle</td>\n",
       "      <td>Wii</td>\n",
       "      <td>2012</td>\n",
       "      <td>Adventure</td>\n",
       "      <td>Reef Entertainment</td>\n",
       "      <td>0.01</td>\n",
       "    </tr>\n",
       "    <tr>\n",
       "      <th>16151</th>\n",
       "      <td>Turbo Trainz</td>\n",
       "      <td>Wii</td>\n",
       "      <td>2012</td>\n",
       "      <td>Racing</td>\n",
       "      <td>Mastertronic</td>\n",
       "      <td>0.01</td>\n",
       "    </tr>\n",
       "    <tr>\n",
       "      <th>16155</th>\n",
       "      <td>We Sing 80s</td>\n",
       "      <td>Wii</td>\n",
       "      <td>2012</td>\n",
       "      <td>Misc</td>\n",
       "      <td>Nordic Games</td>\n",
       "      <td>0.01</td>\n",
       "    </tr>\n",
       "  </tbody>\n",
       "</table>\n",
       "<p>1290 rows × 6 columns</p>\n",
       "</div>"
      ],
      "text/plain": [
       "                                      Nombre Plataforma   Año     Genero  \\\n",
       "0                                 Wii Sports        Wii  2006     Sports   \n",
       "2                             Mario Kart Wii        Wii  2008     Racing   \n",
       "3                          Wii Sports Resort        Wii  2009     Sports   \n",
       "7                                   Wii Play        Wii  2006       Misc   \n",
       "8                  New Super Mario Bros. Wii        Wii  2009   Platform   \n",
       "...                                      ...        ...   ...        ...   \n",
       "16129                    Aladdin Magic Racer        Wii  2011     Racing   \n",
       "16143                              Fit & Fun        Wii  2011     Sports   \n",
       "16146  Captain Morgane and the Golden Turtle        Wii  2012  Adventure   \n",
       "16151                           Turbo Trainz        Wii  2012     Racing   \n",
       "16155                            We Sing 80s        Wii  2012       Misc   \n",
       "\n",
       "                 Editorial  Ventas Global  \n",
       "0                 Nintendo          82.74  \n",
       "2                 Nintendo          35.82  \n",
       "3                 Nintendo          33.00  \n",
       "7                 Nintendo          29.02  \n",
       "8                 Nintendo          28.62  \n",
       "...                    ...            ...  \n",
       "16129  Big Ben Interactive           0.01  \n",
       "16143              Unknown           0.01  \n",
       "16146   Reef Entertainment           0.01  \n",
       "16151         Mastertronic           0.01  \n",
       "16155         Nordic Games           0.01  \n",
       "\n",
       "[1290 rows x 6 columns]"
      ]
     },
     "execution_count": 173,
     "metadata": {},
     "output_type": "execute_result"
    }
   ],
   "source": [
    "videojuegos[videojuegos['Plataforma'] == 'Wii']"
   ]
  }
 ],
 "metadata": {
  "kernelspec": {
   "display_name": "Python 3",
   "language": "python",
   "name": "python3"
  },
  "language_info": {
   "codemirror_mode": {
    "name": "ipython",
    "version": 3
   },
   "file_extension": ".py",
   "mimetype": "text/x-python",
   "name": "python",
   "nbconvert_exporter": "python",
   "pygments_lexer": "ipython3",
   "version": "3.7.6"
  }
 },
 "nbformat": 4,
 "nbformat_minor": 4
}
