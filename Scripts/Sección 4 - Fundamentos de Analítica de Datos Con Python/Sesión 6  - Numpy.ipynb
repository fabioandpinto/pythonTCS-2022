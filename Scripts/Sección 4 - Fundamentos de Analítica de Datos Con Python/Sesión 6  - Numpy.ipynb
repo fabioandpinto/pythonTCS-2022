{
 "cells": [
  {
   "cell_type": "markdown",
   "metadata": {},
   "source": [
    "- Módulo (Paquete) -> Catálogo de funciones \n",
    "\n",
    "- Archivo Python de nombre X \n",
    "\n",
    "- Importación completa, específica o alías\n",
    "    - Import x\n",
    "    - From x import -\n",
    "    - Import x as x\n",
    "    \n",
    "Módulos populares para el análisis de datos \n",
    "- Numpy: librería para cálculo numérico, colecciones de datos en una y varias dimensiones\n",
    "- Pandas: librería de manejo de estructuras de datos, archivos e importación. \n",
    "    - Dataframe y la Serie \n",
    "    - Leer y escribir archivos de excel, csv, html, json, o xml \n",
    "- Matplotlib: librería para visualización de datos \n",
    "    - Otras librerías: seaborn, plotly (gráficos interactivos) y bokeh \n"
   ]
  },
  {
   "cell_type": "markdown",
   "metadata": {},
   "source": [
    "### Numpy \n",
    "\n",
    "- Añade a las estructuras de datos conocidas como ARRAYS, estructuras de varias dimensiones, *con elementos de un mismo tipo*  . \n",
    "- Un array es una estructura que tendrá un formato de tabla o cuadricula. Arrays tienen ejes (1, 2 ,3) "
   ]
  },
  {
   "cell_type": "markdown",
   "metadata": {},
   "source": [
    "#### Creación"
   ]
  },
  {
   "cell_type": "code",
   "execution_count": 4,
   "metadata": {},
   "outputs": [],
   "source": [
    "import numpy as np # alias comunmente utilizado "
   ]
  },
  {
   "cell_type": "code",
   "execution_count": 3,
   "metadata": {},
   "outputs": [
    {
     "name": "stdout",
     "output_type": "stream",
     "text": [
      "Requirement already satisfied: numpy in c:\\users\\ingfa\\anaconda3\\lib\\site-packages (1.18.1)\n"
     ]
    }
   ],
   "source": [
    "## Instalamos numpy \n",
    "!pip install numpy"
   ]
  },
  {
   "cell_type": "code",
   "execution_count": 8,
   "metadata": {},
   "outputs": [
    {
     "name": "stdout",
     "output_type": "stream",
     "text": [
      "<class 'list'>\n",
      "[25 36 24 25 10 12]\n"
     ]
    }
   ],
   "source": [
    "# ¿como creo arrays con numpy? \n",
    "edades = [25, 36, 24 , 25 , 10 , 12 ]\n",
    "arr_edades = np.array(edades) #vector \n",
    "print(type(edades))\n",
    "print(arr_edades)"
   ]
  },
  {
   "cell_type": "code",
   "execution_count": 10,
   "metadata": {},
   "outputs": [
    {
     "name": "stdout",
     "output_type": "stream",
     "text": [
      "<class 'numpy.ndarray'>\n",
      "[[25 36 24]\n",
      " [25 10 12]]\n"
     ]
    }
   ],
   "source": [
    "mat = [[25, 36, 24] , [25 , 10 , 12]]\n",
    "matriz = np.array(mat) # matriz \n",
    "\n",
    "print(type(matriz))\n",
    "print(matriz)"
   ]
  },
  {
   "cell_type": "code",
   "execution_count": 11,
   "metadata": {},
   "outputs": [
    {
     "name": "stdout",
     "output_type": "stream",
     "text": [
      "[[[  1   2]\n",
      "  [ 36   0]\n",
      "  [ 24  36]]\n",
      "\n",
      " [[ 19  20]\n",
      "  [368  20]\n",
      "  [240  36]]]\n"
     ]
    }
   ],
   "source": [
    "cu = [[[1, 2], [36,0], [24,36]], [[19, 20], [368,20], [240,36]]]\n",
    "cubo = np.array(cu)\n",
    "print(cubo)"
   ]
  },
  {
   "cell_type": "markdown",
   "metadata": {},
   "source": [
    "No hay límite de dimensiones para crear arrays"
   ]
  },
  {
   "cell_type": "markdown",
   "metadata": {},
   "source": [
    "Otras formas de crear Arrays con Numpy "
   ]
  },
  {
   "cell_type": "code",
   "execution_count": 12,
   "metadata": {},
   "outputs": [
    {
     "data": {
      "text/plain": [
       "array([7.63918485e-313, 5.30498948e-313, 2.54639495e-313])"
      ]
     },
     "execution_count": 12,
     "metadata": {},
     "output_type": "execute_result"
    }
   ],
   "source": [
    "## array vacío \n",
    "np.empty(3)"
   ]
  },
  {
   "cell_type": "code",
   "execution_count": 13,
   "metadata": {},
   "outputs": [
    {
     "data": {
      "text/plain": [
       "array([0., 0., 0.])"
      ]
     },
     "execution_count": 13,
     "metadata": {},
     "output_type": "execute_result"
    }
   ],
   "source": [
    "## Array de ceros \n",
    "np.zeros(3)"
   ]
  },
  {
   "cell_type": "code",
   "execution_count": 17,
   "metadata": {},
   "outputs": [
    {
     "data": {
      "text/plain": [
       "array([[1., 1.],\n",
       "       [1., 1.],\n",
       "       [1., 1.]])"
      ]
     },
     "execution_count": 17,
     "metadata": {},
     "output_type": "execute_result"
    }
   ],
   "source": [
    "## array de unos \n",
    "np.ones((3,2))"
   ]
  },
  {
   "cell_type": "code",
   "execution_count": 23,
   "metadata": {},
   "outputs": [
    {
     "data": {
      "text/plain": [
       "array([[2, 3],\n",
       "       [2, 3],\n",
       "       [2, 3]])"
      ]
     },
     "execution_count": 23,
     "metadata": {},
     "output_type": "execute_result"
    }
   ],
   "source": [
    "## array con un patron predefinido\n",
    "np.full((3,2), [2,3])"
   ]
  },
  {
   "cell_type": "code",
   "execution_count": 25,
   "metadata": {},
   "outputs": [
    {
     "data": {
      "text/plain": [
       "array([[1., 0., 0., 0., 0.],\n",
       "       [0., 1., 0., 0., 0.],\n",
       "       [0., 0., 1., 0., 0.],\n",
       "       [0., 0., 0., 1., 0.],\n",
       "       [0., 0., 0., 0., 1.]])"
      ]
     },
     "execution_count": 25,
     "metadata": {},
     "output_type": "execute_result"
    }
   ],
   "source": [
    "## array de identidad \n",
    "# una matriz identidad es una matriz cuadrada (nxn) con una diagonal de unos \n",
    "np.identity(5)"
   ]
  },
  {
   "cell_type": "code",
   "execution_count": 30,
   "metadata": {},
   "outputs": [
    {
     "data": {
      "text/plain": [
       "array([ 0. ,  2.3,  4.6,  6.9,  9.2, 11.5, 13.8, 16.1, 18.4, 20.7, 23. ,\n",
       "       25.3, 27.6, 29.9, 32.2, 34.5, 36.8, 39.1, 41.4, 43.7, 46. , 48.3,\n",
       "       50.6, 52.9, 55.2, 57.5, 59.8, 62.1, 64.4, 66.7, 69. , 71.3, 73.6,\n",
       "       75.9, 78.2, 80.5, 82.8, 85.1, 87.4, 89.7, 92. , 94.3, 96.6, 98.9])"
      ]
     },
     "execution_count": 30,
     "metadata": {},
     "output_type": "execute_result"
    }
   ],
   "source": [
    "# Rango de numeros (acepta decimales)  \n",
    "# con el rango, creame los pasos, sin importar cuantos elementos tenga el resultado \n",
    "\n",
    "np.arange(0, 100, 2.3)\n",
    "# np.arange y range \n",
    "\n"
   ]
  },
  {
   "cell_type": "code",
   "execution_count": 31,
   "metadata": {},
   "outputs": [
    {
     "data": {
      "text/plain": [
       "array([  0.        ,   2.3255814 ,   4.65116279,   6.97674419,\n",
       "         9.30232558,  11.62790698,  13.95348837,  16.27906977,\n",
       "        18.60465116,  20.93023256,  23.25581395,  25.58139535,\n",
       "        27.90697674,  30.23255814,  32.55813953,  34.88372093,\n",
       "        37.20930233,  39.53488372,  41.86046512,  44.18604651,\n",
       "        46.51162791,  48.8372093 ,  51.1627907 ,  53.48837209,\n",
       "        55.81395349,  58.13953488,  60.46511628,  62.79069767,\n",
       "        65.11627907,  67.44186047,  69.76744186,  72.09302326,\n",
       "        74.41860465,  76.74418605,  79.06976744,  81.39534884,\n",
       "        83.72093023,  86.04651163,  88.37209302,  90.69767442,\n",
       "        93.02325581,  95.34883721,  97.6744186 , 100.        ])"
      ]
     },
     "execution_count": 31,
     "metadata": {},
     "output_type": "execute_result"
    }
   ],
   "source": [
    "# Espacio Lineal (no acepta decimales)\n",
    "# con el rango, creame los pasos, que permitan dividir el rango en el numero de elementos definido\n",
    "# max-min/n \n",
    "np.linspace(0, 100, 44)"
   ]
  },
  {
   "cell_type": "code",
   "execution_count": 33,
   "metadata": {},
   "outputs": [
    {
     "data": {
      "text/plain": [
       "array([[26.78810056, 23.61405363, 57.75350795],\n",
       "       [87.77698618, 37.32200833, 59.47660272],\n",
       "       [47.1156561 , 98.5536544 , 75.05548821],\n",
       "       [54.68292748, 80.81738022, 78.23269912],\n",
       "       [ 9.87810211, 94.63158825, 72.79557299]])"
      ]
     },
     "execution_count": 33,
     "metadata": {},
     "output_type": "execute_result"
    }
   ],
   "source": [
    "# array con numero aleatorios \n",
    "np.random.random((5,3))*100"
   ]
  },
  {
   "cell_type": "markdown",
   "metadata": {},
   "source": [
    "### Atributos de los arrays"
   ]
  },
  {
   "cell_type": "code",
   "execution_count": 36,
   "metadata": {},
   "outputs": [
    {
     "data": {
      "text/plain": [
       "(5, 3)"
      ]
     },
     "execution_count": 36,
     "metadata": {},
     "output_type": "execute_result"
    }
   ],
   "source": [
    "## obtener las dimensiones\n",
    "espacio = np.random.random((5,3))\n",
    "espacio.shape"
   ]
  },
  {
   "cell_type": "code",
   "execution_count": 37,
   "metadata": {},
   "outputs": [
    {
     "data": {
      "text/plain": [
       "15"
      ]
     },
     "execution_count": 37,
     "metadata": {},
     "output_type": "execute_result"
    }
   ],
   "source": [
    "## obtener el número de elementos \n",
    "espacio.size"
   ]
  },
  {
   "cell_type": "code",
   "execution_count": 38,
   "metadata": {},
   "outputs": [
    {
     "data": {
      "text/plain": [
       "dtype('float64')"
      ]
     },
     "execution_count": 38,
     "metadata": {},
     "output_type": "execute_result"
    }
   ],
   "source": [
    "## obtener el tipo de los elementos \n",
    "espacio.dtype"
   ]
  },
  {
   "cell_type": "markdown",
   "metadata": {},
   "source": [
    "#### Acceder a los elementos de un array (indexar)"
   ]
  },
  {
   "cell_type": "code",
   "execution_count": 40,
   "metadata": {},
   "outputs": [
    {
     "data": {
      "text/plain": [
       "array([[0.1336036 , 0.66446149, 0.02262617],\n",
       "       [0.55296111, 0.42060311, 0.71103894],\n",
       "       [0.39786423, 0.212374  , 0.12338817],\n",
       "       [0.26902816, 0.00534501, 0.25799027],\n",
       "       [0.45271775, 0.45549259, 0.86215026]])"
      ]
     },
     "execution_count": 40,
     "metadata": {},
     "output_type": "execute_result"
    }
   ],
   "source": [
    "espacio"
   ]
  },
  {
   "cell_type": "code",
   "execution_count": 42,
   "metadata": {},
   "outputs": [
    {
     "data": {
      "text/plain": [
       "array([0.39786423, 0.212374  , 0.12338817])"
      ]
     },
     "execution_count": 42,
     "metadata": {},
     "output_type": "execute_result"
    }
   ],
   "source": [
    "espacio[2] #obtenemos el tercer elemento "
   ]
  },
  {
   "cell_type": "code",
   "execution_count": 43,
   "metadata": {},
   "outputs": [
    {
     "data": {
      "text/plain": [
       "0.39786423331391607"
      ]
     },
     "execution_count": 43,
     "metadata": {},
     "output_type": "execute_result"
    }
   ],
   "source": [
    "espacio[2][0] #obtenemos el primer elemento del tercer elemento de la matriz "
   ]
  },
  {
   "cell_type": "code",
   "execution_count": 51,
   "metadata": {},
   "outputs": [
    {
     "data": {
      "text/plain": [
       "array([[0.1336036 , 0.66446149],\n",
       "       [0.55296111, 0.42060311]])"
      ]
     },
     "execution_count": 51,
     "metadata": {},
     "output_type": "execute_result"
    }
   ],
   "source": [
    "espacio[0:2, 0:2]"
   ]
  },
  {
   "cell_type": "code",
   "execution_count": 57,
   "metadata": {},
   "outputs": [
    {
     "data": {
      "text/plain": [
       "array([0.1336036 , 0.02262617, 0.71103894, 0.212374  , 0.12338817,\n",
       "       0.26902816, 0.00534501, 0.25799027, 0.86215026])"
      ]
     },
     "execution_count": 57,
     "metadata": {},
     "output_type": "execute_result"
    }
   ],
   "source": [
    "#filtros en Numpy \n",
    "# nombre[condicion]\n",
    "\n",
    "espacio[(espacio < 0.3) | (espacio > 0.7)]"
   ]
  },
  {
   "cell_type": "code",
   "execution_count": 58,
   "metadata": {},
   "outputs": [
    {
     "data": {
      "text/plain": [
       "array([[0.1336036 , 0.55296111, 0.39786423, 0.26902816, 0.45271775],\n",
       "       [0.66446149, 0.42060311, 0.212374  , 0.00534501, 0.45549259],\n",
       "       [0.02262617, 0.71103894, 0.12338817, 0.25799027, 0.86215026]])"
      ]
     },
     "execution_count": 58,
     "metadata": {},
     "output_type": "execute_result"
    }
   ],
   "source": [
    "## Transposición de una matriz \n",
    "espacio.T"
   ]
  },
  {
   "cell_type": "markdown",
   "metadata": {},
   "source": [
    "Ejercicio Rápido \n",
    "1. Generar un arreglo bidimensional NxM  \n",
    "2. Recorrerlo y crear un arreglo nuevo, con los cuadrados de los elementos del arreglo inicial \n",
    "\n",
    "NOTA: no se vale hallar la potencia directamente "
   ]
  },
  {
   "cell_type": "code",
   "execution_count": 61,
   "metadata": {},
   "outputs": [
    {
     "name": "stdout",
     "output_type": "stream",
     "text": [
      "[1, 4, 9]\n",
      "[16, 25, 36]\n",
      "[49, 64, 81]\n"
     ]
    }
   ],
   "source": [
    "## Bayron \n",
    "a = [[1, 2, 3], [4, 5, 6], [7, 8, 9]]\n",
    "b = a\n",
    "for k in range(len(a[0])):\n",
    "    for h in range(len(a)):\n",
    "      b[k][h] = a[k][h]*a[k][h]\n",
    "    \n",
    "print(*b, sep=\"\\n\")"
   ]
  },
  {
   "cell_type": "code",
   "execution_count": null,
   "metadata": {},
   "outputs": [],
   "source": [
    "# Mauricio\n",
    "numeros = [[1,2,3],[4,5,6], [7,8,9]]\n",
    "array = np.array(numeros)\n",
    "for i in range (len(array)):\n",
    "    for j in range(len(array[i])):\n",
    "        array[i][j]=array[i][j]**2\n",
    "print(array)"
   ]
  },
  {
   "cell_type": "code",
   "execution_count": null,
   "metadata": {},
   "outputs": [],
   "source": [
    "## Daniel Barros \n",
    "numFilas, numCol = matriz.shape\n",
    "matriz2 = np.full([numFilas, numCol], 0)\n",
    "for i in range(numFilas):\n",
    "    for j in range(numCol):\n",
    "        matriz2[i, j] = matriz[i, j] ** 2"
   ]
  },
  {
   "cell_type": "code",
   "execution_count": null,
   "metadata": {},
   "outputs": [],
   "source": []
  }
 ],
 "metadata": {
  "kernelspec": {
   "display_name": "Python 3",
   "language": "python",
   "name": "python3"
  },
  "language_info": {
   "codemirror_mode": {
    "name": "ipython",
    "version": 3
   },
   "file_extension": ".py",
   "mimetype": "text/x-python",
   "name": "python",
   "nbconvert_exporter": "python",
   "pygments_lexer": "ipython3",
   "version": "3.7.6"
  }
 },
 "nbformat": 4,
 "nbformat_minor": 4
}
