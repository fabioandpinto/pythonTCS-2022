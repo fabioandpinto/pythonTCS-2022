{
 "cells": [
  {
   "cell_type": "markdown",
   "metadata": {},
   "source": [
    "#### Funciones \n",
    "\n",
    "- bloque de codigo que tiene  un nombre, que llamo cada vez que necesite ejecutar una tarea"
   ]
  },
  {
   "cell_type": "code",
   "execution_count": 2,
   "metadata": {},
   "outputs": [],
   "source": [
    "# def nombreF( parametros )\n",
    "    # bloque de codigo \n",
    "    # return objeto \n"
   ]
  },
  {
   "cell_type": "code",
   "execution_count": 4,
   "metadata": {},
   "outputs": [
    {
     "data": {
      "text/plain": [
       "function"
      ]
     },
     "execution_count": 4,
     "metadata": {},
     "output_type": "execute_result"
    }
   ],
   "source": [
    "# funcion sin argumentos \n",
    "def saludo():\n",
    "    print('Hola!')\n",
    "    \n",
    "saludo()"
   ]
  },
  {
   "cell_type": "code",
   "execution_count": 7,
   "metadata": {},
   "outputs": [
    {
     "name": "stdout",
     "output_type": "stream",
     "text": [
      "Hola Yeni\n"
     ]
    }
   ],
   "source": [
    "# Un argumento \n",
    "def saludoPersonalizado(nombre):\n",
    "    print(f'Hola {nombre}')\n",
    "    \n",
    "saludoPersonalizado('Yeni')"
   ]
  },
  {
   "cell_type": "code",
   "execution_count": 8,
   "metadata": {},
   "outputs": [],
   "source": [
    "## ¿Como podemos pasar argumentos? \n",
    "# Argumentos posicionales \n",
    "# Se ingresan en el orden en que está definido en la funcion \n",
    "\n",
    "# Argumentos nominales \n",
    "# Se ingresan con el nombre explícito \n",
    "\n",
    "# Argumentos sin valor y argumentos con valor por defecto \n",
    "# sin valor: se espera que se cargue su valor \n",
    "# vienen predeterminados\n",
    "\n"
   ]
  },
  {
   "cell_type": "code",
   "execution_count": 10,
   "metadata": {},
   "outputs": [],
   "source": [
    "def saludoSinValor(nombre):\n",
    "    print(f'Hola {nombre}')"
   ]
  },
  {
   "cell_type": "code",
   "execution_count": 12,
   "metadata": {},
   "outputs": [],
   "source": [
    "def saludoValorDefecto(nombre = 'Usuario'):\n",
    "    print(f'Hola {nombre}')"
   ]
  },
  {
   "cell_type": "code",
   "execution_count": 14,
   "metadata": {},
   "outputs": [
    {
     "name": "stdout",
     "output_type": "stream",
     "text": [
      "Hola Usuario\n"
     ]
    }
   ],
   "source": [
    "saludoValorDefecto()"
   ]
  },
  {
   "cell_type": "code",
   "execution_count": 15,
   "metadata": {},
   "outputs": [
    {
     "name": "stdout",
     "output_type": "stream",
     "text": [
      "Hola Juan\n"
     ]
    }
   ],
   "source": [
    "saludoValorDefecto('Juan')"
   ]
  },
  {
   "cell_type": "code",
   "execution_count": 16,
   "metadata": {},
   "outputs": [
    {
     "name": "stdout",
     "output_type": "stream",
     "text": [
      "Bienvenido, Mauricio, este es el curso de Python\n"
     ]
    }
   ],
   "source": [
    "def saludoPython(nombre, lenguaje='Python'): \n",
    "    print(f'Bienvenido, {nombre}, este es el curso de {lenguaje}')\n",
    "    \n",
    "saludoPython('Mauricio')"
   ]
  },
  {
   "cell_type": "code",
   "execution_count": 17,
   "metadata": {},
   "outputs": [
    {
     "name": "stdout",
     "output_type": "stream",
     "text": [
      "Bienvenido, Mauricio, este es el curso de Java\n"
     ]
    }
   ],
   "source": [
    "saludoPython('Mauricio', 'Java')"
   ]
  },
  {
   "cell_type": "code",
   "execution_count": 38,
   "metadata": {},
   "outputs": [
    {
     "name": "stdout",
     "output_type": "stream",
     "text": [
      "Bienvenido, Mauricio, este es el curso de Java\n"
     ]
    }
   ],
   "source": [
    "saludoPython(lenguaje='Java', nombre='Mauricio')"
   ]
  },
  {
   "cell_type": "code",
   "execution_count": 52,
   "metadata": {},
   "outputs": [
    {
     "name": "stdout",
     "output_type": "stream",
     "text": [
      "(1.2, 5, 1)\n"
     ]
    }
   ],
   "source": [
    "def div(a, b):\n",
    "    c = a/b\n",
    "    d = a%b\n",
    "    e = a//b\n",
    "    return c,d,e\n",
    "    \n",
    "div = div(30,25)\n",
    "print(div)\n"
   ]
  },
  {
   "cell_type": "code",
   "execution_count": 64,
   "metadata": {},
   "outputs": [
    {
     "name": "stdout",
     "output_type": "stream",
     "text": [
      "[30, 25]\n",
      "[36, 28]\n"
     ]
    }
   ],
   "source": [
    "kk = [30,25] # lista \n",
    "kj = [36,28]\n",
    "\n",
    "def div(*var): #ingresando un tipo lista \n",
    "    for i in var:\n",
    "        print(i)\n",
    "    return\n",
    "\n",
    "div(kk,kj)\n"
   ]
  },
  {
   "cell_type": "code",
   "execution_count": 68,
   "metadata": {},
   "outputs": [],
   "source": [
    "## documentando funciones \n",
    "def ecugeneral(a,b,c):\n",
    "    \"\"\"\n",
    "    Esta es la funcion para usar la formula general\n",
    "    para hallar los valores a,b,c de un polinomio\n",
    "    \n",
    "    La formula que aplica es \n",
    "    (-b+-raiz(b^2-4ac))\n",
    "    \"\"\"\n",
    "    pass\n",
    "\n",
    "## pass ignorar "
   ]
  },
  {
   "cell_type": "code",
   "execution_count": 69,
   "metadata": {},
   "outputs": [
    {
     "name": "stdout",
     "output_type": "stream",
     "text": [
      "Help on function ecugeneral in module __main__:\n",
      "\n",
      "ecugeneral(a, b, c)\n",
      "    Esta es la funcion para usar la formula general\n",
      "    para hallar los valores a,b,c de un polinomio\n",
      "    \n",
      "    La formula que aplica es \n",
      "    (-b+-raiz(b^2-4ac))\n",
      "\n"
     ]
    }
   ],
   "source": [
    "help(ecugeneral)"
   ]
  },
  {
   "cell_type": "markdown",
   "metadata": {},
   "source": [
    "#### Comprensión de colecciones \n",
    "##### List Comprehension \n"
   ]
  },
  {
   "cell_type": "code",
   "execution_count": 72,
   "metadata": {},
   "outputs": [
    {
     "name": "stdout",
     "output_type": "stream",
     "text": [
      "[1, 4, 9, 16, 25, 36, 49, 64, 81, 100]\n"
     ]
    }
   ],
   "source": [
    "## Da como resultado una lista \n",
    "# expresion for variables in lista if condicion \n",
    "\n",
    "# Hallar los cuadrados de todos los elementos de 1 a 10 \n",
    "cuadrado = []\n",
    "for i in range(1,11): \n",
    "    cuadrado.append(i**2)\n",
    "print(cuadrado)"
   ]
  },
  {
   "cell_type": "code",
   "execution_count": 75,
   "metadata": {},
   "outputs": [
    {
     "name": "stdout",
     "output_type": "stream",
     "text": [
      "[1, 4, 9, 16, 25, 36, 49, 64, 81, 100]\n"
     ]
    }
   ],
   "source": [
    "cuadrados = [x**2 for x in range(1,11)]\n",
    "print(cuadrados)"
   ]
  },
  {
   "cell_type": "code",
   "execution_count": 78,
   "metadata": {},
   "outputs": [
    {
     "name": "stdout",
     "output_type": "stream",
     "text": [
      "[1, 9, 25, 49, 81, 121, 169, 225, 289, 361, 441, 529, 625, 729, 841]\n"
     ]
    }
   ],
   "source": [
    "# Quiero hallar los cuadrados de todos los elementos IMPARES entre 1 y 30 \n",
    "c_imp = [x**2 for x in range(1,31) if x % 2 != 0]\n",
    "print(c_imp)\n"
   ]
  },
  {
   "cell_type": "markdown",
   "metadata": {},
   "source": [
    "#### Comprensión de Diccionarios"
   ]
  },
  {
   "cell_type": "code",
   "execution_count": 84,
   "metadata": {},
   "outputs": [
    {
     "data": {
      "text/plain": [
       "{'Fabio': 5,\n",
       " 'Brayan': 6,\n",
       " 'Esteban': 7,\n",
       " 'Paola': 5,\n",
       " 'Xavier': 6,\n",
       " 'Zapatero': 8,\n",
       " 'Byron': 5,\n",
       " 'Yenny': 5}"
      ]
     },
     "execution_count": 84,
     "metadata": {},
     "output_type": "execute_result"
    }
   ],
   "source": [
    "# {clave:valor for variables in lista if condicione}\n",
    "# quiero crear un diccionario que tenga como clave el nombre y como valor el numero de letras que tiene\n",
    "p2=['Fabio', 'Brayan', 'Esteban', 'Paola', 'Xavier', 'Zapatero', 'Byron', 'Yenny']\n",
    "\n",
    "letras = {palabra:len(palabra) for palabra in p2}\n",
    "letras "
   ]
  },
  {
   "cell_type": "code",
   "execution_count": 92,
   "metadata": {},
   "outputs": [
    {
     "name": "stdout",
     "output_type": "stream",
     "text": [
      "{'Fabio': 5, 'Paola': 5, 'Byron': 5, 'Yenny': 5}\n"
     ]
    }
   ],
   "source": [
    "nombre5 = {nombre:cant for (nombre, cant) in letras.items() if cant == 5}\n",
    "print(nombre5)"
   ]
  }
 ],
 "metadata": {
  "kernelspec": {
   "display_name": "Python 3",
   "language": "python",
   "name": "python3"
  },
  "language_info": {
   "codemirror_mode": {
    "name": "ipython",
    "version": 3
   },
   "file_extension": ".py",
   "mimetype": "text/x-python",
   "name": "python",
   "nbconvert_exporter": "python",
   "pygments_lexer": "ipython3",
   "version": "3.7.6"
  }
 },
 "nbformat": 4,
 "nbformat_minor": 4
}
