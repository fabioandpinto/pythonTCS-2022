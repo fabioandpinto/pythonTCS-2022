{
 "cells": [
  {
   "cell_type": "markdown",
   "metadata": {},
   "source": [
    "## Sesion 3 - Ciclos y Listas "
   ]
  },
  {
   "cell_type": "markdown",
   "metadata": {},
   "source": [
    "Ciclos : \n",
    "\n",
    "Estructuras repetitivas que pueden ser de dos tipos: \n",
    "* While:\n",
    "Depende de una condición \n",
    "No sabes cuantos ciclos va a tener \n",
    "Los casos en los que tenemos acciones persistentes o que desconocemos la condicion final \n",
    "* For:\n",
    "Depender de un rango, un inicio y un final, una secuencia de pasos a seguir \n",
    "El ciclo conoce el número de iteraciones que tendrá \n",
    "Se puede utilizar para recorrer listas sin un indice "
   ]
  },
  {
   "cell_type": "code",
   "execution_count": 1,
   "metadata": {},
   "outputs": [
    {
     "name": "stdout",
     "output_type": "stream",
     "text": [
      "Ingrese el número: 0\n"
     ]
    }
   ],
   "source": [
    "# ciclo while \n",
    "\n",
    "#while condicion: \n",
    " #   bloque codigo \n",
    "  #  break\n",
    "numero = 100 \n",
    "while numero != 0: \n",
    "    numero = int(input('Ingrese el número: '))"
   ]
  },
  {
   "cell_type": "code",
   "execution_count": 25,
   "metadata": {},
   "outputs": [
    {
     "name": "stdout",
     "output_type": "stream",
     "text": [
      "Ingrese el número: 0\n"
     ]
    }
   ],
   "source": [
    "while True: \n",
    "    numero = int(input('Ingrese el número: '))\n",
    "    if numero == 0:\n",
    "        break"
   ]
  },
  {
   "cell_type": "markdown",
   "metadata": {},
   "source": [
    "Ciclo for (bucle iterativo) \n"
   ]
  },
  {
   "cell_type": "code",
   "execution_count": 6,
   "metadata": {},
   "outputs": [
    {
     "name": "stdout",
     "output_type": "stream",
     "text": [
      "range(0, 9)\n"
     ]
    }
   ],
   "source": [
    "# Range \n",
    "# range(j) -> j es el final del rango \n",
    "# range(i,j,k) -> i es el principio, j es el final y k es el paso \n",
    "# si no tiene k, va a llegar hasta j - 1\n",
    "# si tiene k, va a llegar hasta j-k\n",
    "range(9)"
   ]
  },
  {
   "cell_type": "code",
   "execution_count": 14,
   "metadata": {},
   "outputs": [
    {
     "name": "stdout",
     "output_type": "stream",
     "text": [
      "1\n",
      "3\n",
      "5\n",
      "7\n"
     ]
    }
   ],
   "source": [
    "# for i in secuencia: \n",
    "    # bloque codigo \n",
    "    \n",
    "for i in range(1,9,2):\n",
    "    print(i)"
   ]
  },
  {
   "cell_type": "code",
   "execution_count": 23,
   "metadata": {},
   "outputs": [
    {
     "name": "stdout",
     "output_type": "stream",
     "text": [
      "E, s, t, e, r, n, o, c, l, e, i, d, o, m, a, s, t, o, i, d, e, o, "
     ]
    }
   ],
   "source": [
    "palabra = 'Esternocleidomastoideo'\n",
    "#range(len(palabra))\n",
    "for i in palabra: \n",
    "    print(i , end = ', ')   "
   ]
  },
  {
   "cell_type": "code",
   "execution_count": 22,
   "metadata": {},
   "outputs": [
    {
     "name": "stdout",
     "output_type": "stream",
     "text": [
      "E, s, t, e, r, n, o, c, l, e, i, d, o, m, a, s, t, o, i, d, e, o, "
     ]
    }
   ],
   "source": [
    "palabra = 'Esternocleidomastoideo'\n",
    "for i in range(len(palabra)):\n",
    "    print(palabra[i], end = ', ') #Indexando la palabra "
   ]
  },
  {
   "cell_type": "markdown",
   "metadata": {},
   "source": [
    "## Estructuras de datos: Listas"
   ]
  },
  {
   "cell_type": "markdown",
   "metadata": {},
   "source": [
    "Tres estructuras de datos en python \n",
    " - listas \n",
    " - tuplas \n",
    " - Diccionarios \n",
    " \n",
    "- Lista: secuencia ordenada de elementos --- DE DISTINTO TIPO \n",
    "- Se construyen con corchetes, y los elementos van separados por comas []"
   ]
  },
  {
   "cell_type": "code",
   "execution_count": 39,
   "metadata": {},
   "outputs": [
    {
     "name": "stdout",
     "output_type": "stream",
     "text": [
      "6\n",
      "5\n"
     ]
    }
   ],
   "source": [
    " # listas vacias\n",
    "lista1 = []\n",
    " # listas unidimensionales\n",
    "lista2 = [1 , 23, 3 ,6 ]\n",
    "# listas combinadas \n",
    "lista3 = [True, 25, 'Hola']\n",
    "\n",
    "## Listas de listas \n",
    "lista3=[2, 5 ,6] #Vector \n",
    "print(lista3[2])\n",
    "\n",
    "# listas anidadas \n",
    "lista4= [[2, 3], [5, 6], [8,5]] # Matriz \n",
    "print(lista4[2][1])\n",
    "# 2 3 \n",
    "# 5 6 \n",
    "# 8 5 \n",
    "\n"
   ]
  },
  {
   "cell_type": "markdown",
   "metadata": {},
   "source": [
    "- Tienen orden \n",
    "- Pueden contener elementos de distintos tipos (incluso arreglos dentro de ellas )\n",
    "- mutable: lo puedo modificar durante cualquier parte de la ejecución del codigos \n"
   ]
  },
  {
   "cell_type": "code",
   "execution_count": 47,
   "metadata": {},
   "outputs": [
    {
     "name": "stdout",
     "output_type": "stream",
     "text": [
      "[]\n",
      "['D', 'e', 's', 'o', 'x', 'i', 'r', 'r', 'i', 'b', 'o', 'n', 'u', 'c', 'l', 'e', 'i', 'c', 'o']\n"
     ]
    }
   ],
   "source": [
    "# para convertir un elemento o elementos en lista \n",
    "# list()\n",
    "listaVacia = list()\n",
    "print(listaVacia)\n",
    "\n",
    "# Convertir string a lista \n",
    "palabra = \"Desoxirribonucleico\"\n",
    "pal_list = list(palabra)\n",
    "print(pal_list)\n",
    "\n",
    "# indexamos con l[i], el tamaño va a ser n y el ultimo elemento tendrá indice n-1\n"
   ]
  },
  {
   "cell_type": "code",
   "execution_count": 51,
   "metadata": {},
   "outputs": [
    {
     "data": {
      "text/plain": [
       "'exr'"
      ]
     },
     "execution_count": 51,
     "metadata": {},
     "output_type": "execute_result"
    }
   ],
   "source": [
    "# sublistas \n",
    "# lista[i]\n",
    "palabra[10]\n",
    "\n",
    "# lista[i:j]\n",
    "palabra[5:10]\n",
    "\n",
    "#lista[i:j:k]\n",
    "palabra[1:10:3]"
   ]
  }
 ],
 "metadata": {
  "kernelspec": {
   "display_name": "Python 3",
   "language": "python",
   "name": "python3"
  },
  "language_info": {
   "codemirror_mode": {
    "name": "ipython",
    "version": 3
   },
   "file_extension": ".py",
   "mimetype": "text/x-python",
   "name": "python",
   "nbconvert_exporter": "python",
   "pygments_lexer": "ipython3",
   "version": "3.7.6"
  }
 },
 "nbformat": 4,
 "nbformat_minor": 4
}
