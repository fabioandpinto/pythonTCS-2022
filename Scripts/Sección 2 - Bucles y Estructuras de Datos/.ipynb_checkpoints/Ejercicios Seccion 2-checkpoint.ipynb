{
 "cells": [
  {
   "cell_type": "markdown",
   "metadata": {},
   "source": [
    "### *Ejercicios 2 - BUCLES Y ESTRUCTURAS*\n",
    "\n",
    "#### BUCLES"
   ]
  },
  {
   "cell_type": "markdown",
   "metadata": {},
   "source": [
    "Escribir un programa que pida al usuario una palabra y la muestre por pantalla 10 veces."
   ]
  },
  {
   "cell_type": "code",
   "execution_count": 1,
   "metadata": {},
   "outputs": [
    {
     "name": "stdout",
     "output_type": "stream",
     "text": [
      "Ingrese la palabra: Hola\n",
      "Ingrese el número de repeticiones: 10\n",
      "Hola\n",
      "Hola\n",
      "Hola\n",
      "Hola\n",
      "Hola\n",
      "Hola\n",
      "Hola\n",
      "Hola\n",
      "Hola\n",
      "Hola\n"
     ]
    }
   ],
   "source": [
    "entrada = input('Ingrese la palabra: ')\n",
    "rep = int(input('Ingrese el número de repeticiones: '))\n",
    "\n",
    "for i in range(rep):\n",
    "    print(entrada)"
   ]
  },
  {
   "cell_type": "markdown",
   "metadata": {},
   "source": [
    "Escribir un programa que pregunte al usuario su edad y muestre por pantalla todos los años que ha cumplido (desde 1 hasta su edad)"
   ]
  },
  {
   "cell_type": "code",
   "execution_count": 3,
   "metadata": {},
   "outputs": [
    {
     "name": "stdout",
     "output_type": "stream",
     "text": [
      "Ingrese su edad: 20\n",
      "1 años\n",
      "2 años\n",
      "3 años\n",
      "4 años\n",
      "5 años\n",
      "6 años\n",
      "7 años\n",
      "8 años\n",
      "9 años\n",
      "10 años\n",
      "11 años\n",
      "12 años\n",
      "13 años\n",
      "14 años\n",
      "15 años\n",
      "16 años\n",
      "17 años\n",
      "18 años\n",
      "19 años\n",
      "20 años\n"
     ]
    }
   ],
   "source": [
    "edad = int(input('Ingrese su edad: '))\n",
    "\n",
    "for i in range(1, edad+1): # (i,j) - i es el inicio y j-1 el final \n",
    "    print(f'{i} años')"
   ]
  },
  {
   "cell_type": "markdown",
   "metadata": {},
   "source": [
    "Escribir un programa que pida al usuario un número entero positivo y muestre por pantalla todos los números impares desde 1 hasta ese número separados por comas."
   ]
  },
  {
   "cell_type": "code",
   "execution_count": 4,
   "metadata": {},
   "outputs": [
    {
     "name": "stdout",
     "output_type": "stream",
     "text": [
      "ingresa el numero: 51\n",
      "1,3,5,7,9,11,13,15,17,19,21,23,25,27,29,31,33,35,37,39,41,43,45,47,49,51,"
     ]
    }
   ],
   "source": [
    "n = int(input('ingresa el numero: '))\n",
    "for i in range(n+1):\n",
    "    r = i%2\n",
    "    if r == 1:\n",
    "        print(i, end=',')"
   ]
  },
  {
   "cell_type": "markdown",
   "metadata": {},
   "source": [
    "Escribir un programa que pida al usuario un número entero positivo y muestre por pantalla la cuenta atrás desde ese número hasta cero separados por comas."
   ]
  },
  {
   "cell_type": "code",
   "execution_count": 5,
   "metadata": {},
   "outputs": [
    {
     "name": "stdout",
     "output_type": "stream",
     "text": [
      "Escriba un numero20\n",
      "20, 19, 18, 17, 16, 15, 14, 13, 12, 11, 10, 9, 8, 7, 6, 5, 4, 3, 2, 1, 0, "
     ]
    }
   ],
   "source": [
    "num = int (input('Escriba un numero'))\n",
    "for n in range(num,-1,-1):\n",
    "    print(n, end=', ')"
   ]
  },
  {
   "cell_type": "markdown",
   "metadata": {},
   "source": [
    "Escribir un programa que almacene la cadena de caracteres contraseña en una variable, pregunte al usuario por la contraseña hasta que introduzca la contraseña correcta."
   ]
  },
  {
   "cell_type": "code",
   "execution_count": 1,
   "metadata": {},
   "outputs": [
    {
     "name": "stdout",
     "output_type": "stream",
     "text": [
      "Ingrese la contraseña: tcs\n",
      "Contraseña Incorrecta\n",
      "Ingrese la contraseña: ty\n",
      "Contraseña Incorrecta\n",
      "Ingrese la contraseña: po\n",
      "Contraseña Incorrecta\n",
      "Ingrese la contraseña: er\n",
      "Contraseña Incorrecta\n",
      "Ingrese la contraseña: tcs2022.\n",
      "Contraseña correcta!\n"
     ]
    }
   ],
   "source": [
    "psw = 'tcs2022.'\n",
    "\n",
    "# dos formas \n",
    "while True: \n",
    "    con = input('Ingrese la contraseña: ')\n",
    "    if con == psw: \n",
    "        print('Contraseña correcta!')\n",
    "        break\n",
    "    else: \n",
    "        print('Contraseña Incorrecta')"
   ]
  },
  {
   "cell_type": "code",
   "execution_count": 4,
   "metadata": {},
   "outputs": [
    {
     "name": "stdout",
     "output_type": "stream",
     "text": [
      "Ingrese la contraseña: fdr\n",
      "Ingrese la contraseña: fdfd\n",
      "Ingrese la contraseña: fdf\n",
      "Ingrese la contraseña: dfd\n",
      "Ingrese la contraseña: fdf\n",
      "Ingrese la contraseña: df\n",
      "Ingrese la contraseña: df\n",
      "Ingrese la contraseña: tcs2022.\n"
     ]
    }
   ],
   "source": [
    "psw = 'tcs2022.'\n",
    "\n",
    "con = None\n",
    "while con != psw: \n",
    "    con = input('Ingrese la contraseña: ')\n",
    "    # si queremos mostrar mensaje correcto\n",
    "    if con == psw:\n",
    "        print('Contraseña correcta')\n",
    "        break\n",
    "    print('Contraseña incorrecta!')\n",
    "\n"
   ]
  },
  {
   "cell_type": "markdown",
   "metadata": {},
   "source": [
    "Escribir un programa que pida al usuario un número entero y muestre por pantalla si es un número primo o no."
   ]
  },
  {
   "cell_type": "code",
   "execution_count": 23,
   "metadata": {},
   "outputs": [
    {
     "name": "stdout",
     "output_type": "stream",
     "text": [
      "Ingrese el numero a evaluar: 37\n",
      "El numero es divisible entre 37\n",
      "Divisible entre 1 numeros\n",
      "El numero es primo\n"
     ]
    }
   ],
   "source": [
    "# Numero primo: numero que solo es divisible entre 1 y él mismo \n",
    "# Todos los numeros son divisibles entre 1 \n",
    "# divisible de 2 en adelante \n",
    "\n",
    "numero = int(input('Ingrese el numero a evaluar: ')) #recibo el numero a evaluar \n",
    "divisores = 0 # inicializo contador de divisores \n",
    "for i in range(2,numero+1): # rango irá de 2 a el numero (n+1)\n",
    "    p = numero%i #calculo el modulo \n",
    "    if p == 0: #si el modulo es 0 significa que es divisible entre ese \n",
    "        divisores += 1 # si el modulo es cero aumento el numero de divisores \n",
    "        print('El numero es divisible entre {0}'.format(i))\n",
    "        \n",
    "print('Divisible entre {0} numeros'.format(divisores))\n",
    "if divisores == 1: \n",
    "    print('El numero es primo')"
   ]
  },
  {
   "cell_type": "markdown",
   "metadata": {},
   "source": [
    "Escribir un programa que pida al usuario una palabra y luego muestre por pantalla una a una las letras de la palabra introducida empezando por la última."
   ]
  },
  {
   "cell_type": "code",
   "execution_count": 6,
   "metadata": {},
   "outputs": [
    {
     "name": "stdout",
     "output_type": "stream",
     "text": [
      "ingresa la palabra: 20\n",
      "0\n",
      "2\n"
     ]
    }
   ],
   "source": [
    "p = input('ingresa la palabra: ')\n",
    "i = len(p)-1\n",
    "while i !=-1:\n",
    "    print(p[i])\n",
    "    i-=1"
   ]
  },
  {
   "cell_type": "code",
   "execution_count": 15,
   "metadata": {},
   "outputs": [
    {
     "name": "stdout",
     "output_type": "stream",
     "text": [
      "Ingrese una palabra:5565\n",
      "5\n",
      "6\n",
      "5\n",
      "5\n"
     ]
    }
   ],
   "source": [
    "x=list(input(\"Ingrese una palabra:\"))\n",
    "for i in reversed(x):\n",
    "    print(i)"
   ]
  },
  {
   "cell_type": "code",
   "execution_count": 20,
   "metadata": {},
   "outputs": [
    {
     "name": "stdout",
     "output_type": "stream",
     "text": [
      "Ingrese una palabra:hola\n",
      "['a', 'l', 'o', 'h']\n"
     ]
    }
   ],
   "source": [
    "x=list(input(\"Ingrese una palabra:\"))\n",
    "x.reverse()\n",
    "\n",
    "print(x)\n"
   ]
  },
  {
   "cell_type": "code",
   "execution_count": 26,
   "metadata": {},
   "outputs": [
    {
     "name": "stdout",
     "output_type": "stream",
     "text": [
      "a\n",
      "l\n",
      "o\n",
      "H\n"
     ]
    }
   ],
   "source": [
    "x = list('Hola')\n",
    "y = reversed(x) # iterador \n",
    "\n",
    "for i in y:\n",
    "    print(i)"
   ]
  },
  {
   "cell_type": "code",
   "execution_count": null,
   "metadata": {},
   "outputs": [],
   "source": [
    "p2=['Fabio', 'Brayan', 'Esteban', 'Paola', 'Xavier', 'Zapatero', 'Byron', 'Yenny']\n"
   ]
  },
  {
   "cell_type": "markdown",
   "metadata": {},
   "source": [
    "Escribir un programa en el que se pregunte al usuario por una frase y una letra, y muestre por pantalla el número de veces que aparece la letra en la frase."
   ]
  },
  {
   "cell_type": "code",
   "execution_count": 28,
   "metadata": {},
   "outputs": [
    {
     "name": "stdout",
     "output_type": "stream",
     "text": [
      "Ingrese la frase: hy\n",
      "Ingrese la letra a buscar: h\n",
      "La letra \"h\", aparece 1 veces en la frase.\n"
     ]
    }
   ],
   "source": [
    "frase = input('Ingrese la frase: ')\n",
    "letra = input('Ingrese la letra a buscar: ')\n",
    "\n",
    "numero = frase.count(letra)\n",
    "print('La letra \"{0}\", aparece {1} veces en la frase.'.format(letra, numero))"
   ]
  },
  {
   "cell_type": "code",
   "execution_count": 38,
   "metadata": {},
   "outputs": [
    {
     "name": "stdout",
     "output_type": "stream",
     "text": [
      "Hola Fabio Bienvenido\n",
      "Hola Fabio Bienvenido\n",
      "Hola Bienvenido, Bienvenido, Bienvenido\n",
      "Hola Fabio, Bienvenido\n"
     ]
    }
   ],
   "source": [
    "nombre = 'Fabio'\n",
    "#Hola Fabio \n",
    "\n",
    "print('Hola', nombre, 'Bienvenido') #1 \n",
    "print('Hola '+nombre+' Bienvenido') #2\n",
    "# format sirve para ingresar valores de variables en un texto \n",
    "\n",
    "otro = 'Bienvenido'\n",
    "print('Hola {1}, {1}, {1}'.format(nombre,otro)) #3\n",
    "\n",
    "print(f'Hola {nombre}, {otro}') #4 "
   ]
  },
  {
   "cell_type": "markdown",
   "metadata": {},
   "source": [
    "Escribir un programa que muestre el eco de todo lo que el usuario introduzca hasta que el usuario escriba “salir” que terminará."
   ]
  },
  {
   "cell_type": "code",
   "execution_count": 24,
   "metadata": {},
   "outputs": [
    {
     "name": "stdout",
     "output_type": "stream",
     "text": [
      "Escribe algo: hola\n",
      "hola\n",
      "Escribe algo: hola\n",
      "hola\n",
      "Escribe algo: hola\n",
      "hola\n",
      "Escribe algo: hola\n",
      "hola\n",
      "Escribe algo: chao\n",
      "chao\n",
      "Escribe algo: chao \n",
      "chao \n",
      "Escribe algo: chao\n",
      "chao\n",
      "Escribe algo: salir\n"
     ]
    }
   ],
   "source": [
    "while True:\n",
    "    eco = input('Escribe algo: ')\n",
    "    if eco != 'salir':\n",
    "        print(eco)\n",
    "    else:\n",
    "        break "
   ]
  },
  {
   "cell_type": "markdown",
   "metadata": {},
   "source": [
    "#### ESTRUCTURAS "
   ]
  },
  {
   "cell_type": "markdown",
   "metadata": {},
   "source": [
    "Escribir un programa que almacene las asignaturas de un curso (por ejemplo Matemáticas, Física, Química, Historia y Lengua) en una lista y la muestre por pantalla."
   ]
  },
  {
   "cell_type": "code",
   "execution_count": 28,
   "metadata": {},
   "outputs": [
    {
     "name": "stdout",
     "output_type": "stream",
     "text": [
      "Matematicas\n",
      "Fisica\n",
      "Quimica\n"
     ]
    }
   ],
   "source": [
    "asignaturas = ['Matematicas', 'Fisica', 'Quimica']\n",
    "\n",
    "for i in asignaturas:\n",
    "    print(i)"
   ]
  },
  {
   "cell_type": "markdown",
   "metadata": {},
   "source": [
    "Escribir un programa que almacene las asignaturas de un curso (por ejemplo Matemáticas, Física, Química, Historia y Lengua) en una lista y la muestre por pantalla el mensaje Yo estudio <asignatura>, donde <asignatura> es cada una de las asignaturas de la lista."
   ]
  },
  {
   "cell_type": "code",
   "execution_count": 29,
   "metadata": {},
   "outputs": [
    {
     "name": "stdout",
     "output_type": "stream",
     "text": [
      "Yo estudio Matematicas\n",
      "Yo estudio Fisica\n",
      "Yo estudio Quimica\n"
     ]
    }
   ],
   "source": [
    "asignaturas = ['Matematicas', 'Fisica', 'Quimica']\n",
    "\n",
    "for i in asignaturas:\n",
    "    print(f'Yo estudio {i}')"
   ]
  },
  {
   "cell_type": "markdown",
   "metadata": {},
   "source": [
    "Escribir un programa que pregunte al usuario los números ganadores de la lotería primitiva, los almacene en una lista y los muestre por pantalla ordenados de menor a mayor."
   ]
  },
  {
   "cell_type": "code",
   "execution_count": 32,
   "metadata": {},
   "outputs": [
    {
     "name": "stdout",
     "output_type": "stream",
     "text": [
      "Ingrese la cantidad de números de la loteria: 2\n",
      "Ingrese el numero 0: 25\n",
      "Ingrese el numero 1: 20\n",
      "[20, 25]\n"
     ]
    }
   ],
   "source": [
    "cant = int(input('Ingrese la cantidad de números de la loteria: '))\n",
    "juego = []\n",
    "\n",
    "for i in range(cant): \n",
    "    num = int(input('Ingrese el numero {0}: '.format(i)))\n",
    "    juego.append(num)\n",
    "    \n",
    "juego.sort()\n",
    "print(juego)\n"
   ]
  },
  {
   "cell_type": "markdown",
   "metadata": {},
   "source": [
    "Escribir un programa que almacene en una lista los números del 1 al 10 y los muestre por pantalla en orden inverso separados por comas."
   ]
  },
  {
   "cell_type": "code",
   "execution_count": 34,
   "metadata": {},
   "outputs": [
    {
     "name": "stdout",
     "output_type": "stream",
     "text": [
      "10, 9, 8, 7, 6, 5, 4, 3, 2, 1, "
     ]
    }
   ],
   "source": [
    "numeros = []\n",
    "numeros.extend(range(1,11)) #concatenar una secuencia\n",
    "numeros.reverse()\n",
    "\n",
    "for i in numeros:\n",
    "    print(i, end=', ')\n"
   ]
  },
  {
   "cell_type": "markdown",
   "metadata": {},
   "source": [
    "Escribir un programa que almacene las asignaturas de un curso (por ejemplo Matemáticas, Física, Química, Historia y Lengua) en una lista, pregunte al usuario la nota que ha sacado en cada asignatura y elimine de la lista las asignaturas aprobadas. Al final el programa debe mostrar por pantalla las asignaturas que el usuario tiene que repetir."
   ]
  },
  {
   "cell_type": "code",
   "execution_count": 4,
   "metadata": {},
   "outputs": [
    {
     "name": "stdout",
     "output_type": "stream",
     "text": [
      "Ingrese la nota de Matematicas: 2.3\n",
      "Ingrese la nota de Fisica: 3.0\n",
      "Ingrese la nota de Quimica: 3.6\n",
      "Ingrese la nota de Arte: 2.0\n",
      "Ingrese la nota de Geometría: 3.0\n",
      "Ingrese la nota de Estadistica: 5\n",
      "Ingrese la nota de Programación: 2.3\n",
      "Las materias ganadas son: \n",
      "['Fisica', 'Quimica', 'Geometría', 'Estadistica']\n",
      "Las materias perdidas son: \n",
      "['Matematicas', 'Arte', 'Programación']\n"
     ]
    }
   ],
   "source": [
    "asignaturas = ['Matematicas', 'Fisica', 'Quimica', 'Arte', 'Geometría', 'Estadistica', 'Programación']\n",
    "notas = []\n",
    "\n",
    "#creamos la lista vacia de materias perdidas\n",
    "perdidas = []\n",
    "ganadas = []\n",
    "\n",
    "# procedemos al llenado de las notas \n",
    "for i in range(len(asignaturas)):\n",
    "    nota = float(input(f'Ingrese la nota de {asignaturas[i]}: '))\n",
    "    notas.append(nota)\n",
    "\n",
    "for i in range(len(asignaturas)):\n",
    "    if notas[i] < 3.0:\n",
    "        perdidas.append(asignaturas[i])\n",
    "    else: \n",
    "        ganadas.append(asignaturas[i])\n",
    "\n",
    "print('Las materias ganadas son: ')\n",
    "print(ganadas)\n",
    "\n",
    "print('Las materias perdidas son: ')\n",
    "print(perdidas)"
   ]
  },
  {
   "cell_type": "markdown",
   "metadata": {},
   "source": [
    "Escribir un programa que almacene las asignaturas de un curso (por ejemplo Matemáticas, Física, Química, Historia y Lengua) en una lista, y los créditos que tiene cada una de las materias, pregunte al usuario la nota que ha sacado en cada asignatura. Al final del programa, debe calcular la media aritmética y la media ponderada."
   ]
  },
  {
   "cell_type": "code",
   "execution_count": 11,
   "metadata": {
    "scrolled": true
   },
   "outputs": [
    {
     "name": "stdout",
     "output_type": "stream",
     "text": [
      "Ingrese la nota de Matematicas: 3.3\n",
      "Ingrese la nota de Fisica: 3.2\n",
      "Ingrese la nota de Quimica: 3\n",
      "Ingrese la nota de Arte: 4\n",
      "Ingrese la nota de Geometría: 2.3\n",
      "Ingrese la nota de Estadistica: 3.2\n",
      "Ingrese la nota de Programación: 3\n",
      "La media aritmética es 3.14\n",
      "La media ponderada es 3.15\n"
     ]
    }
   ],
   "source": [
    "asignaturas = ['Matematicas', 'Fisica', 'Quimica', 'Arte', 'Geometría', 'Estadistica', 'Programación']\n",
    "creditos = [4, 3, 4, 2, 2, 4, 3] \n",
    "\n",
    "notas = []\n",
    "# procedemos al llenado de las notas \n",
    "for i in range(len(asignaturas)):\n",
    "    nota = float(input(f'Ingrese la nota de {asignaturas[i]}: '))\n",
    "    notas.append(nota)\n",
    "\n",
    "prom = sum(notas)/len(notas)\n",
    "print(f'La media aritmética es {round(prom,2)}')\n",
    "\n",
    "## sumatoria(nota*creditos)/numero de creditos \n",
    "nota_ponderada = []\n",
    "\n",
    "for i in range(len(notas)): \n",
    "    pon = notas[i]*creditos[i]\n",
    "    nota_ponderada.append(pon)\n",
    "    \n",
    "#hallamos la media ponderada\n",
    "prom_pon = sum(nota_ponderada)/sum(creditos)\n",
    "print(f'La media ponderada es {round(prom_pon,2)}')"
   ]
  },
  {
   "cell_type": "markdown",
   "metadata": {},
   "source": [
    "Escribir un programa que almacene el abecedario en una lista, elimine de la lista las letras que ocupen posiciones múltiplos de 3, y muestre por pantalla la lista resultante."
   ]
  },
  {
   "cell_type": "code",
   "execution_count": 38,
   "metadata": {},
   "outputs": [
    {
     "name": "stdout",
     "output_type": "stream",
     "text": [
      "0\n",
      "3\n",
      "6\n",
      "9\n",
      "12\n",
      "15\n",
      "18\n",
      "21\n",
      "24\n",
      "['a', 'd', 'g', 'j', 'm', 'p', 's', 'v', 'y']\n"
     ]
    }
   ],
   "source": [
    "abece = 'abcdefghijklmnopqrstuvwxyz'\n",
    "l_abece = list(abece)\n",
    "\n",
    "abc_3 = []\n",
    "\n",
    "for i in range(0,len(l_abece),3):\n",
    "    print(i)\n",
    "    abc_3.append(l_abece[i])\n",
    "\n",
    "print(abc_3)"
   ]
  },
  {
   "cell_type": "code",
   "execution_count": 39,
   "metadata": {},
   "outputs": [
    {
     "data": {
      "text/plain": [
       "['a', 'd', 'g', 'j', 'm', 'p', 's', 'v', 'y']"
      ]
     },
     "execution_count": 39,
     "metadata": {},
     "output_type": "execute_result"
    }
   ],
   "source": [
    "# List Comprehension \n",
    "ABC = [chr(x) for x in range(97, 123)]\n",
    "lista_resultante = [ABC[x] for x in range(0, len(ABC)+1, 3)]\n",
    "lista_resultante"
   ]
  },
  {
   "cell_type": "markdown",
   "metadata": {},
   "source": [
    "Escribir un programa que pida al usuario una palabra y muestre por pantalla el número de veces que contiene cada vocal."
   ]
  },
  {
   "cell_type": "markdown",
   "metadata": {},
   "source": [
    "Escribir un programa que almacene en una lista los siguientes precios, 50, 75, 46, 22, 80, 65, 8, y muestre por pantalla el menor y el mayor de los precios."
   ]
  },
  {
   "attachments": {
    "image.png": {
     "image/png": "[encoded data removed]"
    }
   },
   "cell_type": "markdown",
   "metadata": {},
   "source": [
    "Escribir un programa que almacene las matrices\n",
    "![image.png](attachment:image.png)\n",
    "en una lista y muestre por pantalla su producto.\n"
   ]
  },
  {
   "cell_type": "markdown",
   "metadata": {},
   "source": [
    "*Escribir un programa que pregunte por una muestra de números, separados por comas, los guarde en una lista y muestre por pantalla su media y desviación típica.*"
   ]
  }
 ],
 "metadata": {
  "kernelspec": {
   "display_name": "Python 3",
   "language": "python",
   "name": "python3"
  },
  "language_info": {
   "codemirror_mode": {
    "name": "ipython",
    "version": 3
   },
   "file_extension": ".py",
   "mimetype": "text/x-python",
   "name": "python",
   "nbconvert_exporter": "python",
   "pygments_lexer": "ipython3",
   "version": "3.7.6"
  }
 },
 "nbformat": 4,
 "nbformat_minor": 4
}
