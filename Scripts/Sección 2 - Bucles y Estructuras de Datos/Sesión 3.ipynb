{
 "cells": [
  {
   "cell_type": "markdown",
   "metadata": {},
   "source": [
    "## Sesion 3 - Ciclos y Listas "
   ]
  },
  {
   "cell_type": "markdown",
   "metadata": {},
   "source": [
    "Ciclos : \n",
    "\n",
    "Estructuras repetitivas que pueden ser de dos tipos: \n",
    "* While:\n",
    "Depende de una condición \n",
    "No sabes cuantos ciclos va a tener \n",
    "Los casos en los que tenemos acciones persistentes o que desconocemos la condicion final \n",
    "* For:\n",
    "Depender de un rango, un inicio y un final, una secuencia de pasos a seguir \n",
    "El ciclo conoce el número de iteraciones que tendrá \n",
    "Se puede utilizar para recorrer listas sin un indice "
   ]
  },
  {
   "cell_type": "code",
   "execution_count": 1,
   "metadata": {},
   "outputs": [
    {
     "name": "stdout",
     "output_type": "stream",
     "text": [
      "Ingrese el número: 0\n"
     ]
    }
   ],
   "source": [
    "# ciclo while \n",
    "\n",
    "#while condicion: \n",
    " #   bloque codigo \n",
    "  #  break\n",
    "numero = 100 \n",
    "while numero != 0: \n",
    "    numero = int(input('Ingrese el número: '))"
   ]
  },
  {
   "cell_type": "code",
   "execution_count": 25,
   "metadata": {},
   "outputs": [
    {
     "name": "stdout",
     "output_type": "stream",
     "text": [
      "Ingrese el número: 0\n"
     ]
    }
   ],
   "source": [
    "while True: \n",
    "    numero = int(input('Ingrese el número: '))\n",
    "    if numero == 0:\n",
    "        break"
   ]
  },
  {
   "cell_type": "markdown",
   "metadata": {},
   "source": [
    "Ciclo for (bucle iterativo) \n"
   ]
  },
  {
   "cell_type": "code",
   "execution_count": 6,
   "metadata": {},
   "outputs": [
    {
     "name": "stdout",
     "output_type": "stream",
     "text": [
      "range(0, 9)\n"
     ]
    }
   ],
   "source": [
    "# Range \n",
    "# range(j) -> j es el final del rango \n",
    "# range(i,j,k) -> i es el principio, j es el final y k es el paso \n",
    "# si no tiene k, va a llegar hasta j - 1\n",
    "# si tiene k, va a llegar hasta j-k\n",
    "range(9)"
   ]
  },
  {
   "cell_type": "code",
   "execution_count": 14,
   "metadata": {},
   "outputs": [
    {
     "name": "stdout",
     "output_type": "stream",
     "text": [
      "1\n",
      "3\n",
      "5\n",
      "7\n"
     ]
    }
   ],
   "source": [
    "# for i in secuencia: \n",
    "    # bloque codigo \n",
    "    \n",
    "for i in range(1,9,2):\n",
    "    print(i)"
   ]
  },
  {
   "cell_type": "code",
   "execution_count": 23,
   "metadata": {},
   "outputs": [
    {
     "name": "stdout",
     "output_type": "stream",
     "text": [
      "E, s, t, e, r, n, o, c, l, e, i, d, o, m, a, s, t, o, i, d, e, o, "
     ]
    }
   ],
   "source": [
    "palabra = 'Esternocleidomastoideo'\n",
    "#range(len(palabra))\n",
    "for i in palabra: \n",
    "    print(i , end = ', ')   "
   ]
  },
  {
   "cell_type": "code",
   "execution_count": 22,
   "metadata": {},
   "outputs": [
    {
     "name": "stdout",
     "output_type": "stream",
     "text": [
      "E, s, t, e, r, n, o, c, l, e, i, d, o, m, a, s, t, o, i, d, e, o, "
     ]
    }
   ],
   "source": [
    "palabra = 'Esternocleidomastoideo'\n",
    "for i in range(len(palabra)):\n",
    "    print(palabra[i], end = ', ') #Indexando la palabra "
   ]
  },
  {
   "cell_type": "markdown",
   "metadata": {},
   "source": [
    "## Estructuras de datos: Listas"
   ]
  },
  {
   "cell_type": "markdown",
   "metadata": {},
   "source": [
    "Tres estructuras de datos en python \n",
    " - listas \n",
    " - tuplas \n",
    " - Diccionarios \n",
    " \n",
    "- Lista: secuencia ordenada de elementos --- DE DISTINTO TIPO \n",
    "- Se construyen con corchetes, y los elementos van separados por comas []"
   ]
  },
  {
   "cell_type": "code",
   "execution_count": 39,
   "metadata": {},
   "outputs": [
    {
     "name": "stdout",
     "output_type": "stream",
     "text": [
      "6\n",
      "5\n"
     ]
    }
   ],
   "source": [
    " # listas vacias\n",
    "lista1 = []\n",
    " # listas unidimensionales\n",
    "lista2 = [1 , 23, 3 ,6 ]\n",
    "# listas combinadas \n",
    "lista3 = [True, 25, 'Hola']\n",
    "\n",
    "## Listas de listas \n",
    "lista3=[2, 5 ,6] #Vector \n",
    "print(lista3[2])\n",
    "\n",
    "# listas anidadas \n",
    "lista4= [[2, 3], [5, 6], [8,5]] # Matriz \n",
    "print(lista4[2][1])\n",
    "# 2 3 \n",
    "# 5 6 \n",
    "# 8 5 \n",
    "\n"
   ]
  },
  {
   "cell_type": "markdown",
   "metadata": {},
   "source": [
    "- Tienen orden \n",
    "- Pueden contener elementos de distintos tipos (incluso arreglos dentro de ellas )\n",
    "- mutable: lo puedo modificar durante cualquier parte de la ejecución del codigos \n"
   ]
  },
  {
   "cell_type": "code",
   "execution_count": 47,
   "metadata": {},
   "outputs": [
    {
     "name": "stdout",
     "output_type": "stream",
     "text": [
      "[]\n",
      "['D', 'e', 's', 'o', 'x', 'i', 'r', 'r', 'i', 'b', 'o', 'n', 'u', 'c', 'l', 'e', 'i', 'c', 'o']\n"
     ]
    }
   ],
   "source": [
    "# para convertir un elemento o elementos en lista \n",
    "# list()\n",
    "listaVacia = list()\n",
    "print(listaVacia)\n",
    "\n",
    "# Convertir string a lista \n",
    "palabra = \"Desoxirribonucleico\"\n",
    "pal_list = list(palabra)\n",
    "print(pal_list)\n",
    "\n",
    "# indexamos con l[i], el tamaño va a ser n y el ultimo elemento tendrá indice n-1\n"
   ]
  },
  {
   "cell_type": "code",
   "execution_count": 52,
   "metadata": {},
   "outputs": [
    {
     "data": {
      "text/plain": [
       "'exr'"
      ]
     },
     "execution_count": 52,
     "metadata": {},
     "output_type": "execute_result"
    }
   ],
   "source": [
    "# sublistas \n",
    "# lista[i]\n",
    "palabra[10]\n",
    "\n",
    "# lista[i:j]\n",
    "palabra[5:10]\n",
    "\n",
    "#lista[i:j:k]\n",
    "palabra[1:10:3]"
   ]
  },
  {
   "cell_type": "markdown",
   "metadata": {},
   "source": [
    "### Operaciones con listas "
   ]
  },
  {
   "cell_type": "markdown",
   "metadata": {},
   "source": [
    "Operaciones que no modifican la lista "
   ]
  },
  {
   "cell_type": "code",
   "execution_count": 57,
   "metadata": {},
   "outputs": [
    {
     "name": "stdout",
     "output_type": "stream",
     "text": [
      "22\n",
      "19\n"
     ]
    }
   ],
   "source": [
    "p1 = 'Esternocleidomastoideo'\n",
    "p2 = \"Desoxirribonucleico\"\n",
    "\n",
    "# el tamaño \n",
    "print(len(p1))\n",
    "print(len(p2))"
   ]
  },
  {
   "cell_type": "code",
   "execution_count": 61,
   "metadata": {},
   "outputs": [
    {
     "data": {
      "text/plain": [
       "'x'"
      ]
     },
     "execution_count": 61,
     "metadata": {},
     "output_type": "execute_result"
    }
   ],
   "source": [
    "# minimo y maximo \n",
    "min(p1)\n",
    "max(p2)"
   ]
  },
  {
   "cell_type": "code",
   "execution_count": 64,
   "metadata": {},
   "outputs": [
    {
     "data": {
      "text/plain": [
       "82"
      ]
     },
     "execution_count": 64,
     "metadata": {},
     "output_type": "execute_result"
    }
   ],
   "source": [
    "# suma\n",
    "l = [2,3,6,9,8,5,4,5,6,3,2,5,8,7,4,5]\n",
    "sum(l)"
   ]
  },
  {
   "cell_type": "code",
   "execution_count": 66,
   "metadata": {},
   "outputs": [
    {
     "name": "stdout",
     "output_type": "stream",
     "text": [
      "Ingresa la letra a buscar: e\n",
      "Letra encontrada\n"
     ]
    }
   ],
   "source": [
    "p1 = 'Esternocleidomastoideo'\n",
    "p = False \n",
    "\n",
    "while p != True:\n",
    "    l = input('Ingresa la letra a buscar: ')\n",
    "    if l in p1:\n",
    "        print('Letra encontrada')\n",
    "        p = True\n",
    "    "
   ]
  },
  {
   "cell_type": "code",
   "execution_count": 68,
   "metadata": {},
   "outputs": [
    {
     "data": {
      "text/plain": [
       "True"
      ]
     },
     "execution_count": 68,
     "metadata": {},
     "output_type": "execute_result"
    }
   ],
   "source": [
    "# Validando la existencia \n",
    "'i' in p1"
   ]
  },
  {
   "cell_type": "code",
   "execution_count": 71,
   "metadata": {},
   "outputs": [
    {
     "data": {
      "text/plain": [
       "2"
      ]
     },
     "execution_count": 71,
     "metadata": {},
     "output_type": "execute_result"
    }
   ],
   "source": [
    "# lista.index(dato) \n",
    "# Devolver la posicion que ocupa el primer elemento de valor dato en la lista \n",
    "p1 = 'Esternocleidomastoideo'\n",
    "\n",
    "p1.index('i')\n",
    "\n",
    "# lista.count(dato) \n",
    "p1.count('i')"
   ]
  },
  {
   "cell_type": "code",
   "execution_count": 77,
   "metadata": {},
   "outputs": [
    {
     "name": "stdout",
     "output_type": "stream",
     "text": [
      "Ingresa la letra a buscar: e\n",
      "Primera letra encontrada en la posicion 3, y aparece 3 veces\n"
     ]
    }
   ],
   "source": [
    "p1 = 'Esternocleidomastoideo'\n",
    "p = False \n",
    "while p != True:\n",
    "    l = input('Ingresa la letra a buscar: ')\n",
    "    if l in p1:\n",
    "        v = p1.count(l)\n",
    "        j = p1.index(l) \n",
    "        print('Primera letra encontrada en la posicion {0}, y aparece {1} veces'.format(j,v))\n",
    "        p = True"
   ]
  },
  {
   "cell_type": "code",
   "execution_count": 86,
   "metadata": {},
   "outputs": [
    {
     "name": "stdout",
     "output_type": "stream",
     "text": [
      "[False, False, True, True, True, True, False, True, True, False, False, True, True, True, False, True]\n"
     ]
    }
   ],
   "source": [
    "## Validacion de booleanos \n",
    "\n",
    "# Ejemplo \n",
    "# Tomando una lista, crea una lista de validaciones en  \n",
    "#las que será True si el numero es mayor o igual a 5 y False en caso contrario \n",
    "l = [2,3,6,9,8,5,4,5,6,3,2,5,8,7,4,5]\n",
    "val = []\n",
    "for i in l:\n",
    "    if i >= 5:\n",
    "        o = True\n",
    "        val.append(o) #Añadirla al final \n",
    "    else: \n",
    "        o = False\n",
    "        val.append(o)\n",
    "\n",
    "print(val)\n",
    "\n"
   ]
  },
  {
   "cell_type": "code",
   "execution_count": 89,
   "metadata": {},
   "outputs": [
    {
     "data": {
      "text/plain": [
       "True"
      ]
     },
     "execution_count": 89,
     "metadata": {},
     "output_type": "execute_result"
    }
   ],
   "source": [
    "# all - devuelve true si todos los elementos de la lista son True  \n",
    "all(val)\n",
    "# any - devuelve true si algun elemento de la lista es True  \n",
    "any(val)"
   ]
  },
  {
   "cell_type": "markdown",
   "metadata": {},
   "source": [
    "Operaciones que modifican la lista"
   ]
  },
  {
   "cell_type": "code",
   "execution_count": 92,
   "metadata": {},
   "outputs": [
    {
     "name": "stdout",
     "output_type": "stream",
     "text": [
      "[1, 2, 3, 4, 5, 6, 7, 8, 9, 10, 11, 12]\n"
     ]
    }
   ],
   "source": [
    "# concatenacion \n",
    "l1 = [1,2,3,4,5,6]\n",
    "l2 = [7,8,9,10,11,12]\n",
    "\n",
    "l3 = l1 + l2\n",
    "print(l3)"
   ]
  },
  {
   "cell_type": "code",
   "execution_count": 93,
   "metadata": {},
   "outputs": [
    {
     "name": "stdout",
     "output_type": "stream",
     "text": [
      "[1, 2, 3, 4, 5, 6, 'Hola']\n"
     ]
    }
   ],
   "source": [
    "# añadir un elemento al final \n",
    "# append(dato)\n",
    "\n",
    "l1.append('Hola')\n",
    "print(l1)\n"
   ]
  },
  {
   "cell_type": "code",
   "execution_count": 97,
   "metadata": {},
   "outputs": [
    {
     "name": "stdout",
     "output_type": "stream",
     "text": [
      "[1, 2, 3, 4, 5, 6, 'Hola', 0, 1, 2, 3, 4, 5, 6, 7, 8, 0, 1, 2, 3, 4, 5, 6, 7, 8, 0, 1, 2, 3, 4, 5, 6, 7, 8]\n"
     ]
    }
   ],
   "source": [
    "# extend\n",
    "l1.extend(range(9))\n",
    "print(l1)"
   ]
  },
  {
   "cell_type": "code",
   "execution_count": 99,
   "metadata": {},
   "outputs": [
    {
     "data": {
      "text/plain": [
       "[0, 1, 2, 3, 4, 5, 6, 7, 8]"
      ]
     },
     "execution_count": 99,
     "metadata": {},
     "output_type": "execute_result"
    }
   ],
   "source": [
    "## convertir range en lista \n",
    "list(range(9))"
   ]
  },
  {
   "cell_type": "code",
   "execution_count": 101,
   "metadata": {},
   "outputs": [
    {
     "name": "stdout",
     "output_type": "stream",
     "text": [
      "[7, 8, 'Hola', 'Hola', 9, 10, 11, 12]\n"
     ]
    }
   ],
   "source": [
    "# Insert\n",
    "# insertar un elemento en la lista \n",
    "# nota: append lo inserta al final, insert lo inserta donde nosotros le indiquemos \n",
    "\n",
    "# insert(posicion, dato)\n",
    "l2.insert(2, 'Hola')\n",
    "print(l2)"
   ]
  },
  {
   "cell_type": "code",
   "execution_count": 110,
   "metadata": {},
   "outputs": [
    {
     "name": "stdout",
     "output_type": "stream",
     "text": [
      "['E', 's', 't', 'e', 'r', 'n', 'c', 'l', 'e', 'i', 'd', 'o', 'm', 'a', 's', 't', 'o', 'i', 'd', 'e', 'o']\n"
     ]
    }
   ],
   "source": [
    "# Remove(dato)\n",
    "# Eliminar el primer elemento de la lista l que se parezca, desplazando \n",
    "p1 = list('Esternocleidomastoideo')\n",
    "\n",
    "p1.remove('o')\n",
    "print(p1)"
   ]
  },
  {
   "cell_type": "code",
   "execution_count": 112,
   "metadata": {},
   "outputs": [
    {
     "name": "stdout",
     "output_type": "stream",
     "text": [
      "[1, 2, 3, 4, 5, 6, 0, 1, 2, 3, 4, 5, 6, 7, 8, 0, 1, 2, 3, 4, 5, 6, 7, 8, 0, 1, 2, 3, 4, 5, 6, 7, 8]\n"
     ]
    }
   ],
   "source": [
    "l4 = [1, 2, 3, 4, 5, 6, 'Hola', 0, 1, 2, 3, 4, 5, 6, 7, 8, 0, 1, 2, 3, 4, 5, 6, 7, 8, 0, 1, 2, 3, 4, 5, 6, 7, 8]\n",
    "l4.remove('Hola')\n",
    "print(l4)"
   ]
  },
  {
   "cell_type": "code",
   "execution_count": 108,
   "metadata": {},
   "outputs": [
    {
     "name": "stdout",
     "output_type": "stream",
     "text": [
      "['E', 's', 't', 'e', 'r', 'n', 'd', 'o', 'a', 's', 't', 'o', 'i', 'd', 'e', 'o']\n",
      "['E', 's', 't', 'e', 'r', 'n', 'd', 'o', 'a', 't', 'o', 'i', 'd', 'e', 'o']\n"
     ]
    }
   ],
   "source": [
    "## pop(indice)\n",
    "## diferencia con remove: remove se ingresa el dato que deseo eliminar\n",
    "## con pop indico la POSICION del elemento que quiero elimninar \n",
    "\n",
    "p1.pop(6)\n",
    "print(p1)\n",
    "\n",
    "p1.pop(9)\n",
    "print(p1)"
   ]
  },
  {
   "cell_type": "code",
   "execution_count": 116,
   "metadata": {},
   "outputs": [
    {
     "name": "stdout",
     "output_type": "stream",
     "text": [
      "[0, 0, 0, 1, 1, 1, 1, 2, 2, 2, 2, 3, 3, 3, 3, 4, 4, 4, 4, 5, 5, 5, 5, 6, 6, 6, 6, 7, 7, 7, 8, 8, 8]\n",
      "[0, 0, 0, 1, 1, 1, 1, 2, 2, 2, 2, 3, 3, 3, 3, 4, 4, 4, 4, 5, 5, 5, 5, 6, 6, 6, 6, 7, 7, 7, 8, 8, 8]\n"
     ]
    }
   ],
   "source": [
    "## SORT \n",
    "# ordenar los elementos de acuerdo a un orden definido \n",
    "print(l4)\n",
    "l4.sort()\n",
    "print(l4)\n"
   ]
  },
  {
   "cell_type": "code",
   "execution_count": 118,
   "metadata": {},
   "outputs": [
    {
     "name": "stdout",
     "output_type": "stream",
     "text": [
      "[8, 8, 8, 7, 7, 7, 6, 6, 6, 6, 5, 5, 5, 5, 4, 4, 4, 4, 3, 3, 3, 3, 2, 2, 2, 2, 1, 1, 1, 1, 0, 0, 0]\n",
      "[0, 0, 0, 1, 1, 1, 1, 2, 2, 2, 2, 3, 3, 3, 3, 4, 4, 4, 4, 5, 5, 5, 5, 6, 6, 6, 6, 7, 7, 7, 8, 8, 8]\n"
     ]
    }
   ],
   "source": [
    "## REVERSE \n",
    "print(l4)\n",
    "l4.reverse()\n",
    "print(l4)"
   ]
  },
  {
   "cell_type": "code",
   "execution_count": 120,
   "metadata": {},
   "outputs": [
    {
     "name": "stdout",
     "output_type": "stream",
     "text": [
      "['E', 'a', 'c', 'd', 'd', 'e', 'e', 'e', 'i', 'i', 'l', 'm', 'n', 'o', 'o', 'o', 'o', 'r', 's', 's', 't', 't']\n"
     ]
    }
   ],
   "source": [
    "p1 = list('Esternocleidomastoideo')\n",
    "p1.sort()\n",
    "print(p1)"
   ]
  },
  {
   "cell_type": "code",
   "execution_count": 122,
   "metadata": {},
   "outputs": [
    {
     "name": "stdout",
     "output_type": "stream",
     "text": [
      "['Brayan', 'Byron', 'Esteban', 'Fabio', 'Paola', 'Xavier', 'Yenny', 'Zapatero']\n",
      "['Zapatero', 'Yenny', 'Xavier', 'Paola', 'Fabio', 'Esteban', 'Byron', 'Brayan']\n"
     ]
    }
   ],
   "source": [
    "p2=['Fabio', 'Brayan', 'Esteban', 'Paola', 'Xavier', 'Zapatero', 'Byron', 'Yenny']\n",
    "p2.sort()\n",
    "print(p2)\n",
    "p2.reverse()\n",
    "print(p2)"
   ]
  }
 ],
 "metadata": {
  "kernelspec": {
   "display_name": "Python 3",
   "language": "python",
   "name": "python3"
  },
  "language_info": {
   "codemirror_mode": {
    "name": "ipython",
    "version": 3
   },
   "file_extension": ".py",
   "mimetype": "text/x-python",
   "name": "python",
   "nbconvert_exporter": "python",
   "pygments_lexer": "ipython3",
   "version": "3.7.6"
  }
 },
 "nbformat": 4,
 "nbformat_minor": 4
}
