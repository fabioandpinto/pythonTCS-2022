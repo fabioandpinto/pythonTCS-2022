{
 "cells": [
  {
   "cell_type": "markdown",
   "metadata": {},
   "source": [
    "## Estructuras de Datos II y Funciones \n"
   ]
  },
  {
   "cell_type": "markdown",
   "metadata": {},
   "source": [
    "### Tupla \n",
    "- Es una estructura que es una secuencia ordenada de datos de distinto tipo. \n",
    "- Se construye poniendo los elementos entre paréntesis () \n",
    "\n",
    "Caracteristicas \n",
    "- Tiene orden - indexar \n",
    "- Puede tener multiples tipos \n",
    "- *son inmutables, es decir, que no se puede modificar durante la ejecución del programa* "
   ]
  },
  {
   "cell_type": "code",
   "execution_count": 1,
   "metadata": {},
   "outputs": [
    {
     "data": {
      "text/plain": [
       "tuple"
      ]
     },
     "execution_count": 1,
     "metadata": {},
     "output_type": "execute_result"
    }
   ],
   "source": [
    "type(())"
   ]
  },
  {
   "cell_type": "code",
   "execution_count": 2,
   "metadata": {},
   "outputs": [
    {
     "data": {
      "text/plain": [
       "(1, 2, 3)"
      ]
     },
     "execution_count": 2,
     "metadata": {},
     "output_type": "execute_result"
    }
   ],
   "source": [
    "(1,2,3) # vector "
   ]
  },
  {
   "cell_type": "code",
   "execution_count": 3,
   "metadata": {},
   "outputs": [
    {
     "data": {
      "text/plain": [
       "((2, 2), (3, 3), (4, 4))"
      ]
     },
     "execution_count": 3,
     "metadata": {},
     "output_type": "execute_result"
    }
   ],
   "source": [
    "((2,2),(3,3),(4,4))"
   ]
  },
  {
   "cell_type": "code",
   "execution_count": 5,
   "metadata": {},
   "outputs": [],
   "source": [
    "tpy = tuple('Python')"
   ]
  },
  {
   "cell_type": "code",
   "execution_count": 10,
   "metadata": {},
   "outputs": [
    {
     "data": {
      "text/plain": [
       "'t'"
      ]
     },
     "execution_count": 10,
     "metadata": {},
     "output_type": "execute_result"
    }
   ],
   "source": [
    "tpy[2] # los paréntesis indican que usarás un metodo "
   ]
  },
  {
   "cell_type": "code",
   "execution_count": 11,
   "metadata": {},
   "outputs": [
    {
     "data": {
      "text/plain": [
       "2"
      ]
     },
     "execution_count": 11,
     "metadata": {},
     "output_type": "execute_result"
    }
   ],
   "source": [
    "tpy.index('t')"
   ]
  },
  {
   "cell_type": "code",
   "execution_count": 12,
   "metadata": {},
   "outputs": [
    {
     "data": {
      "text/plain": [
       "True"
      ]
     },
     "execution_count": 12,
     "metadata": {},
     "output_type": "execute_result"
    }
   ],
   "source": [
    "'y' in tpy"
   ]
  },
  {
   "cell_type": "code",
   "execution_count": 14,
   "metadata": {},
   "outputs": [
    {
     "name": "stdout",
     "output_type": "stream",
     "text": [
      "((2, 3, 6), (2, 6, 9))\n"
     ]
    }
   ],
   "source": [
    "b = (2,3,6) #vector \n",
    "c = (2,6,9) #vector\n",
    "\n",
    "m = (b,c) #matriz\n",
    "print(m)"
   ]
  },
  {
   "cell_type": "code",
   "execution_count": 18,
   "metadata": {},
   "outputs": [
    {
     "data": {
      "text/plain": [
       "6"
      ]
     },
     "execution_count": 18,
     "metadata": {},
     "output_type": "execute_result"
    }
   ],
   "source": [
    "m[1][1]"
   ]
  },
  {
   "cell_type": "markdown",
   "metadata": {},
   "source": [
    "### Diccionarios \n",
    "- Una colección de datos compuesta por pares de tipo llave:valor \n",
    "- se crean con {} separados comas y separando llave:valor "
   ]
  },
  {
   "cell_type": "code",
   "execution_count": 20,
   "metadata": {},
   "outputs": [
    {
     "name": "stdout",
     "output_type": "stream",
     "text": [
      "<class 'dict'>\n"
     ]
    }
   ],
   "source": [
    "datos = {}\n",
    "print(type(datos))"
   ]
  },
  {
   "cell_type": "code",
   "execution_count": 22,
   "metadata": {},
   "outputs": [
    {
     "name": "stdout",
     "output_type": "stream",
     "text": [
      "{'nombre': 'Fabio', 'celular': 3125585658, 'email': 'fpinto7@areandina.edu.co'}\n"
     ]
    }
   ],
   "source": [
    "perfil = {\n",
    "    'nombre': 'Fabio', \n",
    "    'celular': 3125585658, \n",
    "    'email': 'fpinto7@areandina.edu.co'\n",
    "}\n",
    "\n",
    "print(perfil)\n"
   ]
  },
  {
   "cell_type": "markdown",
   "metadata": {},
   "source": [
    "- Tiene la misma sintaxis de un objeto de javascript, por tanto de un archivo JSON \n",
    "- Serialización - pasar de un objeto json a un diccionario y viceversa. Django y DRF"
   ]
  },
  {
   "cell_type": "markdown",
   "metadata": {},
   "source": [
    "Caracteristicas \n",
    "- No tienen orden\n",
    "- Pueden contener elementos de distintos tipos \n",
    "- Son mutables \n",
    "- Las claves son únicas "
   ]
  },
  {
   "cell_type": "markdown",
   "metadata": {},
   "source": [
    "### Acceder a los elementos de un diccionario \n"
   ]
  },
  {
   "cell_type": "code",
   "execution_count": 23,
   "metadata": {},
   "outputs": [],
   "source": [
    "# d[clave]\n",
    "perfil = {\n",
    "    'nombre': 'Fabio', \n",
    "    'celular': 3125585658, \n",
    "    'email': 'fpinto7@areandina.edu.co'\n",
    "}\n",
    "\n"
   ]
  },
  {
   "cell_type": "code",
   "execution_count": 25,
   "metadata": {},
   "outputs": [
    {
     "data": {
      "text/plain": [
       "'Fabio'"
      ]
     },
     "execution_count": 25,
     "metadata": {},
     "output_type": "execute_result"
    }
   ],
   "source": [
    "perfil['nombre']"
   ]
  },
  {
   "cell_type": "code",
   "execution_count": 26,
   "metadata": {},
   "outputs": [
    {
     "data": {
      "text/plain": [
       "'Fabio'"
      ]
     },
     "execution_count": 26,
     "metadata": {},
     "output_type": "execute_result"
    }
   ],
   "source": [
    "perfil.get('nombre')"
   ]
  },
  {
   "cell_type": "code",
   "execution_count": 32,
   "metadata": {},
   "outputs": [],
   "source": [
    "perfiles = {\n",
    "    'Persona 1':{\n",
    "    'nombre': 'Fabio', \n",
    "    'celular': 3125585658, \n",
    "    'email': 'fpinto7@areandina.edu.co', \n",
    "    'Lenguajes': ['Python', 'SQL', 'PHP']\n",
    "    }, \n",
    "    'Persona 2':{\n",
    "    'nombre': 'Julio', \n",
    "    'celular': 32323232323, \n",
    "    'email': 'jb@areandina.edu.co' \n",
    "    }\n",
    "}"
   ]
  },
  {
   "cell_type": "code",
   "execution_count": 33,
   "metadata": {},
   "outputs": [
    {
     "data": {
      "text/plain": [
       "{'Persona 1': {'nombre': 'Fabio',\n",
       "  'celular': 3125585658,\n",
       "  'email': 'fpinto7@areandina.edu.co',\n",
       "  'Lenguajes': ['Python', 'SQL', 'PHP']},\n",
       " 'Persona 2': {'nombre': 'Julio',\n",
       "  'celular': 32323232323,\n",
       "  'email': 'jb@areandina.edu.co'}}"
      ]
     },
     "execution_count": 33,
     "metadata": {},
     "output_type": "execute_result"
    }
   ],
   "source": [
    "perfiles"
   ]
  },
  {
   "cell_type": "code",
   "execution_count": 38,
   "metadata": {},
   "outputs": [
    {
     "data": {
      "text/plain": [
       "{'nombre': 'Fabio',\n",
       " 'celular': 3125585658,\n",
       " 'email': 'fpinto7@areandina.edu.co',\n",
       " 'Lenguajes': ['Python', 'SQL', 'PHP']}"
      ]
     },
     "execution_count": 38,
     "metadata": {},
     "output_type": "execute_result"
    }
   ],
   "source": [
    "# d[clave]\n",
    "perfiles['Persona 1']"
   ]
  },
  {
   "cell_type": "code",
   "execution_count": 41,
   "metadata": {},
   "outputs": [
    {
     "data": {
      "text/plain": [
       "['Python', 'SQL', 'PHP']"
      ]
     },
     "execution_count": 41,
     "metadata": {},
     "output_type": "execute_result"
    }
   ],
   "source": [
    "perfiles['Persona 1']['Lenguajes']"
   ]
  },
  {
   "cell_type": "code",
   "execution_count": 43,
   "metadata": {},
   "outputs": [
    {
     "name": "stdout",
     "output_type": "stream",
     "text": [
      "Python\n",
      "SQL\n",
      "PHP\n"
     ]
    }
   ],
   "source": [
    "for l in perfiles['Persona 1']['Lenguajes']:\n",
    "    print(l)"
   ]
  },
  {
   "cell_type": "markdown",
   "metadata": {},
   "source": [
    "#### Operaciones que no modifican los diccionarios "
   ]
  },
  {
   "cell_type": "code",
   "execution_count": 44,
   "metadata": {},
   "outputs": [
    {
     "data": {
      "text/plain": [
       "2"
      ]
     },
     "execution_count": 44,
     "metadata": {},
     "output_type": "execute_result"
    }
   ],
   "source": [
    "len(perfiles)"
   ]
  },
  {
   "cell_type": "code",
   "execution_count": 45,
   "metadata": {},
   "outputs": [
    {
     "data": {
      "text/plain": [
       "4"
      ]
     },
     "execution_count": 45,
     "metadata": {},
     "output_type": "execute_result"
    }
   ],
   "source": [
    "len(perfiles['Persona 1'])"
   ]
  },
  {
   "cell_type": "code",
   "execution_count": 46,
   "metadata": {},
   "outputs": [
    {
     "data": {
      "text/plain": [
       "'Persona 1'"
      ]
     },
     "execution_count": 46,
     "metadata": {},
     "output_type": "execute_result"
    }
   ],
   "source": [
    "min(perfiles)"
   ]
  },
  {
   "cell_type": "code",
   "execution_count": 47,
   "metadata": {},
   "outputs": [
    {
     "data": {
      "text/plain": [
       "'Persona 2'"
      ]
     },
     "execution_count": 47,
     "metadata": {},
     "output_type": "execute_result"
    }
   ],
   "source": [
    "max(perfiles)"
   ]
  },
  {
   "cell_type": "code",
   "execution_count": 52,
   "metadata": {},
   "outputs": [
    {
     "data": {
      "text/plain": [
       "True"
      ]
     },
     "execution_count": 52,
     "metadata": {},
     "output_type": "execute_result"
    }
   ],
   "source": [
    "'Lenguajes' in perfiles['Persona 1']"
   ]
  },
  {
   "cell_type": "code",
   "execution_count": 53,
   "metadata": {},
   "outputs": [
    {
     "data": {
      "text/plain": [
       "False"
      ]
     },
     "execution_count": 53,
     "metadata": {},
     "output_type": "execute_result"
    }
   ],
   "source": [
    "'Lenguajes' in perfiles['Persona 2']"
   ]
  },
  {
   "cell_type": "code",
   "execution_count": 55,
   "metadata": {},
   "outputs": [
    {
     "data": {
      "text/plain": [
       "dict_keys(['Persona 1', 'Persona 2'])"
      ]
     },
     "execution_count": 55,
     "metadata": {},
     "output_type": "execute_result"
    }
   ],
   "source": [
    "# llaves de un diccionario\n",
    "perfiles.keys()"
   ]
  },
  {
   "cell_type": "code",
   "execution_count": 57,
   "metadata": {},
   "outputs": [
    {
     "data": {
      "text/plain": [
       "dict_keys(['nombre', 'celular', 'email', 'Lenguajes'])"
      ]
     },
     "execution_count": 57,
     "metadata": {},
     "output_type": "execute_result"
    }
   ],
   "source": [
    "perfiles['Persona 1'].keys()"
   ]
  },
  {
   "cell_type": "code",
   "execution_count": 63,
   "metadata": {},
   "outputs": [
    {
     "data": {
      "text/plain": [
       "dict_values([{'nombre': 'Fabio', 'celular': 3125585658, 'email': 'fpinto7@areandina.edu.co', 'Lenguajes': ['Python', 'SQL', 'PHP']}, {'nombre': 'Julio', 'celular': 32323232323, 'email': 'jb@areandina.edu.co'}])"
      ]
     },
     "execution_count": 63,
     "metadata": {},
     "output_type": "execute_result"
    }
   ],
   "source": [
    "# valores de un diccionarios \n",
    "perfiles.values() #iterador "
   ]
  },
  {
   "cell_type": "code",
   "execution_count": 66,
   "metadata": {},
   "outputs": [
    {
     "name": "stdout",
     "output_type": "stream",
     "text": [
      "{'nombre': 'Fabio', 'celular': 3125585658, 'email': 'fpinto7@areandina.edu.co', 'Lenguajes': ['Python', 'SQL', 'PHP']}\n",
      "{'nombre': 'Julio', 'celular': 32323232323, 'email': 'jb@areandina.edu.co'}\n"
     ]
    }
   ],
   "source": [
    "for i in perfiles.values():\n",
    "    print(i)"
   ]
  },
  {
   "cell_type": "code",
   "execution_count": 67,
   "metadata": {},
   "outputs": [
    {
     "name": "stdout",
     "output_type": "stream",
     "text": [
      "('Persona 1', {'nombre': 'Fabio', 'celular': 3125585658, 'email': 'fpinto7@areandina.edu.co', 'Lenguajes': ['Python', 'SQL', 'PHP']})\n",
      "('Persona 2', {'nombre': 'Julio', 'celular': 32323232323, 'email': 'jb@areandina.edu.co'})\n"
     ]
    }
   ],
   "source": [
    "# los pares de un diccionario\n",
    "perfiles.items()\n",
    "for i in perfiles.items():\n",
    "    print(i)"
   ]
  },
  {
   "cell_type": "markdown",
   "metadata": {},
   "source": [
    "### Operaciones que modifican "
   ]
  },
  {
   "cell_type": "code",
   "execution_count": 68,
   "metadata": {},
   "outputs": [],
   "source": [
    "perfiles = {\n",
    "    'Persona 1':{\n",
    "    'nombre': 'Fabio', \n",
    "    'celular': 3125585658, \n",
    "    'email': 'fpinto7@areandina.edu.co', \n",
    "    'Lenguajes': ['Python', 'SQL', 'PHP']\n",
    "    }, \n",
    "    'Persona 2':{\n",
    "    'nombre': 'Julio', \n",
    "    'celular': 32323232323, \n",
    "    'email': 'jb@areandina.edu.co' \n",
    "    }\n",
    "}"
   ]
  },
  {
   "cell_type": "code",
   "execution_count": 71,
   "metadata": {},
   "outputs": [],
   "source": [
    "## Añadir un elemento al diccionario \n",
    "perfil = {\n",
    "    'nombre': 'Juan',\n",
    "        'celular': 325521451\n",
    "    }\n"
   ]
  },
  {
   "cell_type": "code",
   "execution_count": 72,
   "metadata": {},
   "outputs": [
    {
     "name": "stdout",
     "output_type": "stream",
     "text": [
      "{'Persona 1': {'nombre': 'Fabio', 'celular': 3125585658, 'email': 'fpinto7@areandina.edu.co', 'Lenguajes': ['Python', 'SQL', 'PHP']}, 'Persona 2': {'nombre': 'Julio', 'celular': 32323232323, 'email': 'jb@areandina.edu.co'}, 'Persona 3': {'nombre': 'Juan', 'celular': 325521451}}\n"
     ]
    }
   ],
   "source": [
    "perfiles['Persona 3'] = perfil # d[clavenueva] = valor \n",
    "print(perfiles)"
   ]
  },
  {
   "cell_type": "code",
   "execution_count": 73,
   "metadata": {},
   "outputs": [
    {
     "name": "stdout",
     "output_type": "stream",
     "text": [
      "{'Persona 1': {'nombre': 'Fabio', 'celular': 3125585658, 'email': 'fpinto7@areandina.edu.co', 'Lenguajes': ['Python', 'SQL', 'PHP']}, 'Persona 3': {'nombre': 'Juan', 'celular': 325521451}}\n"
     ]
    }
   ],
   "source": [
    "## pop - buscar un elemento y borrarlo \n",
    "perfiles.pop('Persona 2')\n",
    "print(perfiles)"
   ]
  },
  {
   "cell_type": "code",
   "execution_count": 74,
   "metadata": {},
   "outputs": [
    {
     "data": {
      "text/plain": [
       "('Persona 3', {'nombre': 'Juan', 'celular': 325521451})"
      ]
     },
     "execution_count": 74,
     "metadata": {},
     "output_type": "execute_result"
    }
   ],
   "source": [
    "perfiles.popitem() #mostrar el ultimo elemento que se añadió y lo elimina "
   ]
  },
  {
   "cell_type": "code",
   "execution_count": 75,
   "metadata": {},
   "outputs": [
    {
     "data": {
      "text/plain": [
       "{'Persona 1': {'nombre': 'Fabio',\n",
       "  'celular': 3125585658,\n",
       "  'email': 'fpinto7@areandina.edu.co',\n",
       "  'Lenguajes': ['Python', 'SQL', 'PHP']}}"
      ]
     },
     "execution_count": 75,
     "metadata": {},
     "output_type": "execute_result"
    }
   ],
   "source": [
    "perfiles"
   ]
  },
  {
   "cell_type": "code",
   "execution_count": 76,
   "metadata": {},
   "outputs": [
    {
     "data": {
      "text/plain": [
       "'Fabio'"
      ]
     },
     "execution_count": 76,
     "metadata": {},
     "output_type": "execute_result"
    }
   ],
   "source": [
    "perfiles['Persona 1'].pop('nombre')"
   ]
  },
  {
   "cell_type": "code",
   "execution_count": 78,
   "metadata": {},
   "outputs": [
    {
     "data": {
      "text/plain": [
       "{'Persona 1': {'celular': 3125585658,\n",
       "  'email': 'fpinto7@areandina.edu.co',\n",
       "  'Lenguajes': ['Python', 'SQL', 'PHP']}}"
      ]
     },
     "execution_count": 78,
     "metadata": {},
     "output_type": "execute_result"
    }
   ],
   "source": [
    "perfiles"
   ]
  },
  {
   "cell_type": "code",
   "execution_count": 79,
   "metadata": {},
   "outputs": [
    {
     "name": "stdout",
     "output_type": "stream",
     "text": [
      "{}\n"
     ]
    }
   ],
   "source": [
    "del perfiles['Persona 1'] # otra forma de eliminar \n",
    "print(perfiles)"
   ]
  },
  {
   "cell_type": "code",
   "execution_count": 81,
   "metadata": {},
   "outputs": [
    {
     "name": "stdout",
     "output_type": "stream",
     "text": [
      "{'Persona 1': {'nombre': 'Fabio', 'celular': 3125585658, 'email': 'fpinto7@areandina.edu.co', 'Lenguajes': ['Python', 'SQL', 'PHP']}, 'Persona 2': {'nombre': 'Julio', 'celular': 32323232323, 'email': 'jb@areandina.edu.co'}}\n"
     ]
    }
   ],
   "source": [
    "perfiles = {\n",
    "    'Persona 1':{\n",
    "    'nombre': 'Fabio', \n",
    "    'celular': 3125585658, \n",
    "    'email': 'fpinto7@areandina.edu.co', \n",
    "    'Lenguajes': ['Python', 'SQL', 'PHP']\n",
    "    }, \n",
    "    'Persona 2':{\n",
    "    'nombre': 'Julio', \n",
    "    'celular': 32323232323, \n",
    "    'email': 'jb@areandina.edu.co' \n",
    "    }\n",
    "}\n",
    "\n",
    "print(perfiles)"
   ]
  },
  {
   "cell_type": "code",
   "execution_count": 82,
   "metadata": {},
   "outputs": [],
   "source": [
    "perfiles.clear()"
   ]
  },
  {
   "cell_type": "code",
   "execution_count": 83,
   "metadata": {},
   "outputs": [
    {
     "data": {
      "text/plain": [
       "{}"
      ]
     },
     "execution_count": 83,
     "metadata": {},
     "output_type": "execute_result"
    }
   ],
   "source": [
    "perfiles"
   ]
  },
  {
   "cell_type": "code",
   "execution_count": 84,
   "metadata": {},
   "outputs": [
    {
     "name": "stdout",
     "output_type": "stream",
     "text": [
      "{'Persona 1': {'nombre': 'Fabio', 'celular': 3125585658, 'email': 'fpinto7@areandina.edu.co', 'Lenguajes': ['Python', 'SQL', 'PHP']}, 'Persona 2': {'nombre': 'Julio', 'celular': 32323232323, 'email': 'jb@areandina.edu.co'}}\n"
     ]
    }
   ],
   "source": [
    "perfiles = {\n",
    "    'Persona 1':{\n",
    "    'nombre': 'Fabio', \n",
    "    'celular': 3125585658, \n",
    "    'email': 'fpinto7@areandina.edu.co', \n",
    "    'Lenguajes': ['Python', 'SQL', 'PHP']\n",
    "    }, \n",
    "    'Persona 2':{\n",
    "    'nombre': 'Julio', \n",
    "    'celular': 32323232323, \n",
    "    'email': 'jb@areandina.edu.co' \n",
    "    }\n",
    "}\n",
    "print(perfiles)"
   ]
  },
  {
   "cell_type": "code",
   "execution_count": 85,
   "metadata": {},
   "outputs": [
    {
     "name": "stdout",
     "output_type": "stream",
     "text": [
      "{}\n"
     ]
    }
   ],
   "source": [
    "perfiles = {}\n",
    "print(perfiles)"
   ]
  }
 ],
 "metadata": {
  "kernelspec": {
   "display_name": "Python 3",
   "language": "python",
   "name": "python3"
  },
  "language_info": {
   "codemirror_mode": {
    "name": "ipython",
    "version": 3
   },
   "file_extension": ".py",
   "mimetype": "text/x-python",
   "name": "python",
   "nbconvert_exporter": "python",
   "pygments_lexer": "ipython3",
   "version": "3.7.6"
  }
 },
 "nbformat": 4,
 "nbformat_minor": 4
}
