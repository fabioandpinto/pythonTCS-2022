{
 "cells": [
  {
   "cell_type": "markdown",
   "metadata": {},
   "source": [
    "### Repaso de Estadística Descriptiva con Python"
   ]
  },
  {
   "cell_type": "code",
   "execution_count": 5,
   "metadata": {},
   "outputs": [],
   "source": [
    "import pandas as pd "
   ]
  },
  {
   "cell_type": "code",
   "execution_count": 8,
   "metadata": {},
   "outputs": [
    {
     "data": {
      "text/html": [
       "<div>\n",
       "<style scoped>\n",
       "    .dataframe tbody tr th:only-of-type {\n",
       "        vertical-align: middle;\n",
       "    }\n",
       "\n",
       "    .dataframe tbody tr th {\n",
       "        vertical-align: top;\n",
       "    }\n",
       "\n",
       "    .dataframe thead th {\n",
       "        text-align: right;\n",
       "    }\n",
       "</style>\n",
       "<table border=\"1\" class=\"dataframe\">\n",
       "  <thead>\n",
       "    <tr style=\"text-align: right;\">\n",
       "      <th></th>\n",
       "      <th>Nombre</th>\n",
       "      <th>Edad</th>\n",
       "      <th>Estatura</th>\n",
       "      <th>Peso</th>\n",
       "      <th>Departamento</th>\n",
       "      <th>Año</th>\n",
       "      <th>Profesión</th>\n",
       "      <th>Estrato</th>\n",
       "    </tr>\n",
       "  </thead>\n",
       "  <tbody>\n",
       "    <tr>\n",
       "      <th>0</th>\n",
       "      <td>Jhonatan Xavier Misal Niño</td>\n",
       "      <td>20</td>\n",
       "      <td>1.84</td>\n",
       "      <td>82</td>\n",
       "      <td>Magdalena</td>\n",
       "      <td>2001</td>\n",
       "      <td>Ingeniero de Sistemas</td>\n",
       "      <td>2</td>\n",
       "    </tr>\n",
       "    <tr>\n",
       "      <th>1</th>\n",
       "      <td>Estefania osorio rios</td>\n",
       "      <td>21</td>\n",
       "      <td>1.67</td>\n",
       "      <td>56</td>\n",
       "      <td>Antioquia</td>\n",
       "      <td>2000</td>\n",
       "      <td>Tecnologo en sistemas</td>\n",
       "      <td>1</td>\n",
       "    </tr>\n",
       "    <tr>\n",
       "      <th>2</th>\n",
       "      <td>Sergio Luis Suárez Alvarez</td>\n",
       "      <td>21</td>\n",
       "      <td>1.81</td>\n",
       "      <td>70</td>\n",
       "      <td>Casanare</td>\n",
       "      <td>2000</td>\n",
       "      <td>Ingeniero de Sistemas</td>\n",
       "      <td>2</td>\n",
       "    </tr>\n",
       "    <tr>\n",
       "      <th>3</th>\n",
       "      <td>Edward Felipe Rodriguez Garcia</td>\n",
       "      <td>21</td>\n",
       "      <td>1.70</td>\n",
       "      <td>80</td>\n",
       "      <td>Cundinamarca</td>\n",
       "      <td>2000</td>\n",
       "      <td>Tegnologo en sistemas</td>\n",
       "      <td>2</td>\n",
       "    </tr>\n",
       "    <tr>\n",
       "      <th>4</th>\n",
       "      <td>Narhen Diaz Sanchez</td>\n",
       "      <td>22</td>\n",
       "      <td>1.72</td>\n",
       "      <td>75</td>\n",
       "      <td>Antioquia</td>\n",
       "      <td>1999</td>\n",
       "      <td>Ingeniero de Sistemas</td>\n",
       "      <td>3</td>\n",
       "    </tr>\n",
       "  </tbody>\n",
       "</table>\n",
       "</div>"
      ],
      "text/plain": [
       "                           Nombre  Edad  Estatura  Peso   Departamento   Año  \\\n",
       "0      Jhonatan Xavier Misal Niño    20      1.84    82      Magdalena  2001   \n",
       "1          Estefania osorio rios     21      1.67    56      Antioquia  2000   \n",
       "2      Sergio Luis Suárez Alvarez    21      1.81    70       Casanare  2000   \n",
       "3  Edward Felipe Rodriguez Garcia    21      1.70    80  Cundinamarca   2000   \n",
       "4             Narhen Diaz Sanchez    22      1.72    75      Antioquia  1999   \n",
       "\n",
       "               Profesión  Estrato  \n",
       "0  Ingeniero de Sistemas        2  \n",
       "1  Tecnologo en sistemas        1  \n",
       "2  Ingeniero de Sistemas        2  \n",
       "3  Tegnologo en sistemas        2  \n",
       "4  Ingeniero de Sistemas        3  "
      ]
     },
     "execution_count": 8,
     "metadata": {},
     "output_type": "execute_result"
    }
   ],
   "source": [
    "censo = pd.read_csv('censo.csv', \n",
    "                   names = ['Nombre', 'Edad', 'Estatura', 'Peso', 'Departamento', 'Año', 'Profesión', 'Estrato'])\n",
    "censo.head()"
   ]
  },
  {
   "cell_type": "code",
   "execution_count": 16,
   "metadata": {},
   "outputs": [
    {
     "name": "stdout",
     "output_type": "stream",
     "text": [
      "23.57\n"
     ]
    }
   ],
   "source": [
    "## Medidas de tendencia central \n",
    "\n",
    "#media \n",
    "sumaEdades = sum(censo['Edad'])\n",
    "media = sumaEdades/len(censo)\n",
    "print(round(media,2))"
   ]
  },
  {
   "cell_type": "code",
   "execution_count": 18,
   "metadata": {},
   "outputs": [
    {
     "name": "stdout",
     "output_type": "stream",
     "text": [
      "12\n"
     ]
    }
   ],
   "source": [
    "rango = max(censo.Edad) - min(censo.Edad)\n",
    "print(rango)"
   ]
  },
  {
   "cell_type": "code",
   "execution_count": 19,
   "metadata": {},
   "outputs": [
    {
     "name": "stdout",
     "output_type": "stream",
     "text": [
      "Collecting statistics\n",
      "  Using cached statistics-1.0.3.5.tar.gz (8.3 kB)\n",
      "Requirement already satisfied: docutils>=0.3 in c:\\users\\ingfa\\anaconda3\\lib\\site-packages (from statistics) (0.16)\n",
      "Building wheels for collected packages: statistics\n",
      "  Building wheel for statistics (setup.py): started\n",
      "  Building wheel for statistics (setup.py): finished with status 'done'\n",
      "  Created wheel for statistics: filename=statistics-1.0.3.5-py3-none-any.whl size=7458 sha256=8fbc36034d5e59144b121b3808898a601861c5b7b70ac9ed19621bd4306926dd\n",
      "  Stored in directory: c:\\users\\ingfa\\appdata\\local\\pip\\cache\\wheels\\37\\09\\e1\\49ee45c0ce248a6e9c986aae82d32bbcba09c9f3b9d0c3406a\n",
      "Successfully built statistics\n",
      "Installing collected packages: statistics\n",
      "Successfully installed statistics-1.0.3.5\n"
     ]
    }
   ],
   "source": [
    "#libreria statistics \n",
    "# pip install statistics \n",
    "!pip install statistics"
   ]
  },
  {
   "cell_type": "code",
   "execution_count": 21,
   "metadata": {
    "scrolled": true
   },
   "outputs": [
    {
     "name": "stdout",
     "output_type": "stream",
     "text": [
      "23.565217391304348\n",
      "23.278663520745685\n"
     ]
    }
   ],
   "source": [
    "import statistics as st \n",
    "\n",
    "amean = st.mean(censo.Edad)\n",
    "print(amean)\n",
    "hmean = st.harmonic_mean(censo.Edad)\n",
    "print(hmean)"
   ]
  },
  {
   "cell_type": "code",
   "execution_count": 22,
   "metadata": {},
   "outputs": [
    {
     "data": {
      "text/plain": [
       "23"
      ]
     },
     "execution_count": 22,
     "metadata": {},
     "output_type": "execute_result"
    }
   ],
   "source": [
    "st.median(censo.Edad)"
   ]
  },
  {
   "cell_type": "code",
   "execution_count": 25,
   "metadata": {},
   "outputs": [
    {
     "name": "stdout",
     "output_type": "stream",
     "text": [
      "8.16600790513834\n",
      "2.857622771664997\n"
     ]
    }
   ],
   "source": [
    "varianza = st.variance(censo.Edad)\n",
    "devest = st.stdev(censo.Edad)\n",
    "print(varianza)\n",
    "print(devest)"
   ]
  },
  {
   "cell_type": "code",
   "execution_count": 33,
   "metadata": {},
   "outputs": [
    {
     "data": {
      "text/plain": [
       "array([22. , 23. , 24.8])"
      ]
     },
     "execution_count": 33,
     "metadata": {},
     "output_type": "execute_result"
    }
   ],
   "source": [
    "from scipy import stats \n",
    "\n",
    "cuartiles = stats.mstats.mquantiles(censo.Edad, prob = [0.25, 0.50, 0.75])\n",
    "cuartiles\n",
    "\n"
   ]
  },
  {
   "cell_type": "code",
   "execution_count": 37,
   "metadata": {},
   "outputs": [
    {
     "name": "stdout",
     "output_type": "stream",
     "text": [
      "[21.   22.   22.   22.   23.   23.   23.64 25.   28.28]\n"
     ]
    }
   ],
   "source": [
    "import numpy as np\n",
    "decil = np.arange(0.1,1,0.1)\n",
    "decil\n",
    "\n",
    "deciles = stats.mstats.mquantiles(censo.Edad, prob = decil)\n",
    "print(deciles)"
   ]
  },
  {
   "cell_type": "code",
   "execution_count": 38,
   "metadata": {},
   "outputs": [
    {
     "name": "stdout",
     "output_type": "stream",
     "text": [
      "[21.    21.    21.    21.    21.    21.    21.112 21.344 21.576 21.808\n",
      " 22.    22.    22.    22.    22.    22.    22.    22.    22.    22.\n",
      " 22.    22.    22.    22.    22.    22.    22.    22.    22.    22.\n",
      " 22.    22.    22.144 22.376 22.608 22.84  23.    23.    23.    23.\n",
      " 23.    23.    23.    23.    23.    23.    23.    23.    23.    23.\n",
      " 23.    23.    23.    23.    23.    23.    23.    23.    23.176 23.408\n",
      " 23.64  23.872 24.104 24.336 24.568 24.8   25.    25.    25.    25.\n",
      " 25.    25.192 25.424 25.656 25.888 26.24  26.704 27.168 27.632 28.048\n",
      " 28.28  28.512 28.744 28.976 29.624 30.32  31.016 31.712 32.    32.   ]\n"
     ]
    }
   ],
   "source": [
    "percentil = np.arange(0.1,1,0.01)\n",
    "\n",
    "percentiles = stats.mstats.mquantiles(censo.Edad, prob = percentil)\n",
    "print(percentiles)"
   ]
  },
  {
   "cell_type": "code",
   "execution_count": 39,
   "metadata": {},
   "outputs": [
    {
     "data": {
      "text/plain": [
       "array([1.724, 1.76 , 1.8  ])"
      ]
     },
     "execution_count": 39,
     "metadata": {},
     "output_type": "execute_result"
    }
   ],
   "source": [
    "cuartilesEsta = stats.mstats.mquantiles(censo.Estatura, prob = [0.25, 0.50, 0.75])\n",
    "cuartilesEsta"
   ]
  },
  {
   "cell_type": "code",
   "execution_count": 40,
   "metadata": {},
   "outputs": [
    {
     "data": {
      "text/plain": [
       "array([1.6916, 1.7104, 1.7436, 1.75  , 1.76  , 1.7664, 1.7928, 1.8   ,\n",
       "       1.8128])"
      ]
     },
     "execution_count": 40,
     "metadata": {},
     "output_type": "execute_result"
    }
   ],
   "source": [
    "percentilesEsta = stats.mstats.mquantiles(censo.Estatura, prob = decil)\n",
    "percentilesEsta"
   ]
  },
  {
   "cell_type": "code",
   "execution_count": 41,
   "metadata": {},
   "outputs": [
    {
     "data": {
      "text/plain": [
       "DescribeResult(nobs=23, minmax=(20, 32), mean=23.565217391304348, variance=8.16600790513834, skewness=1.4901984199089224, kurtosis=1.7693802953643045)"
      ]
     },
     "execution_count": 41,
     "metadata": {},
     "output_type": "execute_result"
    }
   ],
   "source": [
    "## Resumen descriptivo \n",
    "stats.describe(censo.Edad)"
   ]
  },
  {
   "cell_type": "code",
   "execution_count": 42,
   "metadata": {},
   "outputs": [
    {
     "data": {
      "text/plain": [
       "1.4901984199089224"
      ]
     },
     "execution_count": 42,
     "metadata": {},
     "output_type": "execute_result"
    }
   ],
   "source": [
    "stats.skew(censo.Edad)\n"
   ]
  },
  {
   "cell_type": "code",
   "execution_count": 43,
   "metadata": {},
   "outputs": [
    {
     "data": {
      "text/plain": [
       "1.7693802953643045"
      ]
     },
     "execution_count": 43,
     "metadata": {},
     "output_type": "execute_result"
    }
   ],
   "source": [
    "stats.kurtosis(censo.Edad)"
   ]
  },
  {
   "cell_type": "code",
   "execution_count": 44,
   "metadata": {},
   "outputs": [
    {
     "data": {
      "text/plain": [
       "8.16600790513834"
      ]
     },
     "execution_count": 44,
     "metadata": {},
     "output_type": "execute_result"
    }
   ],
   "source": [
    "stats.tvar(censo.Edad)"
   ]
  },
  {
   "cell_type": "code",
   "execution_count": 45,
   "metadata": {},
   "outputs": [
    {
     "data": {
      "text/plain": [
       "2.857622771664997"
      ]
     },
     "execution_count": 45,
     "metadata": {},
     "output_type": "execute_result"
    }
   ],
   "source": [
    "stats.tstd(censo.Edad)"
   ]
  },
  {
   "cell_type": "code",
   "execution_count": 47,
   "metadata": {},
   "outputs": [
    {
     "data": {
      "text/plain": [
       "11.859895704788336"
      ]
     },
     "execution_count": 47,
     "metadata": {},
     "output_type": "execute_result"
    }
   ],
   "source": [
    "stats.variation(censo.Edad)*100"
   ]
  },
  {
   "cell_type": "code",
   "execution_count": 48,
   "metadata": {},
   "outputs": [
    {
     "data": {
      "text/html": [
       "<div>\n",
       "<style scoped>\n",
       "    .dataframe tbody tr th:only-of-type {\n",
       "        vertical-align: middle;\n",
       "    }\n",
       "\n",
       "    .dataframe tbody tr th {\n",
       "        vertical-align: top;\n",
       "    }\n",
       "\n",
       "    .dataframe thead th {\n",
       "        text-align: right;\n",
       "    }\n",
       "</style>\n",
       "<table border=\"1\" class=\"dataframe\">\n",
       "  <thead>\n",
       "    <tr style=\"text-align: right;\">\n",
       "      <th></th>\n",
       "      <th>Edad</th>\n",
       "      <th>Estatura</th>\n",
       "      <th>Peso</th>\n",
       "      <th>Año</th>\n",
       "      <th>Estrato</th>\n",
       "    </tr>\n",
       "  </thead>\n",
       "  <tbody>\n",
       "    <tr>\n",
       "      <th>count</th>\n",
       "      <td>23.000000</td>\n",
       "      <td>23.000000</td>\n",
       "      <td>23.000000</td>\n",
       "      <td>23.000000</td>\n",
       "      <td>23.000000</td>\n",
       "    </tr>\n",
       "    <tr>\n",
       "      <th>mean</th>\n",
       "      <td>23.565217</td>\n",
       "      <td>1.757826</td>\n",
       "      <td>75.347826</td>\n",
       "      <td>1997.565217</td>\n",
       "      <td>2.434783</td>\n",
       "    </tr>\n",
       "    <tr>\n",
       "      <th>std</th>\n",
       "      <td>2.857623</td>\n",
       "      <td>0.047093</td>\n",
       "      <td>9.422452</td>\n",
       "      <td>2.889260</td>\n",
       "      <td>1.036870</td>\n",
       "    </tr>\n",
       "    <tr>\n",
       "      <th>min</th>\n",
       "      <td>20.000000</td>\n",
       "      <td>1.670000</td>\n",
       "      <td>56.000000</td>\n",
       "      <td>1989.000000</td>\n",
       "      <td>1.000000</td>\n",
       "    </tr>\n",
       "    <tr>\n",
       "      <th>25%</th>\n",
       "      <td>22.000000</td>\n",
       "      <td>1.730000</td>\n",
       "      <td>70.000000</td>\n",
       "      <td>1997.000000</td>\n",
       "      <td>2.000000</td>\n",
       "    </tr>\n",
       "    <tr>\n",
       "      <th>50%</th>\n",
       "      <td>23.000000</td>\n",
       "      <td>1.760000</td>\n",
       "      <td>75.000000</td>\n",
       "      <td>1998.000000</td>\n",
       "      <td>2.000000</td>\n",
       "    </tr>\n",
       "    <tr>\n",
       "      <th>75%</th>\n",
       "      <td>24.500000</td>\n",
       "      <td>1.800000</td>\n",
       "      <td>80.000000</td>\n",
       "      <td>1999.000000</td>\n",
       "      <td>3.000000</td>\n",
       "    </tr>\n",
       "    <tr>\n",
       "      <th>max</th>\n",
       "      <td>32.000000</td>\n",
       "      <td>1.840000</td>\n",
       "      <td>98.000000</td>\n",
       "      <td>2001.000000</td>\n",
       "      <td>5.000000</td>\n",
       "    </tr>\n",
       "  </tbody>\n",
       "</table>\n",
       "</div>"
      ],
      "text/plain": [
       "            Edad   Estatura       Peso          Año    Estrato\n",
       "count  23.000000  23.000000  23.000000    23.000000  23.000000\n",
       "mean   23.565217   1.757826  75.347826  1997.565217   2.434783\n",
       "std     2.857623   0.047093   9.422452     2.889260   1.036870\n",
       "min    20.000000   1.670000  56.000000  1989.000000   1.000000\n",
       "25%    22.000000   1.730000  70.000000  1997.000000   2.000000\n",
       "50%    23.000000   1.760000  75.000000  1998.000000   2.000000\n",
       "75%    24.500000   1.800000  80.000000  1999.000000   3.000000\n",
       "max    32.000000   1.840000  98.000000  2001.000000   5.000000"
      ]
     },
     "execution_count": 48,
     "metadata": {},
     "output_type": "execute_result"
    }
   ],
   "source": [
    "censo.describe()"
   ]
  },
  {
   "cell_type": "code",
   "execution_count": null,
   "metadata": {},
   "outputs": [],
   "source": [
    "## Resumen descriptivo \n",
    "### Media \n",
    "## Mediana \n",
    "# . \n",
    "# . \n",
    "# . "
   ]
  },
  {
   "cell_type": "code",
   "execution_count": 49,
   "metadata": {},
   "outputs": [],
   "source": [
    "import matplotlib.pyplot as plt "
   ]
  },
  {
   "cell_type": "code",
   "execution_count": 66,
   "metadata": {},
   "outputs": [
    {
     "data": {
      "image/png": "[encoded data removed]",
      "text/plain": [
       "<Figure size 432x288 with 1 Axes>"
      ]
     },
     "metadata": {
      "needs_background": "light"
     },
     "output_type": "display_data"
    }
   ],
   "source": [
    "plt.boxplot(censo.Edad, flierprops= dict(markerfacecolor = 'r', marker='D'));"
   ]
  },
  {
   "cell_type": "code",
   "execution_count": 55,
   "metadata": {},
   "outputs": [
    {
     "name": "stdout",
     "output_type": "stream",
     "text": [
      "Los bigotes serán 29.0 y 17.799999999999997\n"
     ]
    }
   ],
   "source": [
    "cuartiles\n",
    "q3 = cuartiles[2]\n",
    "q1 = cuartiles[0]\n",
    "\n",
    "ICR = q3-q1 \n",
    "maxb = q3+1.5*ICR\n",
    "minb = q1-1.5*ICR\n",
    "\n",
    "print(f\"Los bigotes serán {maxb} y {minb}\")"
   ]
  },
  {
   "cell_type": "code",
   "execution_count": 59,
   "metadata": {},
   "outputs": [
    {
     "data": {
      "image/png": "[encoded data removed]",
      "text/plain": [
       "<Figure size 432x288 with 1 Axes>"
      ]
     },
     "metadata": {
      "needs_background": "light"
     },
     "output_type": "display_data"
    }
   ],
   "source": [
    "plt.boxplot(censo.Estatura, notch=True);"
   ]
  }
 ],
 "metadata": {
  "kernelspec": {
   "display_name": "Python 3",
   "language": "python",
   "name": "python3"
  },
  "language_info": {
   "codemirror_mode": {
    "name": "ipython",
    "version": 3
   },
   "file_extension": ".py",
   "mimetype": "text/x-python",
   "name": "python",
   "nbconvert_exporter": "python",
   "pygments_lexer": "ipython3",
   "version": "3.7.6"
  }
 },
 "nbformat": 4,
 "nbformat_minor": 4
}
