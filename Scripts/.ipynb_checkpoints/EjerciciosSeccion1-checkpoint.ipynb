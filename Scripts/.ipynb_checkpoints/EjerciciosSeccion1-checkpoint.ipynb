{
 "cells": [
  {
   "cell_type": "markdown",
   "metadata": {
    "id": "yCtxQ09rGmwt"
   },
   "source": [
    "### *Ejercicios 1 - PRIMEROS PASOS CON PYTHON*\n",
    "\n"
   ]
  },
  {
   "cell_type": "markdown",
   "metadata": {
    "id": "hDte1i_gFr6a"
   },
   "source": [
    "1. Escribir un programa que muestre por pantalla la cadena ¡Hola Mundo!."
   ]
  },
  {
   "cell_type": "code",
   "execution_count": 1,
   "metadata": {},
   "outputs": [
    {
     "name": "stdout",
     "output_type": "stream",
     "text": [
      "Hola mundo\n"
     ]
    }
   ],
   "source": [
    "print('Hola mundo')"
   ]
  },
  {
   "cell_type": "markdown",
   "metadata": {
    "id": "dddkTMfTGBTH"
   },
   "source": [
    "2. Escribir un programa que almacene la cadena ¡Hola Mundo! en una variable y luego muestre por pantalla el contenido de la variable."
   ]
  },
  {
   "cell_type": "code",
   "execution_count": 3,
   "metadata": {},
   "outputs": [
    {
     "name": "stdout",
     "output_type": "stream",
     "text": [
      "Hola mundo\n"
     ]
    }
   ],
   "source": [
    "saludo = 'Hola mundo'\n",
    "print(saludo)"
   ]
  },
  {
   "cell_type": "markdown",
   "metadata": {
    "id": "0Q129LY5GEgJ"
   },
   "source": [
    "3. Escribir un programa que pregunte el nombre del usuario en la consola y después de que el usuario lo introduzca muestre por pantalla la cadena ¡Hola X!, donde X es el nombre que el usuario haya introducido.\n",
    "\n"
   ]
  },
  {
   "cell_type": "code",
   "execution_count": 4,
   "metadata": {},
   "outputs": [
    {
     "name": "stdout",
     "output_type": "stream",
     "text": [
      "¿Cual es tu nombre?Fabio\n",
      "¡Hola Fabio !\n"
     ]
    }
   ],
   "source": [
    "nombre = input('¿Cual es tu nombre?')\n",
    "print('¡Hola', nombre,'!') #Concatenacion "
   ]
  },
  {
   "cell_type": "markdown",
   "metadata": {
    "id": "bs75ezVBGJoQ"
   },
   "source": [
    "5. Escribe un programa que pregunte al usuario por el número de horas trabajadas y el coste por hora. Después debe mostrar por pantalla la paga que le corresponde. \n",
    "\n"
   ]
  },
  {
   "cell_type": "code",
   "execution_count": 11,
   "metadata": {},
   "outputs": [
    {
     "name": "stdout",
     "output_type": "stream",
     "text": [
      "¿Cuantas horas trabajaste?: 52\n",
      "¿Cual es el costo por hora?: 36000\n",
      "El salario que te corresponde es de  1872000 Pesos\n",
      "El salario que te corresponde es de 1872000 Pesos\n",
      "Hola Fabio, el salario que te corresponde es de 1872000 Pesos\n"
     ]
    }
   ],
   "source": [
    "horas = int(input('¿Cuantas horas trabajaste?: '))\n",
    "costo = int(input('¿Cual es el costo por hora?: '))\n",
    "salario = horas*costo \n",
    "\n",
    "print('El salario que te corresponde es de ', salario, 'Pesos')\n",
    "print('El salario que te corresponde es de ' + str(salario) + ' Pesos')\n",
    "print('Hola {0}, el salario que te corresponde es de {1} Pesos'.format('Fabio', salario))"
   ]
  },
  {
   "cell_type": "markdown",
   "metadata": {
    "id": "-ER8XvZ9GN_9"
   },
   "source": [
    "6. Escribir un programa que lea un entero porsitivo, $n$, introducido por el usuario y después muestre en pantalla la suma de todos los enteros desde 1 hasta $n$. La suma de los $n$ primeros enteros positivos puede ser calculada de la siguiente forma: \n",
    "\n",
    "$$ \\mbox{suma} = \\frac{n(n+1)}{2} $$"
   ]
  },
  {
   "cell_type": "code",
   "execution_count": 13,
   "metadata": {},
   "outputs": [
    {
     "name": "stdout",
     "output_type": "stream",
     "text": [
      "Ingrese el numero a calcular: 6\n",
      "La suma de el numero es de: 21.0\n"
     ]
    }
   ],
   "source": [
    "n = int(input('Ingrese el numero a calcular: '))\n",
    "suma = (n*(n+1))/2 \n",
    "print(\"La suma de el numero es de: \" + str(suma))"
   ]
  },
  {
   "cell_type": "markdown",
   "metadata": {
    "id": "2Uji_XkUGQq5"
   },
   "source": [
    "7. Escribir un programa que pida al usuario su peso (en kg) y estatura (en metros), calcule el índice de masa corporal y lo almacene en una variable, e imprima por pantalla la frase `Tu índice de masa corporal es <imc>` donde `<imc>` es el índice de masa corporal calculado redondeado con dos decimales.\n",
    "\n",
    "imc = peso/estatura^2\n"
   ]
  },
  {
   "cell_type": "code",
   "execution_count": 18,
   "metadata": {},
   "outputs": [
    {
     "name": "stdout",
     "output_type": "stream",
     "text": [
      "Ingresa tu peso en Kg: 85\n",
      "Ingresa tu estatura en metros: 1.84\n",
      "Para un peso de 85.0 kg y una estatura de 1.84 metros el IMC es de 25.11\n"
     ]
    }
   ],
   "source": [
    "peso = float(input('Ingresa tu peso en Kg: '))\n",
    "estatura = float(input('Ingresa tu estatura en metros: '))\n",
    "\n",
    "IMC = peso/(estatura**2)\n",
    "\n",
    "# funcion para redondear decimales \n",
    "rIMC = round(IMC, 2) #Solo dos digitos \n",
    "\n",
    "print('Para un peso de {0} kg y una estatura de {1} metros el IMC es de {2}'.format(peso, estatura, rIMC))\n",
    "\n"
   ]
  },
  {
   "attachments": {
    "image.png": {
     "image/png": "[encoded data removed]"
    }
   },
   "cell_type": "markdown",
   "metadata": {},
   "source": [
    "![image.png](attachment:image.png)"
   ]
  },
  {
   "cell_type": "code",
   "execution_count": 21,
   "metadata": {},
   "outputs": [
    {
     "name": "stdout",
     "output_type": "stream",
     "text": [
      "Ingresa tu peso en Kg: 96\n",
      "Ingresa tu estatura en metros: 1.85\n",
      "28.05\n",
      "El IMC es de sobrepeso\n"
     ]
    }
   ],
   "source": [
    "peso = float(input('Ingresa tu peso en Kg: '))\n",
    "estatura = float(input('Ingresa tu estatura en metros: '))\n",
    "\n",
    "IMC = peso/(estatura**2)\n",
    "\n",
    "# funcion para redondear decimales \n",
    "rIMC = round(IMC, 2) #Solo dos digitos \n",
    "print(rIMC)\n",
    "if rIMC > 18.5 and rIMC < 24.9: \n",
    "    print('El IMC es normal')\n",
    "elif rIMC > 25 and rIMC < 29.9: \n",
    "    print('El IMC es de sobrepeso')\n",
    "elif rIMC > 30 and rIMC < 40:\n",
    "    print('El IMC es de Obesidad')"
   ]
  },
  {
   "cell_type": "markdown",
   "metadata": {
    "id": "3tiVDV-1GTzx"
   },
   "source": [
    "8. Escribir un programa que pida al usuario dos números enteros y muestre por pantalla la `<n> entre <m> da un cociente <c> y un resto <r>` donde `<n>` y `<m>` son los números introducidos por el usuario, y `<c>` y `<r>` son el cociente y el resto de la división entera respectivamente."
   ]
  },
  {
   "cell_type": "code",
   "execution_count": 23,
   "metadata": {},
   "outputs": [
    {
     "name": "stdout",
     "output_type": "stream",
     "text": [
      "Ingrese el 1er numero:  9\n",
      "Ingrese el 2do numero: 8\n",
      "9 entre 8, da un cociente de 1 y un resto de 1\n"
     ]
    }
   ],
   "source": [
    "n = int(input('Ingrese el 1er numero:  '))\n",
    "m = int(input('Ingrese el 2do numero: '))\n",
    "\n",
    "c = n//m\n",
    "r = n%m\n",
    "\n",
    "print('{0} entre {1}, da un cociente de {2} y un resto de {3}'.format(n,m,c,r))"
   ]
  },
  {
   "cell_type": "markdown",
   "metadata": {
    "id": "an2jFqzHGWh0"
   },
   "source": [
    "9. Escribir un programa que pregunte al usuario una cantidad a invertir, el interés porcentual anual y el número de años, y muestre por pantalla el capital obtenido en la inversión redondeado con dos decimales.\n",
    "\n"
   ]
  },
  {
   "cell_type": "code",
   "execution_count": 29,
   "metadata": {},
   "outputs": [
    {
     "name": "stdout",
     "output_type": "stream",
     "text": [
      "Ingrese la cantidad a invertir: 569000\n",
      "Ingrese el porcentaje anual (en %): 5.2\n",
      "Ingrese el numero de años: 9\n",
      "El capital despues de 9.0 años será de 835292.0 pesos\n"
     ]
    }
   ],
   "source": [
    "cant = float(input('Ingrese la cantidad a invertir: '))\n",
    "interes = float(input('Ingrese el porcentaje anual (en %): '))\n",
    "num = float(input('Ingrese el numero de años: '))\n",
    "\n",
    "int_porc = interes/100\n",
    "\n",
    "capital = round(cant*int_porc*num,2) #Capital generado\n",
    "\n",
    "total = cant+capital # capital generado + cantidad invertida \n",
    "\n",
    "print('El capital despues de {0} años será de {1} pesos'.format(num, total))"
   ]
  },
  {
   "cell_type": "markdown",
   "metadata": {
    "id": "zhbKtVlgGdVB"
   },
   "source": [
    "10. Una juguetería tiene mucho éxito en dos de sus productos: payasos y muñecas. Suele hacer venta por correo y la empresa de logística les cobra por peso de cada paquete así que deben calcular el peso de los payasos y muñecas que saldrán en cada paquete a demanda. Cada payaso pesa 112 g y cada muñeca 75 g. Escribir un programa que lea el número de payasos y muñecas vendidos en el último pedido y calcule el peso total del paquete que será enviado.\n"
   ]
  },
  {
   "cell_type": "markdown",
   "metadata": {
    "id": "XgNNep-YDmA9"
   },
   "source": [
    "13. Escribir un programa que pregunte una palabra y devuelva el número de consonantes que tiene. "
   ]
  },
  {
   "cell_type": "code",
   "execution_count": null,
   "metadata": {},
   "outputs": [],
   "source": []
  },
  {
   "cell_type": "markdown",
   "metadata": {
    "id": "7IBh9Vz0H0RL"
   },
   "source": [
    "## TAREAS"
   ]
  },
  {
   "cell_type": "markdown",
   "metadata": {
    "id": "67sDZ97UGg12"
   },
   "source": [
    "11. Imagina que acabas de abrir una nueva cuenta de ahorros que te ofrece el 4% de interés al año. Estos ahorros debido a intereses, que no se cobran hasta finales de año, se te añaden al balance final de tu cuenta de ahorros. Escribir un programa que comience leyendo la cantidad de dinero depositada en la cuenta de ahorros, introducida por el usuario. Después el programa debe calcular y mostrar por pantalla la cantidad de ahorros tras el primer, segundo y tercer años. Redondear cada cantidad a dos decimales.  "
   ]
  },
  {
   "cell_type": "markdown",
   "metadata": {
    "id": "1HAvUhWPGji1"
   },
   "source": [
    "12. Una panadería vende barras de pan a 3.49€ cada una. El pan que no es el día tiene un descuento del 60%. Escribe un programa que comience leyendo el número de barras vendidas que no son del día. Después tu programa debe mostrar el precio habitual de una barra de pan, el descuento que se le hace por no ser fresca y el coste final total. "
   ]
  },
  {
   "cell_type": "markdown",
   "metadata": {
    "id": "abHUgYX4G9HN"
   },
   "source": [
    "# DESAFIO 2 - CADENAS CON PYTHON"
   ]
  },
  {
   "cell_type": "markdown",
   "metadata": {
    "id": "eh8fjNqTHX1U"
   },
   "source": [
    "1. Escribir un programa que pregunte el nombre del usuario en la consola y un número entero e imprima por pantalla en líneas distintas el nombre del usuario tantas veces como el número introducido."
   ]
  },
  {
   "cell_type": "code",
   "execution_count": 31,
   "metadata": {},
   "outputs": [
    {
     "name": "stdout",
     "output_type": "stream",
     "text": [
      "Ingrese su nombreFabio\n",
      "Ingrese el numero6\n",
      "Fabio\n",
      "Fabio\n",
      "Fabio\n",
      "Fabio\n",
      "Fabio\n",
      "Fabio\n",
      "\n"
     ]
    }
   ],
   "source": [
    "nombre = input('Ingrese su nombre: ')\n",
    "inter = int(input('Ingrese el numero: '))\n",
    "\n",
    "pp = (nombre+'\\n')*inter\n",
    "\n",
    "print(pp)"
   ]
  },
  {
   "cell_type": "markdown",
   "metadata": {
    "id": "uvx1vobDHrBc"
   },
   "source": [
    "2. Escribir un programa que pregunte el nombre completo del usuario en la consola y después muestre por pantalla el nombre completo del usuario tres veces, una con todas las letras minúsculas, otra con todas las letras mayúsculas y otra solo con la primera letra del nombre y de los apellidos en mayúscula. El usuario puede introducir su nombre combinando mayúsculas y minúsculas como quiera."
   ]
  },
  {
   "cell_type": "code",
   "execution_count": null,
   "metadata": {},
   "outputs": [],
   "source": [
    "nombre= input('INGRESE SU NOMBRE COMPLETO :')\n",
    "l1=nombre.upper()\n",
    "l2=nombre.lower()\n",
    "l3=nombre.title()\n",
    "print(l1)\n",
    "print(l2)\n",
    "print(l3)"
   ]
  },
  {
   "cell_type": "markdown",
   "metadata": {
    "id": "uJY9GRRMHvNy"
   },
   "source": [
    "3. Escribir un programa que pregunte el nombre del usuario en la consola y después de que el usuario lo introduzca muestre por pantalla `<NOMBRE> tiene <n> letras`, donde `<NOMBRE>` es el nombre de usuario en mayúsculas y `<n>` es el número de letras que tienen el nombre."
   ]
  },
  {
   "cell_type": "markdown",
   "metadata": {
    "id": "vrMI7n8iHx2b"
   },
   "source": [
    "4. Los teléfonos de una empresa tienen el siguiente formato prefijo-número-extension donde el prefijo es el código del país +34, y la extensión tiene dos dígitos (por ejemplo +34-913724710-56). Escribir un programa que pregunte por un número de teléfono con este formato en la consola y muestre por pantalla el número de teléfono sin el prefijo y la extensión."
   ]
  },
  {
   "cell_type": "markdown",
   "metadata": {
    "id": "jArKcCgoIP_w"
   },
   "source": [
    "5. Escribir un programa que pida al usuario que introduzca una frase en la consola y muestre por pantalla la frase invertida.\n"
   ]
  },
  {
   "cell_type": "markdown",
   "metadata": {
    "id": "VP4qSKqdIWps"
   },
   "source": [
    "## TAREAS "
   ]
  },
  {
   "cell_type": "markdown",
   "metadata": {
    "id": "Ec6w3Yi_IhLs"
   },
   "source": [
    "# DESAFIO 3 - CONDICIONALES"
   ]
  },
  {
   "cell_type": "markdown",
   "metadata": {
    "id": "fJfv_ZcUJx95"
   },
   "source": [
    "1. Escribir un programa que pregunte al usuario su edad y muestre por pantalla si es mayor de edad o no."
   ]
  },
  {
   "cell_type": "markdown",
   "metadata": {
    "id": "1YQWer_PJzDw"
   },
   "source": [
    "2. Escribir un programa que almacene la cadena de caracteres `contraseña` en una variable, pregunte al usuario por la contraseña e imprima por pantalla si la contraseña introducida por el usuario coincide con la guardada en la variable sin tener en cuenta mayúsculas y minúsculas."
   ]
  },
  {
   "cell_type": "code",
   "execution_count": 37,
   "metadata": {},
   "outputs": [
    {
     "name": "stdout",
     "output_type": "stream",
     "text": [
      "Ingrese la contraseña: TCS2022.\n",
      "Contraseña correcta!\n"
     ]
    }
   ],
   "source": [
    "contra = 'tcs2022.'\n",
    "contra_normalizada = contra.lower()\n",
    "prueba = input('Ingrese la contraseña: ')\n",
    "prueba_normalizada = prueba.lower()\n",
    "\n",
    "if prueba_normalizada == contra_normalizada: \n",
    "    print('Contraseña correcta!')\n",
    "else: \n",
    "    print('Contraseña incorrecta!')"
   ]
  },
  {
   "cell_type": "markdown",
   "metadata": {
    "id": "8B3hy6oVJ4uo"
   },
   "source": [
    "3. Escribir un programa que pida al usuario un número entero y muestre por pantalla si es par o impar."
   ]
  },
  {
   "cell_type": "code",
   "execution_count": null,
   "metadata": {},
   "outputs": [],
   "source": [
    "numero = int(input('Ingrese un Numero Entero: '))\n",
    "if numero % 2 == 0:\n",
    "    print('El Numero {0} es Par'.format(numero))\n",
    "else:\n",
    "    print('El Numero {0} es Impar'.format(numero))"
   ]
  },
  {
   "cell_type": "markdown",
   "metadata": {
    "id": "AbOYQ5JU3nlg"
   },
   "source": [
    "4.1 Escribir un programa que pida al usuario un número y muestre por pantalla si es primo"
   ]
  },
  {
   "cell_type": "markdown",
   "metadata": {
    "id": "7AgSRPEmJ7N6"
   },
   "source": [
    "5. Para tributar un determinado impuesto se debe ser mayor de 16 años y tener unos ingresos superiores a 1000 € mensuales.\n",
    "Escribir un programa que pregunte al usuario su edad y sus ingresos mensuales y muestre por pantalla si el usuario tiene que tributar o no."
   ]
  },
  {
   "cell_type": "code",
   "execution_count": 32,
   "metadata": {},
   "outputs": [
    {
     "name": "stdout",
     "output_type": "stream",
     "text": [
      "Ingrese su edad: 56\n",
      "Ingrese sus ingresos: 6565\n",
      "Esta obligado a tributar\n"
     ]
    }
   ],
   "source": [
    "edad = int(input('Ingrese su edad: '))\n",
    "ingresos = float(input('Ingrese sus ingresos: '))\n",
    "if edad > 16 and ingresos > 1000:\n",
    "    print('Esta obligado a tributar')\n",
    "else:\n",
    "    print('No esta obligado a tributar')"
   ]
  },
  {
   "cell_type": "markdown",
   "metadata": {
    "id": "Bgie-AAUJ-pd"
   },
   "source": [
    "### TAREAS "
   ]
  },
  {
   "cell_type": "markdown",
   "metadata": {
    "id": "LSNPddGmKAvm"
   },
   "source": [
    "6. Los alumnos de un curso se han dividido en dos grupos A y B de acuerdo al sexo y el nombre. El grupo A esta formado por las mujeres con un nombre anterior a la M y los hombres con un nombre posterior a la N y el grupo B por el resto. Escribir un programa que pregunte al usuario su nombre y sexo, y muestre por pantalla el grupo que le corresponde."
   ]
  },
  {
   "cell_type": "markdown",
   "metadata": {
    "id": "Sdre5nUxKFHy"
   },
   "source": [
    "7. Los tramos impositivos para la declaración de la renta en un determinado país son los siguientes:\n",
    "![1.PNG](data:image/png;base64,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)\n",
    "\n",
    "\n",
    "Escribir un programa que pregunte al usuario su renta anual y muestre por pantalla el tipo impositivo que le corresponde."
   ]
  },
  {
   "cell_type": "markdown",
   "metadata": {
    "id": "myrrYYyvLE1t"
   },
   "source": [
    "8. Escribir un programa para una empresa que tiene salas de juegos para todas las edades y quiere calcular de forma automática el precio que debe cobrar a sus clientes por entrar.\n",
    "El programa debe preguntar al usuario la edad del cliente y mostrar el precio de la entrada.\n",
    "Si el cliente es menor de 4 años puede entrar gratis, si tiene entre 4 y 18 años debe pagar 5€ y si es mayor de 18 años, 10€.\n"
   ]
  },
  {
   "cell_type": "markdown",
   "metadata": {
    "id": "aZLfhQwqLF5E"
   },
   "source": [
    "9. La pizzería Bella Napoli ofrece pizzas vegetarianas y no vegetarianas a sus clientes. Los ingredientes para cada tipo de pizza aparecen a continuación. Ingredientes vegetarianos: Pimiento y tofu.\n",
    "Ingredientes no vegetarianos: Peperoni, Jamón y Salmón.\n",
    "Escribir un programa que pregunte al usuario si quiere una pizza vegetariana o no, y en función de su respuesta le muestre un menú con los ingredientes disponibles para que elija. Solo se puede eligir un ingrediente además de la mozzarella y el tomate que están en todas la pizzas. Al final se debe mostrar por pantalla si la pizza elegida es vegetariana o no y todos los ingredientes que lleva."
   ]
  }
 ],
 "metadata": {
  "colab": {
   "collapsed_sections": [
    "VP4qSKqdIWps"
   ],
   "name": "TALLER-PYTHON-TCS.ipynb",
   "provenance": []
  },
  "kernelspec": {
   "display_name": "Python 3",
   "language": "python",
   "name": "python3"
  },
  "language_info": {
   "codemirror_mode": {
    "name": "ipython",
    "version": 3
   },
   "file_extension": ".py",
   "mimetype": "text/x-python",
   "name": "python",
   "nbconvert_exporter": "python",
   "pygments_lexer": "ipython3",
   "version": "3.7.6"
  }
 },
 "nbformat": 4,
 "nbformat_minor": 1
}
