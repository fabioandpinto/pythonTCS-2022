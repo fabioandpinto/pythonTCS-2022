{
 "cells": [
  {
   "cell_type": "markdown",
   "metadata": {},
   "source": [
    "## SESION I - INTRODUCCION "
   ]
  },
  {
   "cell_type": "markdown",
   "metadata": {},
   "source": [
    "### Primeros pasos"
   ]
  },
  {
   "cell_type": "code",
   "execution_count": 2,
   "metadata": {},
   "outputs": [
    {
     "name": "stdout",
     "output_type": "stream",
     "text": [
      "Hola mundo con Python\n"
     ]
    }
   ],
   "source": [
    "## Hola mundo \n",
    "print('Hola mundo con Python')"
   ]
  },
  {
   "cell_type": "markdown",
   "metadata": {},
   "source": [
    "### Variables y tipos de datos "
   ]
  },
  {
   "cell_type": "markdown",
   "metadata": {},
   "source": [
    "Primitivos \n",
    "* Numbers: secuencias de digitos. \n",
    "* Strings: secuencia de caracteres (alfanumericos)\n",
    "* Booleanos: dos valores - True - False \n",
    "\n",
    "Compuestos(estructuras)\n",
    "* Listas \n",
    "* Tuplas \n",
    "* Diccionarios \n",
    "* Dataframes y Series "
   ]
  },
  {
   "cell_type": "code",
   "execution_count": 8,
   "metadata": {},
   "outputs": [
    {
     "name": "stdout",
     "output_type": "stream",
     "text": [
      "<class 'int'>\n",
      "<class 'str'>\n"
     ]
    }
   ],
   "source": [
    "# type \n",
    "numero = 5 \n",
    "print(type(numero))\n",
    "\n",
    "# tipado dinamico? \n",
    "numero = \"Hola\"\n",
    "print(type(numero))"
   ]
  },
  {
   "cell_type": "code",
   "execution_count": 9,
   "metadata": {},
   "outputs": [
    {
     "data": {
      "text/plain": [
       "list"
      ]
     },
     "execution_count": 9,
     "metadata": {},
     "output_type": "execute_result"
    }
   ],
   "source": [
    "type([5.6, 5 , True, 'Hola'])\n",
    "#Lista es un arreglo que recibe diferentes tipos de datos "
   ]
  },
  {
   "cell_type": "code",
   "execution_count": 12,
   "metadata": {},
   "outputs": [
    {
     "name": "stdout",
     "output_type": "stream",
     "text": [
      "<class 'int'>\n",
      "<class 'float'>\n"
     ]
    }
   ],
   "source": [
    "# Int or Float \n",
    "print(type(5)) # int\n",
    "print(type(5.6)) # float "
   ]
  },
  {
   "cell_type": "markdown",
   "metadata": {},
   "source": [
    "### Operaciones "
   ]
  },
  {
   "cell_type": "markdown",
   "metadata": {},
   "source": [
    "#### Operadores aritméticos"
   ]
  },
  {
   "cell_type": "code",
   "execution_count": 29,
   "metadata": {},
   "outputs": [
    {
     "name": "stdout",
     "output_type": "stream",
     "text": [
      "2\n",
      "0\n",
      "8\n"
     ]
    }
   ],
   "source": [
    "# Esto es un comentario \n",
    "# suma + \n",
    "# multiplicacion *\n",
    "# division /\n",
    "# resta -\n",
    "\n",
    "# division entera - parte entera de la division // \n",
    "print(5//2)\n",
    "\n",
    "# Residuo  - %\n",
    "# Si x%y = 0 es porque x es multiplo de y \n",
    "print(56%8)\n",
    "\n",
    "# Potencia - ** \n",
    "print(2**3)\n",
    "\n"
   ]
  },
  {
   "cell_type": "markdown",
   "metadata": {},
   "source": [
    "Operadores de comparación "
   ]
  },
  {
   "cell_type": "code",
   "execution_count": 34,
   "metadata": {},
   "outputs": [
    {
     "name": "stdout",
     "output_type": "stream",
     "text": [
      "True\n",
      "False\n",
      "True\n",
      "True\n"
     ]
    }
   ],
   "source": [
    "# igual que - ==\n",
    "print(2 == 2)\n",
    "# mayor que - > -- >= \n",
    "print(2>5)\n",
    "# menor que - < -- <= \n",
    "print(2<5)\n",
    "# distinto de != \n",
    "print(2!=5)\n"
   ]
  },
  {
   "cell_type": "markdown",
   "metadata": {},
   "source": [
    "### Cadenas de texto (str)\n",
    "\n",
    "'' o \"\" "
   ]
  },
  {
   "cell_type": "code",
   "execution_count": 46,
   "metadata": {},
   "outputs": [
    {
     "name": "stdout",
     "output_type": "stream",
     "text": [
      "Hola\n",
      "123\n",
      "'Hola'\n",
      "\n",
      "\n",
      " \t Hola\n"
     ]
    }
   ],
   "source": [
    "print(\"Hola\")\n",
    "print('123')\n",
    "print(\"'Hola'\")\n",
    "print('\\n')\n",
    "print(\" \\t Hola\")"
   ]
  },
  {
   "cell_type": "code",
   "execution_count": 54,
   "metadata": {},
   "outputs": [
    {
     "data": {
      "text/plain": [
       "22"
      ]
     },
     "execution_count": 54,
     "metadata": {},
     "output_type": "execute_result"
    }
   ],
   "source": [
    "# Todo string es un arreglo \n",
    "\n",
    "nombre = 'Esternocleidomastoideo'\n",
    "#         01234\n",
    "#       -5 -4 -3 -2 -1\n",
    "# str[i]\n",
    "\n",
    "# substrings \n",
    "nombre[-3] \n",
    "nombre[1:9]\n",
    "\n",
    "# ¿como puedo obtener el tamaño deun string? \n",
    "len(nombre)"
   ]
  },
  {
   "cell_type": "code",
   "execution_count": 63,
   "metadata": {},
   "outputs": [
    {
     "data": {
      "text/plain": [
       "False"
      ]
     },
     "execution_count": 63,
     "metadata": {},
     "output_type": "execute_result"
    }
   ],
   "source": [
    "# Operaciones con cadenas \n",
    "# str1 + str2 \n",
    "nombre = 'lucho'\n",
    "apellido = 'puentes'\n",
    "\n",
    "#suma\n",
    "nombre+apellido\n",
    "\n",
    "#multiplicacion\n",
    "nombre*3\n",
    "\n",
    "# validaciones \n",
    "organo = 'Esternocleidomastoideo'\n",
    "'cle' in organo\n",
    "'cre' not in organo\n",
    "\n",
    "# == \n",
    "# > \n",
    "# <\n",
    "'Python' == 'python'"
   ]
  },
  {
   "cell_type": "markdown",
   "metadata": {},
   "source": [
    "##### Funciones con strings"
   ]
  },
  {
   "cell_type": "code",
   "execution_count": 64,
   "metadata": {},
   "outputs": [
    {
     "data": {
      "text/plain": [
       "22"
      ]
     },
     "execution_count": 64,
     "metadata": {},
     "output_type": "execute_result"
    }
   ],
   "source": [
    "# numero de caracteres\n",
    "len(organo)"
   ]
  },
  {
   "cell_type": "code",
   "execution_count": 66,
   "metadata": {},
   "outputs": [
    {
     "data": {
      "text/plain": [
       "'E'"
      ]
     },
     "execution_count": 66,
     "metadata": {},
     "output_type": "execute_result"
    }
   ],
   "source": [
    "# minimo \n",
    "min(organo)"
   ]
  },
  {
   "cell_type": "code",
   "execution_count": 68,
   "metadata": {},
   "outputs": [
    {
     "data": {
      "text/plain": [
       "'t'"
      ]
     },
     "execution_count": 68,
     "metadata": {},
     "output_type": "execute_result"
    }
   ],
   "source": [
    "# maximo \n",
    "max(organo)"
   ]
  },
  {
   "cell_type": "code",
   "execution_count": 71,
   "metadata": {},
   "outputs": [
    {
     "data": {
      "text/plain": [
       "'ESTERNOCLEIDOMASTOIDEO'"
      ]
     },
     "execution_count": 71,
     "metadata": {},
     "output_type": "execute_result"
    }
   ],
   "source": [
    "# mayusculas \n",
    "organo.upper()"
   ]
  },
  {
   "cell_type": "code",
   "execution_count": 73,
   "metadata": {},
   "outputs": [
    {
     "data": {
      "text/plain": [
       "'esternocleidomastoideo'"
      ]
     },
     "execution_count": 73,
     "metadata": {},
     "output_type": "execute_result"
    }
   ],
   "source": [
    "# minusculas\n",
    "organo.lower()"
   ]
  },
  {
   "cell_type": "code",
   "execution_count": 75,
   "metadata": {},
   "outputs": [
    {
     "data": {
      "text/plain": [
       "'Esternocleidomastoideo'"
      ]
     },
     "execution_count": 75,
     "metadata": {},
     "output_type": "execute_result"
    }
   ],
   "source": [
    "# titulo\n",
    "organo.title()"
   ]
  },
  {
   "cell_type": "code",
   "execution_count": 76,
   "metadata": {},
   "outputs": [
    {
     "data": {
      "text/plain": [
       "['Esternocle', 'domasto', 'deo']"
      ]
     },
     "execution_count": 76,
     "metadata": {},
     "output_type": "execute_result"
    }
   ],
   "source": [
    "# split \n",
    "organo.split('i') # dividiendo el arreglo string "
   ]
  }
 ],
 "metadata": {
  "kernelspec": {
   "display_name": "Python 3",
   "language": "python",
   "name": "python3"
  },
  "language_info": {
   "codemirror_mode": {
    "name": "ipython",
    "version": 3
   },
   "file_extension": ".py",
   "mimetype": "text/x-python",
   "name": "python",
   "nbconvert_exporter": "python",
   "pygments_lexer": "ipython3",
   "version": "3.7.6"
  }
 },
 "nbformat": 4,
 "nbformat_minor": 4
}
